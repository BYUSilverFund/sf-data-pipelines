{
 "cells": [
  {
   "cell_type": "code",
   "execution_count": 21,
   "metadata": {},
   "outputs": [],
   "source": [
    "from pipelines.utils.database import Database\n",
    "import polars as pl"
   ]
  },
  {
   "cell_type": "code",
   "execution_count": 22,
   "metadata": {},
   "outputs": [
    {
     "data": {
      "text/html": [
       "<div><style>\n",
       ".dataframe > thead > tr,\n",
       ".dataframe > tbody > tr {\n",
       "  text-align: right;\n",
       "  white-space: pre-wrap;\n",
       "}\n",
       "</style>\n",
       "<small>shape: (6_470_358, 29)</small><table border=\"1\" class=\"dataframe\"><thead><tr><th>date</th><th>rootid</th><th>barrid</th><th>cins</th><th>cusip</th><th>isin</th><th>localid</th><th>ticker</th><th>name</th><th>instrument</th><th>issuerid</th><th>iso_country_code</th><th>iso_currency_code</th><th>price</th><th>market_cap</th><th>price_source</th><th>currency</th><th>return</th><th>specific_return</th><th>yield</th><th>total_risk</th><th>specific_risk</th><th>historical_beta</th><th>predicted_beta</th><th>russell_2000</th><th>russell_1000</th><th>russell_3000_weight</th><th>russell_2000_weight</th><th>russell_1000_weight</th></tr><tr><td>date</td><td>str</td><td>str</td><td>str</td><td>str</td><td>str</td><td>str</td><td>str</td><td>str</td><td>str</td><td>str</td><td>str</td><td>str</td><td>f64</td><td>f64</td><td>str</td><td>str</td><td>f64</td><td>f64</td><td>f64</td><td>f64</td><td>f64</td><td>f64</td><td>f64</td><td>bool</td><td>bool</td><td>f64</td><td>f64</td><td>f64</td></tr></thead><tbody><tr><td>2024-01-02</td><td>&quot;USBDK11&quot;</td><td>&quot;ARGA1B1&quot;</td><td>null</td><td>null</td><td>null</td><td>null</td><td>null</td><td>&quot;SNAP INC&quot;</td><td>&quot;GDR&quot;</td><td>&quot;119945&quot;</td><td>&quot;ARG&quot;</td><td>&quot;ARS&quot;</td><td>15788.0</td><td>2.1981e13</td><td>&quot;MSCIBARRA&quot;</td><td>&quot;ARS&quot;</td><td>-4.8916</td><td>-1.422</td><td>0.0</td><td>66.818406</td><td>52.431842</td><td>1.395039</td><td>1.724306</td><td>null</td><td>null</td><td>null</td><td>null</td><td>null</td></tr><tr><td>2024-01-02</td><td>&quot;USAPQX1&quot;</td><td>&quot;ARGA1G1&quot;</td><td>null</td><td>null</td><td>null</td><td>null</td><td>null</td><td>&quot;STARBUCKS CORP&quot;</td><td>&quot;GDR&quot;</td><td>&quot;A36353&quot;</td><td>&quot;ARG&quot;</td><td>&quot;ARS&quot;</td><td>23548.0</td><td>1.0707e14</td><td>&quot;MSCIBARRA&quot;</td><td>&quot;ARS&quot;</td><td>-0.0849</td><td>1.937</td><td>2.374753</td><td>53.532052</td><td>44.411108</td><td>0.561386</td><td>1.04126</td><td>null</td><td>null</td><td>null</td><td>null</td><td>null</td></tr><tr><td>2024-01-02</td><td>&quot;USAGMM1&quot;</td><td>&quot;ARGA1K1&quot;</td><td>null</td><td>null</td><td>null</td><td>null</td><td>null</td><td>&quot;HERSHEY CO&quot;</td><td>&quot;GDR&quot;</td><td>&quot;A19039&quot;</td><td>&quot;ARG&quot;</td><td>&quot;ARS&quot;</td><td>9120.0</td><td>2.8700e13</td><td>&quot;MSCIBARRA&quot;</td><td>&quot;ARS&quot;</td><td>4.8276</td><td>4.16</td><td>2.557391</td><td>46.354137</td><td>40.374249</td><td>0.31918</td><td>0.631024</td><td>null</td><td>null</td><td>null</td><td>null</td><td>null</td></tr><tr><td>2024-01-02</td><td>&quot;USBFD81&quot;</td><td>&quot;ARGA621&quot;</td><td>null</td><td>null</td><td>null</td><td>null</td><td>null</td><td>&quot;UPSTART HOLDINGS INC&quot;</td><td>&quot;GDR&quot;</td><td>&quot;129249&quot;</td><td>&quot;ARG&quot;</td><td>&quot;ARS&quot;</td><td>7800.0</td><td>3.2716e12</td><td>&quot;MSCIBARRA&quot;</td><td>&quot;ARS&quot;</td><td>-3.7037</td><td>0.225</td><td>0.0</td><td>100.773946</td><td>88.140518</td><td>1.884395</td><td>2.162143</td><td>null</td><td>null</td><td>null</td><td>null</td><td>null</td></tr><tr><td>2024-01-02</td><td>&quot;USBEPQ1&quot;</td><td>&quot;ARGA631&quot;</td><td>null</td><td>null</td><td>null</td><td>null</td><td>null</td><td>&quot;UBER TECHNOLOGIES INC&quot;</td><td>&quot;GDR&quot;</td><td>&quot;125821&quot;</td><td>&quot;ARG&quot;</td><td>&quot;ARS&quot;</td><td>29100.0</td><td>1.1977e14</td><td>&quot;MSCIBARRA&quot;</td><td>&quot;ARS&quot;</td><td>-3.5482</td><td>-0.276</td><td>0.0</td><td>56.787616</td><td>44.171036</td><td>1.170559</td><td>1.489842</td><td>null</td><td>null</td><td>null</td><td>null</td><td>null</td></tr><tr><td>&hellip;</td><td>&hellip;</td><td>&hellip;</td><td>&hellip;</td><td>&hellip;</td><td>&hellip;</td><td>&hellip;</td><td>&hellip;</td><td>&hellip;</td><td>&hellip;</td><td>&hellip;</td><td>&hellip;</td><td>&hellip;</td><td>&hellip;</td><td>&hellip;</td><td>&hellip;</td><td>&hellip;</td><td>&hellip;</td><td>&hellip;</td><td>&hellip;</td><td>&hellip;</td><td>&hellip;</td><td>&hellip;</td><td>&hellip;</td><td>&hellip;</td><td>&hellip;</td><td>&hellip;</td><td>&hellip;</td><td>&hellip;</td></tr><tr><td>2025-03-07</td><td>null</td><td>&quot;USBQZG1&quot;</td><td>null</td><td>null</td><td>null</td><td>null</td><td>null</td><td>null</td><td>null</td><td>null</td><td>null</td><td>null</td><td>15.65</td><td>2.073625e8</td><td>&quot;MSCIBARRA&quot;</td><td>&quot;USD&quot;</td><td>2.3545</td><td>null</td><td>null</td><td>null</td><td>null</td><td>null</td><td>null</td><td>null</td><td>null</td><td>null</td><td>null</td><td>null</td></tr><tr><td>2025-03-07</td><td>null</td><td>&quot;USBQZQ1&quot;</td><td>null</td><td>null</td><td>null</td><td>null</td><td>null</td><td>null</td><td>null</td><td>null</td><td>null</td><td>null</td><td>6.68</td><td>9.9442e7</td><td>&quot;MSCIBARRA&quot;</td><td>&quot;USD&quot;</td><td>7.0513</td><td>null</td><td>null</td><td>null</td><td>null</td><td>null</td><td>null</td><td>null</td><td>null</td><td>null</td><td>null</td><td>null</td></tr><tr><td>2025-03-07</td><td>null</td><td>&quot;USBQZR1&quot;</td><td>null</td><td>null</td><td>null</td><td>null</td><td>null</td><td>null</td><td>null</td><td>null</td><td>null</td><td>null</td><td>16.14</td><td>6.5996e8</td><td>&quot;MSCIBARRA&quot;</td><td>&quot;USD&quot;</td><td>-9.3768</td><td>null</td><td>null</td><td>null</td><td>null</td><td>null</td><td>null</td><td>null</td><td>null</td><td>null</td><td>null</td><td>null</td></tr><tr><td>2025-03-07</td><td>null</td><td>&quot;USBQZV1&quot;</td><td>null</td><td>null</td><td>null</td><td>null</td><td>null</td><td>null</td><td>null</td><td>null</td><td>null</td><td>null</td><td>0.8321</td><td>4.8533e8</td><td>&quot;MSCIBARRA&quot;</td><td>&quot;USD&quot;</td><td>0.0</td><td>null</td><td>null</td><td>null</td><td>null</td><td>null</td><td>null</td><td>null</td><td>null</td><td>null</td><td>null</td><td>null</td></tr><tr><td>2025-03-07</td><td>null</td><td>&quot;USBQZX1&quot;</td><td>null</td><td>null</td><td>null</td><td>null</td><td>null</td><td>null</td><td>null</td><td>null</td><td>null</td><td>null</td><td>0.3828</td><td>2.75616e6</td><td>&quot;MSCIBARRA&quot;</td><td>&quot;USD&quot;</td><td>0.0</td><td>null</td><td>null</td><td>null</td><td>null</td><td>null</td><td>null</td><td>null</td><td>null</td><td>null</td><td>null</td><td>null</td></tr></tbody></table></div>"
      ],
      "text/plain": [
       "shape: (6_470_358, 29)\n",
       "┌────────────┬─────────┬─────────┬──────┬───┬─────────────┬─────────────┬─────────────┬────────────┐\n",
       "│ date       ┆ rootid  ┆ barrid  ┆ cins ┆ … ┆ russell_100 ┆ russell_300 ┆ russell_200 ┆ russell_10 │\n",
       "│ ---        ┆ ---     ┆ ---     ┆ ---  ┆   ┆ 0           ┆ 0_weight    ┆ 0_weight    ┆ 00_weight  │\n",
       "│ date       ┆ str     ┆ str     ┆ str  ┆   ┆ ---         ┆ ---         ┆ ---         ┆ ---        │\n",
       "│            ┆         ┆         ┆      ┆   ┆ bool        ┆ f64         ┆ f64         ┆ f64        │\n",
       "╞════════════╪═════════╪═════════╪══════╪═══╪═════════════╪═════════════╪═════════════╪════════════╡\n",
       "│ 2024-01-02 ┆ USBDK11 ┆ ARGA1B1 ┆ null ┆ … ┆ null        ┆ null        ┆ null        ┆ null       │\n",
       "│ 2024-01-02 ┆ USAPQX1 ┆ ARGA1G1 ┆ null ┆ … ┆ null        ┆ null        ┆ null        ┆ null       │\n",
       "│ 2024-01-02 ┆ USAGMM1 ┆ ARGA1K1 ┆ null ┆ … ┆ null        ┆ null        ┆ null        ┆ null       │\n",
       "│ 2024-01-02 ┆ USBFD81 ┆ ARGA621 ┆ null ┆ … ┆ null        ┆ null        ┆ null        ┆ null       │\n",
       "│ 2024-01-02 ┆ USBEPQ1 ┆ ARGA631 ┆ null ┆ … ┆ null        ┆ null        ┆ null        ┆ null       │\n",
       "│ …          ┆ …       ┆ …       ┆ …    ┆ … ┆ …           ┆ …           ┆ …           ┆ …          │\n",
       "│ 2025-03-07 ┆ null    ┆ USBQZG1 ┆ null ┆ … ┆ null        ┆ null        ┆ null        ┆ null       │\n",
       "│ 2025-03-07 ┆ null    ┆ USBQZQ1 ┆ null ┆ … ┆ null        ┆ null        ┆ null        ┆ null       │\n",
       "│ 2025-03-07 ┆ null    ┆ USBQZR1 ┆ null ┆ … ┆ null        ┆ null        ┆ null        ┆ null       │\n",
       "│ 2025-03-07 ┆ null    ┆ USBQZV1 ┆ null ┆ … ┆ null        ┆ null        ┆ null        ┆ null       │\n",
       "│ 2025-03-07 ┆ null    ┆ USBQZX1 ┆ null ┆ … ┆ null        ┆ null        ┆ null        ┆ null       │\n",
       "└────────────┴─────────┴─────────┴──────┴───┴─────────────┴─────────────┴─────────────┴────────────┘"
      ]
     },
     "metadata": {},
     "output_type": "display_data"
    }
   ],
   "source": [
    "with Database() as db:\n",
    "    display(db.execute(\"SELECT * FROM assets ORDER BY date, barrid;\").pl())"
   ]
  },
  {
   "cell_type": "code",
   "execution_count": 23,
   "metadata": {},
   "outputs": [
    {
     "data": {
      "text/html": [
       "<div><style>\n",
       ".dataframe > thead > tr,\n",
       ".dataframe > tbody > tr {\n",
       "  text-align: right;\n",
       "  white-space: pre-wrap;\n",
       "}\n",
       "</style>\n",
       "<small>shape: (574_698, 3)</small><table border=\"1\" class=\"dataframe\"><thead><tr><th>date</th><th>factor</th><th>return</th></tr><tr><td>date</td><td>str</td><td>f64</td></tr></thead><tbody><tr><td>1995-06-30</td><td>&quot;USSLOWL_AERODEF&quot;</td><td>0.000148</td></tr><tr><td>1995-06-30</td><td>&quot;USSLOWL_AIRLINES&quot;</td><td>0.01638</td></tr><tr><td>1995-06-30</td><td>&quot;USSLOWL_ALUMSTEL&quot;</td><td>0.011518</td></tr><tr><td>1995-06-30</td><td>&quot;USSLOWL_APPAREL&quot;</td><td>0.002881</td></tr><tr><td>1995-06-30</td><td>&quot;USSLOWL_AUTO&quot;</td><td>-0.000394</td></tr><tr><td>&hellip;</td><td>&hellip;</td><td>&hellip;</td></tr><tr><td>2025-03-06</td><td>&quot;USSLOWL_TELECOM&quot;</td><td>0.0208823</td></tr><tr><td>2025-03-06</td><td>&quot;USSLOWL_TRADECO&quot;</td><td>0.016202</td></tr><tr><td>2025-03-06</td><td>&quot;USSLOWL_TRANSPRT&quot;</td><td>0.00125</td></tr><tr><td>2025-03-06</td><td>&quot;USSLOWL_VALUE&quot;</td><td>-0.000411</td></tr><tr><td>2025-03-06</td><td>&quot;USSLOWL_WIRELESS&quot;</td><td>0.012675</td></tr></tbody></table></div>"
      ],
      "text/plain": [
       "shape: (574_698, 3)\n",
       "┌────────────┬──────────────────┬───────────┐\n",
       "│ date       ┆ factor           ┆ return    │\n",
       "│ ---        ┆ ---              ┆ ---       │\n",
       "│ date       ┆ str              ┆ f64       │\n",
       "╞════════════╪══════════════════╪═══════════╡\n",
       "│ 1995-06-30 ┆ USSLOWL_AERODEF  ┆ 0.000148  │\n",
       "│ 1995-06-30 ┆ USSLOWL_AIRLINES ┆ 0.01638   │\n",
       "│ 1995-06-30 ┆ USSLOWL_ALUMSTEL ┆ 0.011518  │\n",
       "│ 1995-06-30 ┆ USSLOWL_APPAREL  ┆ 0.002881  │\n",
       "│ 1995-06-30 ┆ USSLOWL_AUTO     ┆ -0.000394 │\n",
       "│ …          ┆ …                ┆ …         │\n",
       "│ 2025-03-06 ┆ USSLOWL_TELECOM  ┆ 0.0208823 │\n",
       "│ 2025-03-06 ┆ USSLOWL_TRADECO  ┆ 0.016202  │\n",
       "│ 2025-03-06 ┆ USSLOWL_TRANSPRT ┆ 0.00125   │\n",
       "│ 2025-03-06 ┆ USSLOWL_VALUE    ┆ -0.000411 │\n",
       "│ 2025-03-06 ┆ USSLOWL_WIRELESS ┆ 0.012675  │\n",
       "└────────────┴──────────────────┴───────────┘"
      ]
     },
     "metadata": {},
     "output_type": "display_data"
    }
   ],
   "source": [
    "with Database() as db:\n",
    "    display(db.execute(\"SELECT * FROM factors ORDER BY date, factor;\").pl())"
   ]
  },
  {
   "cell_type": "code",
   "execution_count": 24,
   "metadata": {},
   "outputs": [
    {
     "data": {
      "text/html": [
       "<div><style>\n",
       ".dataframe > thead > tr,\n",
       ".dataframe > tbody > tr {\n",
       "  text-align: right;\n",
       "  white-space: pre-wrap;\n",
       "}\n",
       "</style>\n",
       "<small>shape: (7_470, 77)</small><table border=\"1\" class=\"dataframe\"><thead><tr><th>date</th><th>USSLOWL_BETA</th><th>USSLOWL_COUNTRY</th><th>USSLOWL_DIVYILD</th><th>USSLOWL_EARNQLTY</th><th>USSLOWL_EARNYILD</th><th>USSLOWL_GROWTH</th><th>USSLOWL_LEVERAGE</th><th>USSLOWL_LIQUIDTY</th><th>USSLOWL_LTREVRSL</th><th>USSLOWL_MGMTQLTY</th><th>USSLOWL_MIDCAP</th><th>USSLOWL_MOMENTUM</th><th>USSLOWL_PROFIT</th><th>USSLOWL_PROSPECT</th><th>USSLOWL_SIZE</th><th>USSLOWL_VALUE</th><th>USSLOWL_AERODEF</th><th>USSLOWL_AIRLINES</th><th>USSLOWL_ALUMSTEL</th><th>USSLOWL_APPAREL</th><th>USSLOWL_AUTO</th><th>USSLOWL_BANKS</th><th>USSLOWL_BEVTOB</th><th>USSLOWL_BIOLIFE</th><th>USSLOWL_BLDGPROD</th><th>USSLOWL_CHEM</th><th>USSLOWL_CNSTENG</th><th>USSLOWL_CNSTMACH</th><th>USSLOWL_CNSTMATL</th><th>USSLOWL_COMMEQP</th><th>USSLOWL_COMPELEC</th><th>USSLOWL_COMSVCS</th><th>USSLOWL_CONGLOM</th><th>USSLOWL_CONTAINR</th><th>USSLOWL_DISTRIB</th><th>USSLOWL_DIVFIN</th><th>&hellip;</th><th>USSLOWL_FOODRET</th><th>USSLOWL_GASUTIL</th><th>USSLOWL_HLTHEQP</th><th>USSLOWL_HLTHSVCS</th><th>USSLOWL_HOMEBLDG</th><th>USSLOWL_HOUSEDUR</th><th>USSLOWL_INDMACH</th><th>USSLOWL_INSURNCE</th><th>USSLOWL_INTERNET</th><th>USSLOWL_LEISPROD</th><th>USSLOWL_LEISSVCS</th><th>USSLOWL_LIFEINS</th><th>USSLOWL_MEDIA</th><th>USSLOWL_MGDHLTH</th><th>USSLOWL_MULTUTIL</th><th>USSLOWL_OILGSCON</th><th>USSLOWL_OILGSDRL</th><th>USSLOWL_OILGSEQP</th><th>USSLOWL_OILGSEXP</th><th>USSLOWL_PAPER</th><th>USSLOWL_PHARMA</th><th>USSLOWL_PRECMTLS</th><th>USSLOWL_PSNLPROD</th><th>USSLOWL_REALEST</th><th>USSLOWL_RESTAUR</th><th>USSLOWL_RESVOL</th><th>USSLOWL_ROADRAIL</th><th>USSLOWL_SEMICOND</th><th>USSLOWL_SEMIEQP</th><th>USSLOWL_SOFTWARE</th><th>USSLOWL_SPLTYRET</th><th>USSLOWL_SPTYCHEM</th><th>USSLOWL_SPTYSTOR</th><th>USSLOWL_TELECOM</th><th>USSLOWL_TRADECO</th><th>USSLOWL_TRANSPRT</th><th>USSLOWL_WIRELESS</th></tr><tr><td>date</td><td>f64</td><td>f64</td><td>f64</td><td>f64</td><td>f64</td><td>f64</td><td>f64</td><td>f64</td><td>f64</td><td>f64</td><td>f64</td><td>f64</td><td>f64</td><td>f64</td><td>f64</td><td>f64</td><td>f64</td><td>f64</td><td>f64</td><td>f64</td><td>f64</td><td>f64</td><td>f64</td><td>f64</td><td>f64</td><td>f64</td><td>f64</td><td>f64</td><td>f64</td><td>f64</td><td>f64</td><td>f64</td><td>f64</td><td>f64</td><td>f64</td><td>f64</td><td>&hellip;</td><td>f64</td><td>f64</td><td>f64</td><td>f64</td><td>f64</td><td>f64</td><td>f64</td><td>f64</td><td>f64</td><td>f64</td><td>f64</td><td>f64</td><td>f64</td><td>f64</td><td>f64</td><td>f64</td><td>f64</td><td>f64</td><td>f64</td><td>f64</td><td>f64</td><td>f64</td><td>f64</td><td>f64</td><td>f64</td><td>f64</td><td>f64</td><td>f64</td><td>f64</td><td>f64</td><td>f64</td><td>f64</td><td>f64</td><td>f64</td><td>f64</td><td>f64</td><td>f64</td></tr></thead><tbody><tr><td>1995-06-30</td><td>0.001561</td><td>0.002391</td><td>-0.000111</td><td>-0.001143</td><td>0.001047</td><td>0.000158</td><td>-0.001521</td><td>-0.001092</td><td>-0.000133</td><td>0.000511</td><td>0.001629</td><td>0.000509</td><td>-0.001739</td><td>0.00018</td><td>-0.002761</td><td>-0.000752</td><td>0.000148</td><td>0.01638</td><td>0.011518</td><td>0.002881</td><td>-0.000394</td><td>-0.006071</td><td>0.003202</td><td>0.003599</td><td>0.000959</td><td>0.00103</td><td>0.01676</td><td>0.006751</td><td>0.002864</td><td>0.000951</td><td>-0.000992</td><td>0.004885</td><td>0.006313</td><td>-0.002957</td><td>0.011079</td><td>-0.004603</td><td>&hellip;</td><td>-0.00081</td><td>-0.000101</td><td>0.001484</td><td>0.004634</td><td>0.001529</td><td>0.00952</td><td>0.005296</td><td>-0.006373</td><td>-0.001168</td><td>0.004104</td><td>0.000092</td><td>-0.006194</td><td>0.004194</td><td>-0.000214</td><td>-0.00267</td><td>-0.006427</td><td>-0.001353</td><td>-0.00814</td><td>-0.001717</td><td>0.012288</td><td>-0.003253</td><td>-0.017056</td><td>-0.003212</td><td>0.004951</td><td>-0.002673</td><td>0.000732</td><td>0.008282</td><td>-0.012696</td><td>-0.001164</td><td>-0.001577</td><td>0.003657</td><td>-0.001033</td><td>0.008131</td><td>0.003418</td><td>0.000154</td><td>0.000457</td><td>0.007565</td></tr><tr><td>1995-07-03</td><td>0.000089</td><td>0.003053</td><td>0.000245</td><td>-0.000241</td><td>0.000078</td><td>-0.000233</td><td>-0.000011</td><td>0.000345</td><td>-0.000387</td><td>0.000382</td><td>-0.001348</td><td>0.000186</td><td>0.000121</td><td>0.000044</td><td>0.000553</td><td>-0.000595</td><td>-0.005342</td><td>0.001715</td><td>0.016423</td><td>0.003749</td><td>0.002991</td><td>0.000164</td><td>-0.000368</td><td>-0.007351</td><td>-0.003573</td><td>-0.00041</td><td>-0.001686</td><td>0.000774</td><td>-0.004636</td><td>0.003353</td><td>0.003286</td><td>0.001693</td><td>-0.001677</td><td>0.00586</td><td>-0.003775</td><td>-0.000127</td><td>&hellip;</td><td>-0.002144</td><td>0.000127</td><td>-0.001064</td><td>0.003074</td><td>-0.007797</td><td>0.002571</td><td>-0.000042</td><td>-0.003008</td><td>0.000264</td><td>0.004425</td><td>-0.001245</td><td>0.002304</td><td>-0.001094</td><td>0.010634</td><td>-0.000296</td><td>0.003236</td><td>-0.008023</td><td>-0.001949</td><td>-0.00524</td><td>0.002184</td><td>-0.000182</td><td>0.000831</td><td>-0.0012</td><td>-0.001202</td><td>-0.003406</td><td>0.000846</td><td>-0.000138</td><td>-0.003535</td><td>-0.007386</td><td>-0.00341</td><td>0.00315</td><td>-0.003119</td><td>0.002998</td><td>0.000568</td><td>0.002709</td><td>-0.001949</td><td>0.000633</td></tr><tr><td>1995-07-05</td><td>0.002074</td><td>0.001546</td><td>-0.000567</td><td>-0.000175</td><td>0.000684</td><td>-0.000317</td><td>0.000955</td><td>0.001143</td><td>-0.00159</td><td>-0.00045</td><td>0.000674</td><td>0.001383</td><td>-0.001668</td><td>0.000101</td><td>-0.001777</td><td>0.000222</td><td>-0.000353</td><td>0.019143</td><td>0.02883</td><td>0.010066</td><td>0.006364</td><td>-0.004594</td><td>-0.005646</td><td>0.004604</td><td>0.005284</td><td>0.009939</td><td>-0.002727</td><td>0.018447</td><td>-0.004074</td><td>0.003096</td><td>0.004514</td><td>-0.000077</td><td>0.011716</td><td>-0.006006</td><td>0.005592</td><td>-0.003743</td><td>&hellip;</td><td>0.00827</td><td>-0.009164</td><td>-0.001478</td><td>-0.002187</td><td>-0.00863</td><td>0.000587</td><td>0.006424</td><td>-0.001046</td><td>0.011676</td><td>0.000791</td><td>-0.004699</td><td>-0.005177</td><td>-0.00024</td><td>-0.008571</td><td>-0.001788</td><td>-0.00724</td><td>-0.00127</td><td>-0.006295</td><td>-0.009669</td><td>0.011728</td><td>-0.00407</td><td>0.012252</td><td>0.002838</td><td>-0.002685</td><td>0.008095</td><td>0.001207</td><td>0.004173</td><td>-0.006522</td><td>0.01328</td><td>-0.000352</td><td>0.010819</td><td>0.00285</td><td>0.00198</td><td>-0.003579</td><td>0.005781</td><td>0.003474</td><td>0.021098</td></tr><tr><td>1995-07-06</td><td>0.002513</td><td>0.011325</td><td>-0.000337</td><td>-0.000736</td><td>-0.000194</td><td>0.000978</td><td>0.001209</td><td>0.000092</td><td>-0.001845</td><td>0.000933</td><td>0.000031</td><td>0.000601</td><td>0.000279</td><td>0.000528</td><td>0.001494</td><td>0.000203</td><td>-0.001346</td><td>-0.000233</td><td>-0.001499</td><td>-0.021365</td><td>0.008116</td><td>-0.001606</td><td>0.001265</td><td>0.000839</td><td>0.00668</td><td>0.001738</td><td>0.003364</td><td>0.010105</td><td>0.006848</td><td>0.001522</td><td>0.003423</td><td>-0.000212</td><td>0.003993</td><td>0.006944</td><td>-0.005317</td><td>-0.002697</td><td>&hellip;</td><td>0.003142</td><td>-0.005876</td><td>-0.00158</td><td>-0.008381</td><td>0.050161</td><td>0.001798</td><td>0.003085</td><td>-0.000173</td><td>0.002698</td><td>-0.002678</td><td>-0.003664</td><td>-0.000886</td><td>-0.001666</td><td>-0.017436</td><td>0.00103</td><td>0.001486</td><td>-0.00609</td><td>-0.001388</td><td>-0.003006</td><td>-0.002223</td><td>-0.007166</td><td>0.026613</td><td>-0.014242</td><td>0.001506</td><td>-0.012678</td><td>-0.000909</td><td>-0.001344</td><td>0.012209</td><td>0.020481</td><td>0.002732</td><td>0.011479</td><td>0.000873</td><td>-0.007274</td><td>0.008178</td><td>-0.002192</td><td>0.011022</td><td>0.001505</td></tr><tr><td>1995-07-07</td><td>0.003138</td><td>0.006104</td><td>-0.000207</td><td>-0.000777</td><td>-0.000055</td><td>-0.000283</td><td>0.000313</td><td>0.002068</td><td>-0.001304</td><td>0.000578</td><td>0.001948</td><td>0.001245</td><td>-0.001208</td><td>0.000394</td><td>-0.002841</td><td>-0.000434</td><td>0.00265</td><td>-0.00446</td><td>0.035416</td><td>-0.004258</td><td>0.013312</td><td>-0.001642</td><td>-0.012899</td><td>-0.011572</td><td>0.003981</td><td>0.019815</td><td>0.020792</td><td>0.020405</td><td>0.004802</td><td>0.008638</td><td>0.007004</td><td>0.005572</td><td>0.013994</td><td>0.003252</td><td>-0.004711</td><td>0.005101</td><td>&hellip;</td><td>-0.006513</td><td>-0.0055</td><td>-0.011593</td><td>-0.009297</td><td>-0.00752</td><td>0.00532</td><td>0.009562</td><td>0.001127</td><td>-0.003521</td><td>-0.001427</td><td>-0.003411</td><td>-0.009865</td><td>-0.002302</td><td>-0.024215</td><td>-0.004954</td><td>0.001178</td><td>-0.020638</td><td>0.007834</td><td>-0.00167</td><td>0.0111183</td><td>-0.023175</td><td>0.01514</td><td>-0.01585</td><td>-0.000221</td><td>0.000113</td><td>0.001758</td><td>0.030243</td><td>0.018266</td><td>0.020549</td><td>0.005968</td><td>0.008781</td><td>0.012524</td><td>0.012002</td><td>0.000916</td><td>0.008576</td><td>0.001674</td><td>0.005019</td></tr><tr><td>&hellip;</td><td>&hellip;</td><td>&hellip;</td><td>&hellip;</td><td>&hellip;</td><td>&hellip;</td><td>&hellip;</td><td>&hellip;</td><td>&hellip;</td><td>&hellip;</td><td>&hellip;</td><td>&hellip;</td><td>&hellip;</td><td>&hellip;</td><td>&hellip;</td><td>&hellip;</td><td>&hellip;</td><td>&hellip;</td><td>&hellip;</td><td>&hellip;</td><td>&hellip;</td><td>&hellip;</td><td>&hellip;</td><td>&hellip;</td><td>&hellip;</td><td>&hellip;</td><td>&hellip;</td><td>&hellip;</td><td>&hellip;</td><td>&hellip;</td><td>&hellip;</td><td>&hellip;</td><td>&hellip;</td><td>&hellip;</td><td>&hellip;</td><td>&hellip;</td><td>&hellip;</td><td>&hellip;</td><td>&hellip;</td><td>&hellip;</td><td>&hellip;</td><td>&hellip;</td><td>&hellip;</td><td>&hellip;</td><td>&hellip;</td><td>&hellip;</td><td>&hellip;</td><td>&hellip;</td><td>&hellip;</td><td>&hellip;</td><td>&hellip;</td><td>&hellip;</td><td>&hellip;</td><td>&hellip;</td><td>&hellip;</td><td>&hellip;</td><td>&hellip;</td><td>&hellip;</td><td>&hellip;</td><td>&hellip;</td><td>&hellip;</td><td>&hellip;</td><td>&hellip;</td><td>&hellip;</td><td>&hellip;</td><td>&hellip;</td><td>&hellip;</td><td>&hellip;</td><td>&hellip;</td><td>&hellip;</td><td>&hellip;</td><td>&hellip;</td><td>&hellip;</td><td>&hellip;</td><td>&hellip;</td></tr><tr><td>2025-02-28</td><td>-0.001658</td><td>0.014364</td><td>0.000719</td><td>-0.001404</td><td>-0.003617</td><td>-0.000366</td><td>0.0013487</td><td>0.000111</td><td>-0.000992</td><td>-0.000116</td><td>0.001001</td><td>0.007529</td><td>-0.000372</td><td>0.000399</td><td>0.001443</td><td>0.000285</td><td>0.000465</td><td>-0.009462</td><td>-0.00324</td><td>-0.000003</td><td>0.010272</td><td>0.000964</td><td>-0.001301</td><td>0.004909</td><td>-0.000134</td><td>0.000572</td><td>0.007518</td><td>-0.006651</td><td>-0.006891</td><td>-0.005151</td><td>-0.007362</td><td>-0.005055</td><td>0.004834</td><td>-0.000424</td><td>-0.002263</td><td>0.003855</td><td>&hellip;</td><td>0.001333</td><td>0.00121</td><td>-0.006458</td><td>-0.017033</td><td>-0.001173</td><td>0.000574</td><td>0.002845</td><td>0.001884</td><td>-0.006672</td><td>-0.01146</td><td>-0.003256</td><td>0.007096</td><td>0.00226</td><td>0.014366</td><td>0.004323</td><td>0.008222</td><td>-0.010586</td><td>-0.001236</td><td>0.000209</td><td>-0.008474</td><td>0.004369</td><td>-0.000968</td><td>0.000417</td><td>-0.004207</td><td>0.000575</td><td>-0.001231</td><td>0.005317</td><td>0.012672</td><td>0.00134</td><td>-0.002166</td><td>-0.001832</td><td>-0.001611</td><td>0.005639</td><td>-0.006668</td><td>-0.003787</td><td>0.002316</td><td>0.00019</td></tr><tr><td>2025-03-03</td><td>-0.012831</td><td>-0.015728</td><td>0.00016</td><td>0.002255</td><td>0.001476</td><td>-0.000249</td><td>-0.00151</td><td>-0.001919</td><td>0.00145</td><td>0.001512</td><td>0.000764</td><td>0.001729</td><td>0.000588</td><td>-0.000481</td><td>0.002719</td><td>-0.000973</td><td>0.003941</td><td>-0.005295</td><td>0.001085</td><td>-0.010054</td><td>0.007878</td><td>0.008443</td><td>0.011206</td><td>-0.003301</td><td>-0.001441</td><td>-0.025118</td><td>-0.000173</td><td>-0.023379</td><td>-0.010473</td><td>-0.015102</td><td>-0.01106</td><td>-0.000104</td><td>-0.002387</td><td>-0.009</td><td>0.000215</td><td>-0.001715</td><td>&hellip;</td><td>-0.009544</td><td>0.0200719</td><td>0.007545</td><td>0.005949</td><td>0.003153</td><td>-0.001176</td><td>-0.011739</td><td>0.010324</td><td>0.001793</td><td>0.001614</td><td>0.006006</td><td>0.007985</td><td>0.001381</td><td>-0.005723</td><td>0.006925</td><td>-0.014152</td><td>-0.047138</td><td>-0.03096</td><td>-0.034241</td><td>0.002921</td><td>0.003013</td><td>0.00683</td><td>-0.003343</td><td>0.010405</td><td>-0.003225</td><td>-0.004941</td><td>-0.000186</td><td>0.005814</td><td>0.006335</td><td>0.005693</td><td>-0.007044</td><td>-0.007447</td><td>-0.004645</td><td>0.01204</td><td>-0.007049</td><td>-0.002862</td><td>0.004241</td></tr><tr><td>2025-03-04</td><td>0.000789</td><td>-0.013539</td><td>0.000061</td><td>-0.001085</td><td>-0.000994</td><td>0.000029</td><td>-0.003343</td><td>0.001153</td><td>-0.001994</td><td>-0.000666</td><td>-0.00062</td><td>-0.002626</td><td>0.001266</td><td>-0.000544</td><td>-0.002831</td><td>-0.001917</td><td>-0.006304</td><td>-0.036533</td><td>-0.018012</td><td>-0.008539</td><td>-0.021301</td><td>-0.020365</td><td>-0.007821</td><td>0.002317</td><td>-0.006363</td><td>0.005751</td><td>-0.010614</td><td>-0.005913</td><td>-0.009762</td><td>0.004709</td><td>-0.002327</td><td>0.004893</td><td>-0.00881</td><td>-0.016862</td><td>0.005857</td><td>-0.019406</td><td>&hellip;</td><td>-0.000092</td><td>-0.003745</td><td>-0.001779</td><td>0.007213</td><td>0.014645</td><td>-0.017702</td><td>-0.007732</td><td>-0.001821</td><td>0.013681</td><td>-0.015217</td><td>-0.004894</td><td>-0.025241</td><td>0.005367</td><td>0.014755</td><td>0.010592</td><td>0.003217</td><td>0.0171084</td><td>-0.017032</td><td>0.004274</td><td>-0.019647</td><td>0.002295</td><td>0.001311</td><td>-0.001218</td><td>0.003818</td><td>0.001513</td><td>0.004635</td><td>0.001704</td><td>0.011645</td><td>0.022548</td><td>0.006691</td><td>-0.009374</td><td>0.002576</td><td>-0.015853</td><td>-0.002699</td><td>-0.01104</td><td>-0.018463</td><td>-0.005284</td></tr><tr><td>2025-03-05</td><td>0.006524</td><td>0.011055</td><td>-0.000852</td><td>-0.000653</td><td>0.001908</td><td>-0.001603</td><td>-0.000556</td><td>-0.001382</td><td>0.002102</td><td>-0.00143</td><td>0.001263</td><td>-0.003899</td><td>-0.002716</td><td>-0.001457</td><td>0.001421</td><td>-0.000023</td><td>0.0140697</td><td>0.022326</td><td>0.006271</td><td>-0.004071</td><td>0.007872</td><td>-0.020083</td><td>-0.001346</td><td>0.005393</td><td>0.013138</td><td>0.02043</td><td>0.003265</td><td>0.011341</td><td>0.027122</td><td>0.004322</td><td>-0.004277</td><td>-0.002965</td><td>-0.003729</td><td>0.01201</td><td>0.001827</td><td>0.001898</td><td>&hellip;</td><td>0.002318</td><td>-0.005952</td><td>-0.003073</td><td>0.005102</td><td>0.013468</td><td>0.008367</td><td>0.009426</td><td>-0.000661</td><td>0.004843</td><td>0.00611</td><td>0.000437</td><td>0.008823</td><td>-0.002677</td><td>-0.000172</td><td>-0.010659</td><td>-0.025024</td><td>-0.019689</td><td>-0.015548</td><td>-0.024426</td><td>0.009292</td><td>0.000944</td><td>0.044178</td><td>0.006379</td><td>0.002325</td><td>-0.004851</td><td>0.002906</td><td>-0.005578</td><td>-0.008029</td><td>0.002795</td><td>0.004346</td><td>-0.000817</td><td>0.016722</td><td>0.012112</td><td>0.009955</td><td>0.008575</td><td>0.004843</td><td>-0.004767</td></tr><tr><td>2025-03-06</td><td>-0.010728</td><td>-0.022331</td><td>0.00178</td><td>-0.002595</td><td>0.005113</td><td>-0.003108</td><td>-0.003289</td><td>-0.002789</td><td>-0.00106</td><td>0.001013</td><td>-0.002259</td><td>-0.011866</td><td>-0.000522</td><td>-0.000199</td><td>-0.00215</td><td>-0.000411</td><td>0.000244</td><td>0.000005</td><td>-0.001858</td><td>0.015924</td><td>0.01269</td><td>-0.003633</td><td>0.000539</td><td>0.013542</td><td>0.015332</td><td>0.003909</td><td>-0.002795</td><td>0.033639</td><td>0.004094</td><td>0.002896</td><td>-0.003219</td><td>-0.00558</td><td>0.012689</td><td>0.008398</td><td>0.008459</td><td>-0.002402</td><td>&hellip;</td><td>0.009648</td><td>-0.015323</td><td>-0.002328</td><td>0.004447</td><td>0.024084</td><td>0.002479</td><td>0.009792</td><td>-0.006897</td><td>-0.003319</td><td>0.00784</td><td>-0.009688</td><td>-0.013413</td><td>-0.000649</td><td>0.024593</td><td>-0.011682</td><td>0.011147</td><td>0.010379</td><td>-0.001008</td><td>-0.014185</td><td>-0.011621</td><td>0.0027</td><td>0.005673</td><td>-0.003333</td><td>-0.020184</td><td>0.002088</td><td>-0.004386</td><td>0.011106</td><td>-0.005501</td><td>0.002732</td><td>-0.000784</td><td>0.009621</td><td>0.011034</td><td>0.014051</td><td>0.0208823</td><td>0.016202</td><td>0.00125</td><td>0.012675</td></tr></tbody></table></div>"
      ],
      "text/plain": [
       "shape: (7_470, 77)\n",
       "┌───────────┬───────────┬───────────┬───────────┬───┬───────────┬───────────┬───────────┬──────────┐\n",
       "│ date      ┆ USSLOWL_B ┆ USSLOWL_C ┆ USSLOWL_D ┆ … ┆ USSLOWL_T ┆ USSLOWL_T ┆ USSLOWL_T ┆ USSLOWL_ │\n",
       "│ ---       ┆ ETA       ┆ OUNTRY    ┆ IVYILD    ┆   ┆ ELECOM    ┆ RADECO    ┆ RANSPRT   ┆ WIRELESS │\n",
       "│ date      ┆ ---       ┆ ---       ┆ ---       ┆   ┆ ---       ┆ ---       ┆ ---       ┆ ---      │\n",
       "│           ┆ f64       ┆ f64       ┆ f64       ┆   ┆ f64       ┆ f64       ┆ f64       ┆ f64      │\n",
       "╞═══════════╪═══════════╪═══════════╪═══════════╪═══╪═══════════╪═══════════╪═══════════╪══════════╡\n",
       "│ 1995-06-3 ┆ 0.001561  ┆ 0.002391  ┆ -0.000111 ┆ … ┆ 0.003418  ┆ 0.000154  ┆ 0.000457  ┆ 0.007565 │\n",
       "│ 0         ┆           ┆           ┆           ┆   ┆           ┆           ┆           ┆          │\n",
       "│ 1995-07-0 ┆ 0.000089  ┆ 0.003053  ┆ 0.000245  ┆ … ┆ 0.000568  ┆ 0.002709  ┆ -0.001949 ┆ 0.000633 │\n",
       "│ 3         ┆           ┆           ┆           ┆   ┆           ┆           ┆           ┆          │\n",
       "│ 1995-07-0 ┆ 0.002074  ┆ 0.001546  ┆ -0.000567 ┆ … ┆ -0.003579 ┆ 0.005781  ┆ 0.003474  ┆ 0.021098 │\n",
       "│ 5         ┆           ┆           ┆           ┆   ┆           ┆           ┆           ┆          │\n",
       "│ 1995-07-0 ┆ 0.002513  ┆ 0.011325  ┆ -0.000337 ┆ … ┆ 0.008178  ┆ -0.002192 ┆ 0.011022  ┆ 0.001505 │\n",
       "│ 6         ┆           ┆           ┆           ┆   ┆           ┆           ┆           ┆          │\n",
       "│ 1995-07-0 ┆ 0.003138  ┆ 0.006104  ┆ -0.000207 ┆ … ┆ 0.000916  ┆ 0.008576  ┆ 0.001674  ┆ 0.005019 │\n",
       "│ 7         ┆           ┆           ┆           ┆   ┆           ┆           ┆           ┆          │\n",
       "│ …         ┆ …         ┆ …         ┆ …         ┆ … ┆ …         ┆ …         ┆ …         ┆ …        │\n",
       "│ 2025-02-2 ┆ -0.001658 ┆ 0.014364  ┆ 0.000719  ┆ … ┆ -0.006668 ┆ -0.003787 ┆ 0.002316  ┆ 0.00019  │\n",
       "│ 8         ┆           ┆           ┆           ┆   ┆           ┆           ┆           ┆          │\n",
       "│ 2025-03-0 ┆ -0.012831 ┆ -0.015728 ┆ 0.00016   ┆ … ┆ 0.01204   ┆ -0.007049 ┆ -0.002862 ┆ 0.004241 │\n",
       "│ 3         ┆           ┆           ┆           ┆   ┆           ┆           ┆           ┆          │\n",
       "│ 2025-03-0 ┆ 0.000789  ┆ -0.013539 ┆ 0.000061  ┆ … ┆ -0.002699 ┆ -0.01104  ┆ -0.018463 ┆ -0.00528 │\n",
       "│ 4         ┆           ┆           ┆           ┆   ┆           ┆           ┆           ┆ 4        │\n",
       "│ 2025-03-0 ┆ 0.006524  ┆ 0.011055  ┆ -0.000852 ┆ … ┆ 0.009955  ┆ 0.008575  ┆ 0.004843  ┆ -0.00476 │\n",
       "│ 5         ┆           ┆           ┆           ┆   ┆           ┆           ┆           ┆ 7        │\n",
       "│ 2025-03-0 ┆ -0.010728 ┆ -0.022331 ┆ 0.00178   ┆ … ┆ 0.0208823 ┆ 0.016202  ┆ 0.00125   ┆ 0.012675 │\n",
       "│ 6         ┆           ┆           ┆           ┆   ┆           ┆           ┆           ┆          │\n",
       "└───────────┴───────────┴───────────┴───────────┴───┴───────────┴───────────┴───────────┴──────────┘"
      ]
     },
     "metadata": {},
     "output_type": "display_data"
    }
   ],
   "source": [
    "with Database() as db:\n",
    "    display(db.execute(\"SELECT * FROM factors_wide ORDER BY date;\").pl())"
   ]
  },
  {
   "cell_type": "code",
   "execution_count": 29,
   "metadata": {},
   "outputs": [
    {
     "data": {
      "text/html": [
       "<div><style>\n",
       ".dataframe > thead > tr,\n",
       ".dataframe > tbody > tr {\n",
       "  text-align: right;\n",
       "  white-space: pre-wrap;\n",
       "}\n",
       "</style>\n",
       "<small>shape: (307_230, 4)</small><table border=\"1\" class=\"dataframe\"><thead><tr><th>date</th><th>factor1</th><th>factor2</th><th>covariance</th></tr><tr><td>date</td><td>str</td><td>str</td><td>f64</td></tr></thead><tbody><tr><td>2024-01-02</td><td>&quot;USSLOWL_AERODEF&quot;</td><td>&quot;USSLOWL_AERODEF&quot;</td><td>160.058795</td></tr><tr><td>2024-01-02</td><td>&quot;USSLOWL_AERODEF&quot;</td><td>&quot;USSLOWL_AIRLINES&quot;</td><td>64.17249</td></tr><tr><td>2024-01-02</td><td>&quot;USSLOWL_AERODEF&quot;</td><td>&quot;USSLOWL_APPAREL&quot;</td><td>24.872283</td></tr><tr><td>2024-01-02</td><td>&quot;USSLOWL_AERODEF&quot;</td><td>&quot;USSLOWL_AUTO&quot;</td><td>-9.247184</td></tr><tr><td>2024-01-02</td><td>&quot;USSLOWL_AERODEF&quot;</td><td>&quot;USSLOWL_BANKS&quot;</td><td>2.1289535</td></tr><tr><td>&hellip;</td><td>&hellip;</td><td>&hellip;</td><td>&hellip;</td></tr><tr><td>2025-03-07</td><td>&quot;USSLOWL_WIRELESS&quot;</td><td>&quot;USSLOWL_COUNTRY&quot;</td><td>-34.464621</td></tr><tr><td>2025-03-07</td><td>&quot;USSLOWL_WIRELESS&quot;</td><td>&quot;USSLOWL_ELECUTIL&quot;</td><td>9.489213</td></tr><tr><td>2025-03-07</td><td>&quot;USSLOWL_WIRELESS&quot;</td><td>&quot;USSLOWL_GASUTIL&quot;</td><td>21.604725</td></tr><tr><td>2025-03-07</td><td>&quot;USSLOWL_WIRELESS&quot;</td><td>&quot;USSLOWL_MULTUTIL&quot;</td><td>18.821844</td></tr><tr><td>2025-03-07</td><td>&quot;USSLOWL_WIRELESS&quot;</td><td>&quot;USSLOWL_WIRELESS&quot;</td><td>141.517728</td></tr></tbody></table></div>"
      ],
      "text/plain": [
       "shape: (307_230, 4)\n",
       "┌────────────┬──────────────────┬──────────────────┬────────────┐\n",
       "│ date       ┆ factor1          ┆ factor2          ┆ covariance │\n",
       "│ ---        ┆ ---              ┆ ---              ┆ ---        │\n",
       "│ date       ┆ str              ┆ str              ┆ f64        │\n",
       "╞════════════╪══════════════════╪══════════════════╪════════════╡\n",
       "│ 2024-01-02 ┆ USSLOWL_AERODEF  ┆ USSLOWL_AERODEF  ┆ 160.058795 │\n",
       "│ 2024-01-02 ┆ USSLOWL_AERODEF  ┆ USSLOWL_AIRLINES ┆ 64.17249   │\n",
       "│ 2024-01-02 ┆ USSLOWL_AERODEF  ┆ USSLOWL_APPAREL  ┆ 24.872283  │\n",
       "│ 2024-01-02 ┆ USSLOWL_AERODEF  ┆ USSLOWL_AUTO     ┆ -9.247184  │\n",
       "│ 2024-01-02 ┆ USSLOWL_AERODEF  ┆ USSLOWL_BANKS    ┆ 2.1289535  │\n",
       "│ …          ┆ …                ┆ …                ┆ …          │\n",
       "│ 2025-03-07 ┆ USSLOWL_WIRELESS ┆ USSLOWL_COUNTRY  ┆ -34.464621 │\n",
       "│ 2025-03-07 ┆ USSLOWL_WIRELESS ┆ USSLOWL_ELECUTIL ┆ 9.489213   │\n",
       "│ 2025-03-07 ┆ USSLOWL_WIRELESS ┆ USSLOWL_GASUTIL  ┆ 21.604725  │\n",
       "│ 2025-03-07 ┆ USSLOWL_WIRELESS ┆ USSLOWL_MULTUTIL ┆ 18.821844  │\n",
       "│ 2025-03-07 ┆ USSLOWL_WIRELESS ┆ USSLOWL_WIRELESS ┆ 141.517728 │\n",
       "└────────────┴──────────────────┴──────────────────┴────────────┘"
      ]
     },
     "metadata": {},
     "output_type": "display_data"
    }
   ],
   "source": [
    "with Database() as db:\n",
    "    display(db.execute(\"SELECT * FROM covariances ORDER BY date, factor1, factor2;\").pl())"
   ]
  },
  {
   "cell_type": "code",
   "execution_count": 26,
   "metadata": {},
   "outputs": [
    {
     "data": {
      "text/html": [
       "<div><style>\n",
       ".dataframe > thead > tr,\n",
       ".dataframe > tbody > tr {\n",
       "  text-align: right;\n",
       "  white-space: pre-wrap;\n",
       "}\n",
       "</style>\n",
       "<small>shape: (7_980, 78)</small><table border=\"1\" class=\"dataframe\"><thead><tr><th>date</th><th>factor1</th><th>USSLOWL_BETA</th><th>USSLOWL_COUNTRY</th><th>USSLOWL_DIVYILD</th><th>USSLOWL_EARNQLTY</th><th>USSLOWL_EARNYILD</th><th>USSLOWL_GROWTH</th><th>USSLOWL_LEVERAGE</th><th>USSLOWL_LIQUIDTY</th><th>USSLOWL_LTREVRSL</th><th>USSLOWL_MGMTQLTY</th><th>USSLOWL_MIDCAP</th><th>USSLOWL_MOMENTUM</th><th>USSLOWL_PROFIT</th><th>USSLOWL_PROSPECT</th><th>USSLOWL_SIZE</th><th>USSLOWL_VALUE</th><th>USSLOWL_AERODEF</th><th>USSLOWL_AIRLINES</th><th>USSLOWL_ALUMSTEL</th><th>USSLOWL_APPAREL</th><th>USSLOWL_AUTO</th><th>USSLOWL_BANKS</th><th>USSLOWL_BEVTOB</th><th>USSLOWL_BIOLIFE</th><th>USSLOWL_BLDGPROD</th><th>USSLOWL_CHEM</th><th>USSLOWL_CNSTENG</th><th>USSLOWL_CNSTMACH</th><th>USSLOWL_CNSTMATL</th><th>USSLOWL_COMMEQP</th><th>USSLOWL_COMPELEC</th><th>USSLOWL_COMSVCS</th><th>USSLOWL_CONGLOM</th><th>USSLOWL_CONTAINR</th><th>USSLOWL_DISTRIB</th><th>&hellip;</th><th>USSLOWL_FOODRET</th><th>USSLOWL_GASUTIL</th><th>USSLOWL_HLTHEQP</th><th>USSLOWL_HLTHSVCS</th><th>USSLOWL_HOMEBLDG</th><th>USSLOWL_HOUSEDUR</th><th>USSLOWL_INDMACH</th><th>USSLOWL_INSURNCE</th><th>USSLOWL_INTERNET</th><th>USSLOWL_LEISPROD</th><th>USSLOWL_LEISSVCS</th><th>USSLOWL_LIFEINS</th><th>USSLOWL_MEDIA</th><th>USSLOWL_MGDHLTH</th><th>USSLOWL_MULTUTIL</th><th>USSLOWL_OILGSCON</th><th>USSLOWL_OILGSDRL</th><th>USSLOWL_OILGSEQP</th><th>USSLOWL_OILGSEXP</th><th>USSLOWL_PAPER</th><th>USSLOWL_PHARMA</th><th>USSLOWL_PRECMTLS</th><th>USSLOWL_PSNLPROD</th><th>USSLOWL_REALEST</th><th>USSLOWL_RESTAUR</th><th>USSLOWL_RESVOL</th><th>USSLOWL_ROADRAIL</th><th>USSLOWL_SEMICOND</th><th>USSLOWL_SEMIEQP</th><th>USSLOWL_SOFTWARE</th><th>USSLOWL_SPLTYRET</th><th>USSLOWL_SPTYCHEM</th><th>USSLOWL_SPTYSTOR</th><th>USSLOWL_TELECOM</th><th>USSLOWL_TRADECO</th><th>USSLOWL_TRANSPRT</th><th>USSLOWL_WIRELESS</th></tr><tr><td>date</td><td>str</td><td>f64</td><td>f64</td><td>f64</td><td>f64</td><td>f64</td><td>f64</td><td>f64</td><td>f64</td><td>f64</td><td>f64</td><td>f64</td><td>f64</td><td>f64</td><td>f64</td><td>f64</td><td>f64</td><td>f64</td><td>f64</td><td>f64</td><td>f64</td><td>f64</td><td>f64</td><td>f64</td><td>f64</td><td>f64</td><td>f64</td><td>f64</td><td>f64</td><td>f64</td><td>f64</td><td>f64</td><td>f64</td><td>f64</td><td>f64</td><td>f64</td><td>&hellip;</td><td>f64</td><td>f64</td><td>f64</td><td>f64</td><td>f64</td><td>f64</td><td>f64</td><td>f64</td><td>f64</td><td>f64</td><td>f64</td><td>f64</td><td>f64</td><td>f64</td><td>f64</td><td>f64</td><td>f64</td><td>f64</td><td>f64</td><td>f64</td><td>f64</td><td>f64</td><td>f64</td><td>f64</td><td>f64</td><td>f64</td><td>f64</td><td>f64</td><td>f64</td><td>f64</td><td>f64</td><td>f64</td><td>f64</td><td>f64</td><td>f64</td><td>f64</td><td>f64</td></tr></thead><tbody><tr><td>2024-01-02</td><td>&quot;USSLOWL_AERODEF&quot;</td><td>null</td><td>23.349064</td><td>null</td><td>null</td><td>null</td><td>null</td><td>null</td><td>null</td><td>null</td><td>null</td><td>null</td><td>null</td><td>null</td><td>null</td><td>null</td><td>null</td><td>160.058795</td><td>64.17249</td><td>null</td><td>24.872283</td><td>-9.247184</td><td>2.1289535</td><td>-5.10128</td><td>-25.458478</td><td>20.743184</td><td>null</td><td>27.277994</td><td>28.500268</td><td>null</td><td>-7.811465</td><td>-16.211627</td><td>8.25383</td><td>32.449766</td><td>null</td><td>2.071266</td><td>&hellip;</td><td>-3.900024</td><td>-14.17229</td><td>-6.475595</td><td>-4.332999</td><td>32.727455</td><td>4.263392</td><td>25.3622</td><td>13.234299</td><td>-7.699555</td><td>9.302211</td><td>34.784997</td><td>25.9138</td><td>1.997564</td><td>8.03406</td><td>-12.004339</td><td>null</td><td>null</td><td>null</td><td>null</td><td>null</td><td>-14.932994</td><td>null</td><td>-11.763022</td><td>3.893366</td><td>11.47487</td><td>null</td><td>11.144278</td><td>-25.060448</td><td>-11.007157</td><td>-13.226582</td><td>-4.658213</td><td>null</td><td>18.0916</td><td>-13.071422</td><td>26.786384</td><td>-14.187325</td><td>-7.108043</td></tr><tr><td>2024-01-02</td><td>&quot;USSLOWL_AIRLINES&quot;</td><td>null</td><td>27.90279</td><td>null</td><td>null</td><td>null</td><td>null</td><td>null</td><td>null</td><td>null</td><td>null</td><td>null</td><td>null</td><td>null</td><td>null</td><td>null</td><td>null</td><td>null</td><td>555.407843</td><td>null</td><td>78.444218</td><td>65.624504</td><td>13.905495</td><td>6.04387</td><td>-34.116543</td><td>null</td><td>null</td><td>null</td><td>null</td><td>null</td><td>-21.971636</td><td>0.621644</td><td>null</td><td>null</td><td>null</td><td>-1.550088</td><td>&hellip;</td><td>-13.4296</td><td>-35.864579</td><td>5.8719217</td><td>1.391836</td><td>31.272435</td><td>39.248271</td><td>null</td><td>21.841061</td><td>0.579189</td><td>53.25591</td><td>118.585314</td><td>22.402119</td><td>10.526557</td><td>13.513572</td><td>-43.971797</td><td>null</td><td>null</td><td>null</td><td>null</td><td>null</td><td>-13.806616</td><td>null</td><td>5.6988218</td><td>23.72305</td><td>65.801622</td><td>null</td><td>32.986753</td><td>-12.329297</td><td>4.65532</td><td>-32.34137</td><td>24.148313</td><td>null</td><td>39.88416</td><td>-16.018424</td><td>null</td><td>23.622732</td><td>-25.532936</td></tr><tr><td>2024-01-02</td><td>&quot;USSLOWL_ALUMSTEL&quot;</td><td>null</td><td>25.435159</td><td>null</td><td>null</td><td>null</td><td>null</td><td>null</td><td>null</td><td>null</td><td>null</td><td>null</td><td>null</td><td>null</td><td>null</td><td>null</td><td>null</td><td>41.706573</td><td>11.324543</td><td>473.463996</td><td>17.685295</td><td>7.615065</td><td>29.467599</td><td>-12.330661</td><td>-31.036151</td><td>36.970903</td><td>null</td><td>98.232415</td><td>117.907802</td><td>null</td><td>-26.157782</td><td>-7.425338</td><td>5.913351</td><td>59.818209</td><td>null</td><td>18.518901</td><td>&hellip;</td><td>15.533895</td><td>-20.718788</td><td>-14.112897</td><td>-5.740403</td><td>-38.123096</td><td>-1.412021</td><td>58.584935</td><td>3.6939254</td><td>-39.302658</td><td>23.165888</td><td>-1.866434</td><td>8.090663</td><td>-13.672792</td><td>-9.132719</td><td>-18.115266</td><td>null</td><td>null</td><td>null</td><td>null</td><td>null</td><td>-14.442499</td><td>207.646786</td><td>-15.366503</td><td>-13.114447</td><td>-29.95266</td><td>null</td><td>37.762512</td><td>-20.191843</td><td>-5.125852</td><td>-49.439644</td><td>-10.65554</td><td>null</td><td>20.32029</td><td>-4.41298</td><td>70.220537</td><td>32.971451</td><td>13.813754</td></tr><tr><td>2024-01-02</td><td>&quot;USSLOWL_APPAREL&quot;</td><td>null</td><td>13.589787</td><td>null</td><td>null</td><td>null</td><td>null</td><td>null</td><td>null</td><td>null</td><td>null</td><td>null</td><td>null</td><td>null</td><td>null</td><td>null</td><td>null</td><td>null</td><td>null</td><td>null</td><td>354.715556</td><td>null</td><td>8.348782</td><td>5.1212</td><td>-25.840745</td><td>null</td><td>null</td><td>null</td><td>null</td><td>null</td><td>-11.547717</td><td>-14.546962</td><td>null</td><td>null</td><td>null</td><td>null</td><td>&hellip;</td><td>28.802258</td><td>-49.646252</td><td>-10.215021</td><td>7.182185</td><td>null</td><td>null</td><td>null</td><td>14.085729</td><td>-10.569858</td><td>null</td><td>null</td><td>12.245997</td><td>null</td><td>11.559716</td><td>-59.55256</td><td>null</td><td>null</td><td>null</td><td>null</td><td>null</td><td>-15.965184</td><td>null</td><td>9.479434</td><td>6.402164</td><td>null</td><td>null</td><td>null</td><td>-31.695349</td><td>-27.95097</td><td>-37.876778</td><td>94.287268</td><td>null</td><td>188.228546</td><td>-25.913026</td><td>null</td><td>null</td><td>-3.491858</td></tr><tr><td>2024-01-02</td><td>&quot;USSLOWL_AUTO&quot;</td><td>null</td><td>18.31471</td><td>null</td><td>null</td><td>null</td><td>null</td><td>null</td><td>null</td><td>null</td><td>null</td><td>null</td><td>null</td><td>null</td><td>null</td><td>null</td><td>null</td><td>null</td><td>null</td><td>null</td><td>45.914769</td><td>316.514365</td><td>14.138601</td><td>-2.775562</td><td>-51.901307</td><td>null</td><td>null</td><td>null</td><td>null</td><td>null</td><td>15.828611</td><td>33.022996</td><td>null</td><td>null</td><td>null</td><td>25.709965</td><td>&hellip;</td><td>1.086411</td><td>-39.436239</td><td>-36.082177</td><td>-19.879825</td><td>31.927338</td><td>31.60124</td><td>null</td><td>-8.259771</td><td>-21.681115</td><td>50.296038</td><td>31.042924</td><td>8.243627</td><td>5.000274</td><td>-22.848077</td><td>-48.952146</td><td>null</td><td>null</td><td>null</td><td>null</td><td>null</td><td>-36.953325</td><td>null</td><td>0.668608</td><td>-6.438881</td><td>23.518134</td><td>null</td><td>null</td><td>45.663107</td><td>51.846357</td><td>-44.062383</td><td>52.290205</td><td>null</td><td>34.643823</td><td>-26.062499</td><td>null</td><td>null</td><td>-14.05713</td></tr><tr><td>&hellip;</td><td>&hellip;</td><td>&hellip;</td><td>&hellip;</td><td>&hellip;</td><td>&hellip;</td><td>&hellip;</td><td>&hellip;</td><td>&hellip;</td><td>&hellip;</td><td>&hellip;</td><td>&hellip;</td><td>&hellip;</td><td>&hellip;</td><td>&hellip;</td><td>&hellip;</td><td>&hellip;</td><td>&hellip;</td><td>&hellip;</td><td>&hellip;</td><td>&hellip;</td><td>&hellip;</td><td>&hellip;</td><td>&hellip;</td><td>&hellip;</td><td>&hellip;</td><td>&hellip;</td><td>&hellip;</td><td>&hellip;</td><td>&hellip;</td><td>&hellip;</td><td>&hellip;</td><td>&hellip;</td><td>&hellip;</td><td>&hellip;</td><td>&hellip;</td><td>&hellip;</td><td>&hellip;</td><td>&hellip;</td><td>&hellip;</td><td>&hellip;</td><td>&hellip;</td><td>&hellip;</td><td>&hellip;</td><td>&hellip;</td><td>&hellip;</td><td>&hellip;</td><td>&hellip;</td><td>&hellip;</td><td>&hellip;</td><td>&hellip;</td><td>&hellip;</td><td>&hellip;</td><td>&hellip;</td><td>&hellip;</td><td>&hellip;</td><td>&hellip;</td><td>&hellip;</td><td>&hellip;</td><td>&hellip;</td><td>&hellip;</td><td>&hellip;</td><td>&hellip;</td><td>&hellip;</td><td>&hellip;</td><td>&hellip;</td><td>&hellip;</td><td>&hellip;</td><td>&hellip;</td><td>&hellip;</td><td>&hellip;</td><td>&hellip;</td><td>&hellip;</td><td>&hellip;</td><td>&hellip;</td></tr><tr><td>2025-03-07</td><td>&quot;USSLOWL_TELECOM&quot;</td><td>null</td><td>-50.983168</td><td>null</td><td>null</td><td>null</td><td>null</td><td>null</td><td>null</td><td>null</td><td>null</td><td>null</td><td>null</td><td>null</td><td>null</td><td>null</td><td>null</td><td>null</td><td>null</td><td>null</td><td>null</td><td>null</td><td>null</td><td>null</td><td>null</td><td>null</td><td>null</td><td>null</td><td>null</td><td>null</td><td>null</td><td>null</td><td>null</td><td>null</td><td>null</td><td>null</td><td>&hellip;</td><td>null</td><td>26.883696</td><td>null</td><td>null</td><td>null</td><td>null</td><td>null</td><td>null</td><td>null</td><td>null</td><td>null</td><td>null</td><td>null</td><td>null</td><td>45.422485</td><td>null</td><td>null</td><td>null</td><td>null</td><td>null</td><td>null</td><td>null</td><td>null</td><td>null</td><td>null</td><td>null</td><td>null</td><td>null</td><td>null</td><td>null</td><td>null</td><td>null</td><td>null</td><td>265.197313</td><td>null</td><td>null</td><td>39.140202</td></tr><tr><td>2025-03-07</td><td>&quot;USSLOWL_TRADECO&quot;</td><td>null</td><td>34.911492</td><td>null</td><td>null</td><td>null</td><td>null</td><td>null</td><td>null</td><td>null</td><td>null</td><td>null</td><td>null</td><td>null</td><td>null</td><td>null</td><td>null</td><td>null</td><td>5.466402</td><td>null</td><td>15.4586</td><td>33.239101</td><td>43.620953</td><td>-12.70993</td><td>-16.964508</td><td>null</td><td>null</td><td>74.320362</td><td>null</td><td>null</td><td>-17.700775</td><td>0.130836</td><td>17.144975</td><td>25.052684</td><td>null</td><td>8.48386</td><td>&hellip;</td><td>0.965076</td><td>-20.201602</td><td>-25.617788</td><td>0.522709</td><td>76.489746</td><td>17.074617</td><td>null</td><td>6.164103</td><td>-28.495195</td><td>6.405212</td><td>14.322019</td><td>16.635735</td><td>-16.132312</td><td>-5.078629</td><td>-24.188049</td><td>null</td><td>null</td><td>null</td><td>null</td><td>null</td><td>-23.573468</td><td>null</td><td>-14.824249</td><td>-9.191937</td><td>-1.099565</td><td>null</td><td>57.718115</td><td>-24.914564</td><td>-26.553556</td><td>-25.93333</td><td>37.098598</td><td>null</td><td>13.225714</td><td>-25.452337</td><td>165.571471</td><td>32.083171</td><td>-7.029208</td></tr><tr><td>2025-03-07</td><td>&quot;USSLOWL_TRANSPRT&quot;</td><td>null</td><td>-2.495449</td><td>null</td><td>null</td><td>null</td><td>null</td><td>null</td><td>null</td><td>null</td><td>null</td><td>null</td><td>null</td><td>null</td><td>null</td><td>null</td><td>null</td><td>null</td><td>null</td><td>null</td><td>5.1040361</td><td>37.780537</td><td>32.433868</td><td>3.6671724</td><td>-14.317411</td><td>null</td><td>null</td><td>null</td><td>null</td><td>null</td><td>-10.816952</td><td>-1.363907</td><td>null</td><td>null</td><td>null</td><td>10.886112</td><td>&hellip;</td><td>10.893194</td><td>6.867291</td><td>-7.778553</td><td>-7.811853</td><td>-2.177901</td><td>23.255084</td><td>null</td><td>-2.853501</td><td>-21.481429</td><td>21.27747</td><td>0.132028</td><td>3.511065</td><td>0.20624</td><td>-23.633989</td><td>-9.374746</td><td>null</td><td>null</td><td>null</td><td>null</td><td>null</td><td>-14.654679</td><td>null</td><td>9.608766</td><td>-7.680753</td><td>-0.475787</td><td>null</td><td>77.050526</td><td>11.917428</td><td>-15.090504</td><td>-14.466436</td><td>14.689235</td><td>null</td><td>12.674353</td><td>1.343433</td><td>null</td><td>210.35697</td><td>7.1403538</td></tr><tr><td>2025-03-07</td><td>&quot;USSLOWL_VALUE&quot;</td><td>null</td><td>1.320814</td><td>null</td><td>null</td><td>null</td><td>null</td><td>null</td><td>null</td><td>null</td><td>null</td><td>null</td><td>null</td><td>null</td><td>null</td><td>null</td><td>6.42427</td><td>4.031469</td><td>6.922173</td><td>9.649723</td><td>6.0098384</td><td>3.996831</td><td>11.573861</td><td>0.451071</td><td>-3.431244</td><td>3.753458</td><td>7.094515</td><td>4.188655</td><td>9.571235</td><td>4.981486</td><td>-3.227906</td><td>-2.006781</td><td>0.401645</td><td>2.821163</td><td>3.927519</td><td>1.8930744</td><td>&hellip;</td><td>-1.405992</td><td>-4.944559</td><td>-3.856249</td><td>-0.500438</td><td>-1.169166</td><td>2.479546</td><td>4.979869</td><td>1.788022</td><td>-1.076997</td><td>4.520115</td><td>4.81452</td><td>3.630774</td><td>3.054142</td><td>-0.533294</td><td>-6.227395</td><td>7.96223</td><td>20.686813</td><td>21.817747</td><td>14.817823</td><td>7.595622</td><td>-1.497986</td><td>6.158494</td><td>0.058541</td><td>-3.134349</td><td>0.452608</td><td>null</td><td>3.914962</td><td>-2.380872</td><td>0.887291</td><td>-5.485586</td><td>0.278143</td><td>2.428454</td><td>3.172069</td><td>-3.431782</td><td>5.273534</td><td>2.079767</td><td>0.729116</td></tr><tr><td>2025-03-07</td><td>&quot;USSLOWL_WIRELESS&quot;</td><td>null</td><td>-34.464621</td><td>null</td><td>null</td><td>null</td><td>null</td><td>null</td><td>null</td><td>null</td><td>null</td><td>null</td><td>null</td><td>null</td><td>null</td><td>null</td><td>null</td><td>null</td><td>null</td><td>null</td><td>null</td><td>null</td><td>null</td><td>null</td><td>null</td><td>null</td><td>null</td><td>null</td><td>null</td><td>null</td><td>null</td><td>null</td><td>null</td><td>null</td><td>null</td><td>null</td><td>&hellip;</td><td>null</td><td>21.604725</td><td>null</td><td>null</td><td>null</td><td>null</td><td>null</td><td>null</td><td>null</td><td>null</td><td>null</td><td>null</td><td>null</td><td>null</td><td>18.821844</td><td>null</td><td>null</td><td>null</td><td>null</td><td>null</td><td>null</td><td>null</td><td>null</td><td>null</td><td>null</td><td>null</td><td>null</td><td>null</td><td>null</td><td>null</td><td>null</td><td>null</td><td>null</td><td>null</td><td>null</td><td>null</td><td>141.517728</td></tr></tbody></table></div>"
      ],
      "text/plain": [
       "shape: (7_980, 78)\n",
       "┌───────────┬───────────┬───────────┬───────────┬───┬───────────┬───────────┬───────────┬──────────┐\n",
       "│ date      ┆ factor1   ┆ USSLOWL_B ┆ USSLOWL_C ┆ … ┆ USSLOWL_T ┆ USSLOWL_T ┆ USSLOWL_T ┆ USSLOWL_ │\n",
       "│ ---       ┆ ---       ┆ ETA       ┆ OUNTRY    ┆   ┆ ELECOM    ┆ RADECO    ┆ RANSPRT   ┆ WIRELESS │\n",
       "│ date      ┆ str       ┆ ---       ┆ ---       ┆   ┆ ---       ┆ ---       ┆ ---       ┆ ---      │\n",
       "│           ┆           ┆ f64       ┆ f64       ┆   ┆ f64       ┆ f64       ┆ f64       ┆ f64      │\n",
       "╞═══════════╪═══════════╪═══════════╪═══════════╪═══╪═══════════╪═══════════╪═══════════╪══════════╡\n",
       "│ 2024-01-0 ┆ USSLOWL_A ┆ null      ┆ 23.349064 ┆ … ┆ -13.07142 ┆ 26.786384 ┆ -14.18732 ┆ -7.10804 │\n",
       "│ 2         ┆ ERODEF    ┆           ┆           ┆   ┆ 2         ┆           ┆ 5         ┆ 3        │\n",
       "│ 2024-01-0 ┆ USSLOWL_A ┆ null      ┆ 27.90279  ┆ … ┆ -16.01842 ┆ null      ┆ 23.622732 ┆ -25.5329 │\n",
       "│ 2         ┆ IRLINES   ┆           ┆           ┆   ┆ 4         ┆           ┆           ┆ 36       │\n",
       "│ 2024-01-0 ┆ USSLOWL_A ┆ null      ┆ 25.435159 ┆ … ┆ -4.41298  ┆ 70.220537 ┆ 32.971451 ┆ 13.81375 │\n",
       "│ 2         ┆ LUMSTEL   ┆           ┆           ┆   ┆           ┆           ┆           ┆ 4        │\n",
       "│ 2024-01-0 ┆ USSLOWL_A ┆ null      ┆ 13.589787 ┆ … ┆ -25.91302 ┆ null      ┆ null      ┆ -3.49185 │\n",
       "│ 2         ┆ PPAREL    ┆           ┆           ┆   ┆ 6         ┆           ┆           ┆ 8        │\n",
       "│ 2024-01-0 ┆ USSLOWL_A ┆ null      ┆ 18.31471  ┆ … ┆ -26.06249 ┆ null      ┆ null      ┆ -14.0571 │\n",
       "│ 2         ┆ UTO       ┆           ┆           ┆   ┆ 9         ┆           ┆           ┆ 3        │\n",
       "│ …         ┆ …         ┆ …         ┆ …         ┆ … ┆ …         ┆ …         ┆ …         ┆ …        │\n",
       "│ 2025-03-0 ┆ USSLOWL_T ┆ null      ┆ -50.98316 ┆ … ┆ 265.19731 ┆ null      ┆ null      ┆ 39.14020 │\n",
       "│ 7         ┆ ELECOM    ┆           ┆ 8         ┆   ┆ 3         ┆           ┆           ┆ 2        │\n",
       "│ 2025-03-0 ┆ USSLOWL_T ┆ null      ┆ 34.911492 ┆ … ┆ -25.45233 ┆ 165.57147 ┆ 32.083171 ┆ -7.02920 │\n",
       "│ 7         ┆ RADECO    ┆           ┆           ┆   ┆ 7         ┆ 1         ┆           ┆ 8        │\n",
       "│ 2025-03-0 ┆ USSLOWL_T ┆ null      ┆ -2.495449 ┆ … ┆ 1.343433  ┆ null      ┆ 210.35697 ┆ 7.140353 │\n",
       "│ 7         ┆ RANSPRT   ┆           ┆           ┆   ┆           ┆           ┆           ┆ 8        │\n",
       "│ 2025-03-0 ┆ USSLOWL_V ┆ null      ┆ 1.320814  ┆ … ┆ -3.431782 ┆ 5.273534  ┆ 2.079767  ┆ 0.729116 │\n",
       "│ 7         ┆ ALUE      ┆           ┆           ┆   ┆           ┆           ┆           ┆          │\n",
       "│ 2025-03-0 ┆ USSLOWL_W ┆ null      ┆ -34.46462 ┆ … ┆ null      ┆ null      ┆ null      ┆ 141.5177 │\n",
       "│ 7         ┆ IRELESS   ┆           ┆ 1         ┆   ┆           ┆           ┆           ┆ 28       │\n",
       "└───────────┴───────────┴───────────┴───────────┴───┴───────────┴───────────┴───────────┴──────────┘"
      ]
     },
     "metadata": {},
     "output_type": "display_data"
    }
   ],
   "source": [
    "with Database() as db:\n",
    "    display(db.execute(\"SELECT * FROM covariances_wide ORDER BY date, factor1;\").pl())"
   ]
  },
  {
   "cell_type": "code",
   "execution_count": 27,
   "metadata": {},
   "outputs": [
    {
     "data": {
      "text/html": [
       "<div><style>\n",
       ".dataframe > thead > tr,\n",
       ".dataframe > tbody > tr {\n",
       "  text-align: right;\n",
       "  white-space: pre-wrap;\n",
       "}\n",
       "</style>\n",
       "<small>shape: (40_274_390, 4)</small><table border=\"1\" class=\"dataframe\"><thead><tr><th>date</th><th>barrid</th><th>factor</th><th>exposure</th></tr><tr><td>date</td><td>str</td><td>str</td><td>f64</td></tr></thead><tbody><tr><td>2024-01-02</td><td>&quot;ARGA1B1&quot;</td><td>&quot;USSLOWL_BETA&quot;</td><td>0.893</td></tr><tr><td>2024-01-02</td><td>&quot;ARGA1B1&quot;</td><td>&quot;USSLOWL_COUNTRY&quot;</td><td>1.0</td></tr><tr><td>2024-01-02</td><td>&quot;ARGA1B1&quot;</td><td>&quot;USSLOWL_DIVYILD&quot;</td><td>-0.775</td></tr><tr><td>2024-01-02</td><td>&quot;ARGA1B1&quot;</td><td>&quot;USSLOWL_EARNQLTY&quot;</td><td>-0.717</td></tr><tr><td>2024-01-02</td><td>&quot;ARGA1B1&quot;</td><td>&quot;USSLOWL_EARNYILD&quot;</td><td>-0.919</td></tr><tr><td>&hellip;</td><td>&hellip;</td><td>&hellip;</td><td>&hellip;</td></tr><tr><td>2025-03-07</td><td>&quot;USBQZX1&quot;</td><td>&quot;USSLOWL_PROFIT&quot;</td><td>-1.565</td></tr><tr><td>2025-03-07</td><td>&quot;USBQZX1&quot;</td><td>&quot;USSLOWL_PROSPECT&quot;</td><td>-0.099</td></tr><tr><td>2025-03-07</td><td>&quot;USBQZX1&quot;</td><td>&quot;USSLOWL_RESVOL&quot;</td><td>-2.841</td></tr><tr><td>2025-03-07</td><td>&quot;USBQZX1&quot;</td><td>&quot;USSLOWL_SIZE&quot;</td><td>-5.024</td></tr><tr><td>2025-03-07</td><td>&quot;USBQZX1&quot;</td><td>&quot;USSLOWL_VALUE&quot;</td><td>1.595</td></tr></tbody></table></div>"
      ],
      "text/plain": [
       "shape: (40_274_390, 4)\n",
       "┌────────────┬─────────┬──────────────────┬──────────┐\n",
       "│ date       ┆ barrid  ┆ factor           ┆ exposure │\n",
       "│ ---        ┆ ---     ┆ ---              ┆ ---      │\n",
       "│ date       ┆ str     ┆ str              ┆ f64      │\n",
       "╞════════════╪═════════╪══════════════════╪══════════╡\n",
       "│ 2024-01-02 ┆ ARGA1B1 ┆ USSLOWL_BETA     ┆ 0.893    │\n",
       "│ 2024-01-02 ┆ ARGA1B1 ┆ USSLOWL_COUNTRY  ┆ 1.0      │\n",
       "│ 2024-01-02 ┆ ARGA1B1 ┆ USSLOWL_DIVYILD  ┆ -0.775   │\n",
       "│ 2024-01-02 ┆ ARGA1B1 ┆ USSLOWL_EARNQLTY ┆ -0.717   │\n",
       "│ 2024-01-02 ┆ ARGA1B1 ┆ USSLOWL_EARNYILD ┆ -0.919   │\n",
       "│ …          ┆ …       ┆ …                ┆ …        │\n",
       "│ 2025-03-07 ┆ USBQZX1 ┆ USSLOWL_PROFIT   ┆ -1.565   │\n",
       "│ 2025-03-07 ┆ USBQZX1 ┆ USSLOWL_PROSPECT ┆ -0.099   │\n",
       "│ 2025-03-07 ┆ USBQZX1 ┆ USSLOWL_RESVOL   ┆ -2.841   │\n",
       "│ 2025-03-07 ┆ USBQZX1 ┆ USSLOWL_SIZE     ┆ -5.024   │\n",
       "│ 2025-03-07 ┆ USBQZX1 ┆ USSLOWL_VALUE    ┆ 1.595    │\n",
       "└────────────┴─────────┴──────────────────┴──────────┘"
      ]
     },
     "metadata": {},
     "output_type": "display_data"
    }
   ],
   "source": [
    "with Database() as db:\n",
    "    display(db.execute(\"SELECT * FROM exposures ORDER BY date, barrid, factor;\").pl())"
   ]
  },
  {
   "cell_type": "code",
   "execution_count": 28,
   "metadata": {},
   "outputs": [
    {
     "data": {
      "text/html": [
       "<div><style>\n",
       ".dataframe > thead > tr,\n",
       ".dataframe > tbody > tr {\n",
       "  text-align: right;\n",
       "  white-space: pre-wrap;\n",
       "}\n",
       "</style>\n",
       "<small>shape: (2_195_706, 78)</small><table border=\"1\" class=\"dataframe\"><thead><tr><th>date</th><th>barrid</th><th>USSLOWL_BETA</th><th>USSLOWL_COUNTRY</th><th>USSLOWL_DIVYILD</th><th>USSLOWL_EARNQLTY</th><th>USSLOWL_EARNYILD</th><th>USSLOWL_GROWTH</th><th>USSLOWL_LEVERAGE</th><th>USSLOWL_LIQUIDTY</th><th>USSLOWL_LTREVRSL</th><th>USSLOWL_MGMTQLTY</th><th>USSLOWL_MIDCAP</th><th>USSLOWL_MOMENTUM</th><th>USSLOWL_PROFIT</th><th>USSLOWL_PROSPECT</th><th>USSLOWL_SIZE</th><th>USSLOWL_VALUE</th><th>USSLOWL_AERODEF</th><th>USSLOWL_AIRLINES</th><th>USSLOWL_ALUMSTEL</th><th>USSLOWL_APPAREL</th><th>USSLOWL_AUTO</th><th>USSLOWL_BANKS</th><th>USSLOWL_BEVTOB</th><th>USSLOWL_BIOLIFE</th><th>USSLOWL_BLDGPROD</th><th>USSLOWL_CHEM</th><th>USSLOWL_CNSTENG</th><th>USSLOWL_CNSTMACH</th><th>USSLOWL_CNSTMATL</th><th>USSLOWL_COMMEQP</th><th>USSLOWL_COMPELEC</th><th>USSLOWL_COMSVCS</th><th>USSLOWL_CONGLOM</th><th>USSLOWL_CONTAINR</th><th>USSLOWL_DISTRIB</th><th>&hellip;</th><th>USSLOWL_FOODRET</th><th>USSLOWL_GASUTIL</th><th>USSLOWL_HLTHEQP</th><th>USSLOWL_HLTHSVCS</th><th>USSLOWL_HOMEBLDG</th><th>USSLOWL_HOUSEDUR</th><th>USSLOWL_INDMACH</th><th>USSLOWL_INSURNCE</th><th>USSLOWL_INTERNET</th><th>USSLOWL_LEISPROD</th><th>USSLOWL_LEISSVCS</th><th>USSLOWL_LIFEINS</th><th>USSLOWL_MEDIA</th><th>USSLOWL_MGDHLTH</th><th>USSLOWL_MULTUTIL</th><th>USSLOWL_OILGSCON</th><th>USSLOWL_OILGSDRL</th><th>USSLOWL_OILGSEQP</th><th>USSLOWL_OILGSEXP</th><th>USSLOWL_PAPER</th><th>USSLOWL_PHARMA</th><th>USSLOWL_PRECMTLS</th><th>USSLOWL_PSNLPROD</th><th>USSLOWL_REALEST</th><th>USSLOWL_RESTAUR</th><th>USSLOWL_RESVOL</th><th>USSLOWL_ROADRAIL</th><th>USSLOWL_SEMICOND</th><th>USSLOWL_SEMIEQP</th><th>USSLOWL_SOFTWARE</th><th>USSLOWL_SPLTYRET</th><th>USSLOWL_SPTYCHEM</th><th>USSLOWL_SPTYSTOR</th><th>USSLOWL_TELECOM</th><th>USSLOWL_TRADECO</th><th>USSLOWL_TRANSPRT</th><th>USSLOWL_WIRELESS</th></tr><tr><td>date</td><td>str</td><td>f64</td><td>f64</td><td>f64</td><td>f64</td><td>f64</td><td>f64</td><td>f64</td><td>f64</td><td>f64</td><td>f64</td><td>f64</td><td>f64</td><td>f64</td><td>f64</td><td>f64</td><td>f64</td><td>f64</td><td>f64</td><td>f64</td><td>f64</td><td>f64</td><td>f64</td><td>f64</td><td>f64</td><td>f64</td><td>f64</td><td>f64</td><td>f64</td><td>f64</td><td>f64</td><td>f64</td><td>f64</td><td>f64</td><td>f64</td><td>f64</td><td>&hellip;</td><td>f64</td><td>f64</td><td>f64</td><td>f64</td><td>f64</td><td>f64</td><td>f64</td><td>f64</td><td>f64</td><td>f64</td><td>f64</td><td>f64</td><td>f64</td><td>f64</td><td>f64</td><td>f64</td><td>f64</td><td>f64</td><td>f64</td><td>f64</td><td>f64</td><td>f64</td><td>f64</td><td>f64</td><td>f64</td><td>f64</td><td>f64</td><td>f64</td><td>f64</td><td>f64</td><td>f64</td><td>f64</td><td>f64</td><td>f64</td><td>f64</td><td>f64</td><td>f64</td></tr></thead><tbody><tr><td>2024-01-02</td><td>&quot;ARGA1B1&quot;</td><td>0.893</td><td>1.0</td><td>-0.775</td><td>-0.717</td><td>-0.919</td><td>0.639</td><td>0.415</td><td>3.044</td><td>0.573</td><td>-1.421</td><td>0.67</td><td>2.246</td><td>-0.476</td><td>2.298</td><td>-0.801</td><td>-0.487</td><td>null</td><td>null</td><td>null</td><td>null</td><td>null</td><td>null</td><td>null</td><td>null</td><td>null</td><td>null</td><td>null</td><td>null</td><td>null</td><td>null</td><td>null</td><td>null</td><td>null</td><td>null</td><td>null</td><td>&hellip;</td><td>null</td><td>null</td><td>null</td><td>null</td><td>null</td><td>null</td><td>null</td><td>null</td><td>1.0</td><td>null</td><td>null</td><td>null</td><td>null</td><td>null</td><td>null</td><td>null</td><td>null</td><td>null</td><td>null</td><td>null</td><td>null</td><td>null</td><td>null</td><td>null</td><td>null</td><td>2.424</td><td>null</td><td>null</td><td>null</td><td>null</td><td>null</td><td>null</td><td>null</td><td>null</td><td>null</td><td>null</td><td>null</td></tr><tr><td>2024-01-02</td><td>&quot;ARGA1G1&quot;</td><td>-0.969</td><td>1.0</td><td>0.487</td><td>0.569</td><td>-0.099</td><td>0.384</td><td>1.25</td><td>0.73</td><td>0.632</td><td>0.061</td><td>0.039</td><td>2.246</td><td>0.066</td><td>2.536</td><td>0.109</td><td>-0.804</td><td>null</td><td>null</td><td>null</td><td>null</td><td>null</td><td>null</td><td>null</td><td>null</td><td>null</td><td>null</td><td>null</td><td>null</td><td>null</td><td>null</td><td>null</td><td>null</td><td>null</td><td>null</td><td>null</td><td>&hellip;</td><td>null</td><td>null</td><td>null</td><td>null</td><td>null</td><td>null</td><td>null</td><td>null</td><td>null</td><td>null</td><td>null</td><td>null</td><td>null</td><td>null</td><td>null</td><td>null</td><td>null</td><td>null</td><td>null</td><td>null</td><td>null</td><td>null</td><td>null</td><td>null</td><td>1.0</td><td>2.638</td><td>null</td><td>null</td><td>null</td><td>null</td><td>null</td><td>null</td><td>null</td><td>null</td><td>null</td><td>null</td><td>null</td></tr><tr><td>2024-01-02</td><td>&quot;ARGA1K1&quot;</td><td>-1.51</td><td>1.0</td><td>0.368</td><td>0.223</td><td>0.077</td><td>-0.394</td><td>0.093</td><td>0.314</td><td>0.475</td><td>0.1</td><td>0.52</td><td>1.722</td><td>0.365</td><td>2.743</td><td>-0.545</td><td>-0.336</td><td>null</td><td>null</td><td>null</td><td>null</td><td>null</td><td>null</td><td>null</td><td>null</td><td>null</td><td>null</td><td>null</td><td>null</td><td>null</td><td>null</td><td>null</td><td>null</td><td>null</td><td>null</td><td>null</td><td>&hellip;</td><td>null</td><td>null</td><td>null</td><td>null</td><td>null</td><td>null</td><td>null</td><td>null</td><td>null</td><td>null</td><td>null</td><td>null</td><td>null</td><td>null</td><td>null</td><td>null</td><td>null</td><td>null</td><td>null</td><td>null</td><td>null</td><td>null</td><td>null</td><td>null</td><td>null</td><td>2.638</td><td>null</td><td>null</td><td>null</td><td>null</td><td>null</td><td>null</td><td>null</td><td>null</td><td>null</td><td>null</td><td>null</td></tr><tr><td>2024-01-02</td><td>&quot;ARGA621&quot;</td><td>1.987</td><td>1.0</td><td>-0.775</td><td>-1.094</td><td>-1.106</td><td>2.367</td><td>0.67</td><td>-0.36</td><td>1.295</td><td>-1.84</td><td>0.465</td><td>2.246</td><td>-0.599</td><td>2.815</td><td>-2.17</td><td>-0.187</td><td>null</td><td>null</td><td>null</td><td>null</td><td>null</td><td>null</td><td>null</td><td>null</td><td>null</td><td>null</td><td>null</td><td>null</td><td>null</td><td>null</td><td>null</td><td>null</td><td>null</td><td>null</td><td>null</td><td>&hellip;</td><td>null</td><td>null</td><td>null</td><td>null</td><td>null</td><td>null</td><td>null</td><td>null</td><td>null</td><td>null</td><td>null</td><td>null</td><td>null</td><td>null</td><td>null</td><td>null</td><td>null</td><td>null</td><td>null</td><td>null</td><td>null</td><td>null</td><td>null</td><td>null</td><td>null</td><td>2.638</td><td>null</td><td>null</td><td>null</td><td>null</td><td>null</td><td>null</td><td>null</td><td>null</td><td>null</td><td>null</td><td>null</td></tr><tr><td>2024-01-02</td><td>&quot;ARGA631&quot;</td><td>0.392</td><td>1.0</td><td>-0.775</td><td>-0.537</td><td>-0.498</td><td>0.889</td><td>-0.127</td><td>2.497</td><td>0.312</td><td>0.327</td><td>-0.021</td><td>2.246</td><td>-0.325</td><td>2.505</td><td>0.188</td><td>-0.494</td><td>null</td><td>null</td><td>null</td><td>null</td><td>null</td><td>null</td><td>null</td><td>null</td><td>null</td><td>null</td><td>null</td><td>null</td><td>null</td><td>null</td><td>null</td><td>null</td><td>null</td><td>null</td><td>null</td><td>&hellip;</td><td>null</td><td>null</td><td>null</td><td>null</td><td>null</td><td>null</td><td>null</td><td>null</td><td>null</td><td>null</td><td>null</td><td>null</td><td>null</td><td>null</td><td>null</td><td>null</td><td>null</td><td>null</td><td>null</td><td>null</td><td>null</td><td>null</td><td>null</td><td>null</td><td>null</td><td>2.407</td><td>1.0</td><td>null</td><td>null</td><td>null</td><td>null</td><td>null</td><td>null</td><td>null</td><td>null</td><td>null</td><td>null</td></tr><tr><td>&hellip;</td><td>&hellip;</td><td>&hellip;</td><td>&hellip;</td><td>&hellip;</td><td>&hellip;</td><td>&hellip;</td><td>&hellip;</td><td>&hellip;</td><td>&hellip;</td><td>&hellip;</td><td>&hellip;</td><td>&hellip;</td><td>&hellip;</td><td>&hellip;</td><td>&hellip;</td><td>&hellip;</td><td>&hellip;</td><td>&hellip;</td><td>&hellip;</td><td>&hellip;</td><td>&hellip;</td><td>&hellip;</td><td>&hellip;</td><td>&hellip;</td><td>&hellip;</td><td>&hellip;</td><td>&hellip;</td><td>&hellip;</td><td>&hellip;</td><td>&hellip;</td><td>&hellip;</td><td>&hellip;</td><td>&hellip;</td><td>&hellip;</td><td>&hellip;</td><td>&hellip;</td><td>&hellip;</td><td>&hellip;</td><td>&hellip;</td><td>&hellip;</td><td>&hellip;</td><td>&hellip;</td><td>&hellip;</td><td>&hellip;</td><td>&hellip;</td><td>&hellip;</td><td>&hellip;</td><td>&hellip;</td><td>&hellip;</td><td>&hellip;</td><td>&hellip;</td><td>&hellip;</td><td>&hellip;</td><td>&hellip;</td><td>&hellip;</td><td>&hellip;</td><td>&hellip;</td><td>&hellip;</td><td>&hellip;</td><td>&hellip;</td><td>&hellip;</td><td>&hellip;</td><td>&hellip;</td><td>&hellip;</td><td>&hellip;</td><td>&hellip;</td><td>&hellip;</td><td>&hellip;</td><td>&hellip;</td><td>&hellip;</td><td>&hellip;</td><td>&hellip;</td><td>&hellip;</td><td>&hellip;</td></tr><tr><td>2025-03-07</td><td>&quot;USBQZG1&quot;</td><td>-0.782</td><td>1.0</td><td>-0.704</td><td>0.558</td><td>2.725</td><td>-0.071</td><td>1.065</td><td>3.403</td><td>-0.709</td><td>-2.641</td><td>-2.867</td><td>-1.07</td><td>-0.485</td><td>-0.539</td><td>-4.022</td><td>3.236</td><td>null</td><td>null</td><td>null</td><td>null</td><td>null</td><td>null</td><td>null</td><td>null</td><td>null</td><td>null</td><td>null</td><td>null</td><td>null</td><td>null</td><td>null</td><td>null</td><td>null</td><td>null</td><td>null</td><td>&hellip;</td><td>null</td><td>null</td><td>null</td><td>null</td><td>null</td><td>null</td><td>null</td><td>null</td><td>null</td><td>null</td><td>null</td><td>null</td><td>null</td><td>null</td><td>null</td><td>null</td><td>null</td><td>null</td><td>1.0</td><td>null</td><td>null</td><td>null</td><td>null</td><td>null</td><td>null</td><td>-1.253</td><td>null</td><td>null</td><td>null</td><td>null</td><td>null</td><td>null</td><td>null</td><td>null</td><td>null</td><td>null</td><td>null</td></tr><tr><td>2025-03-07</td><td>&quot;USBQZQ1&quot;</td><td>0.189</td><td>1.0</td><td>-0.704</td><td>-2.646</td><td>-1.837</td><td>0.834</td><td>-0.89</td><td>-1.348</td><td>0.597</td><td>0.028</td><td>-2.867</td><td>-0.599</td><td>-1.79</td><td>-0.088</td><td>-4.46</td><td>-0.669</td><td>null</td><td>null</td><td>null</td><td>null</td><td>null</td><td>null</td><td>null</td><td>null</td><td>null</td><td>null</td><td>null</td><td>null</td><td>null</td><td>null</td><td>0.498</td><td>null</td><td>null</td><td>null</td><td>null</td><td>&hellip;</td><td>null</td><td>null</td><td>null</td><td>null</td><td>null</td><td>null</td><td>null</td><td>null</td><td>0.502</td><td>null</td><td>null</td><td>null</td><td>null</td><td>null</td><td>null</td><td>null</td><td>null</td><td>null</td><td>null</td><td>null</td><td>null</td><td>null</td><td>null</td><td>null</td><td>null</td><td>2.738</td><td>null</td><td>null</td><td>null</td><td>null</td><td>null</td><td>null</td><td>null</td><td>null</td><td>null</td><td>null</td><td>null</td></tr><tr><td>2025-03-07</td><td>&quot;USBQZR1&quot;</td><td>-0.735</td><td>1.0</td><td>-0.699</td><td>-2.874</td><td>-1.696</td><td>-0.387</td><td>0.361</td><td>2.287</td><td>0.796</td><td>2.024</td><td>-1.784</td><td>-0.704</td><td>-0.459</td><td>0.039</td><td>-3.293</td><td>-1.32</td><td>null</td><td>null</td><td>null</td><td>null</td><td>null</td><td>null</td><td>null</td><td>null</td><td>null</td><td>null</td><td>null</td><td>null</td><td>null</td><td>null</td><td>null</td><td>null</td><td>null</td><td>null</td><td>null</td><td>&hellip;</td><td>null</td><td>null</td><td>1.0</td><td>null</td><td>null</td><td>null</td><td>null</td><td>null</td><td>null</td><td>null</td><td>null</td><td>null</td><td>null</td><td>null</td><td>null</td><td>null</td><td>null</td><td>null</td><td>null</td><td>null</td><td>null</td><td>null</td><td>null</td><td>null</td><td>null</td><td>-0.141</td><td>null</td><td>null</td><td>null</td><td>null</td><td>null</td><td>null</td><td>null</td><td>null</td><td>null</td><td>null</td><td>null</td></tr><tr><td>2025-03-07</td><td>&quot;USBQZV1&quot;</td><td>-0.718</td><td>1.0</td><td>-0.704</td><td>-2.874</td><td>-1.46</td><td>1.138</td><td>-0.859</td><td>0.752</td><td>0.513</td><td>-2.641</td><td>-2.797</td><td>-0.917</td><td>-0.28</td><td>-0.533</td><td>-3.579</td><td>-0.509</td><td>null</td><td>null</td><td>null</td><td>null</td><td>null</td><td>null</td><td>null</td><td>1.0</td><td>null</td><td>null</td><td>null</td><td>null</td><td>null</td><td>null</td><td>null</td><td>null</td><td>null</td><td>null</td><td>null</td><td>&hellip;</td><td>null</td><td>null</td><td>null</td><td>null</td><td>null</td><td>null</td><td>null</td><td>null</td><td>null</td><td>null</td><td>null</td><td>null</td><td>null</td><td>null</td><td>null</td><td>null</td><td>null</td><td>null</td><td>null</td><td>null</td><td>null</td><td>null</td><td>null</td><td>null</td><td>null</td><td>-1.23</td><td>null</td><td>null</td><td>null</td><td>null</td><td>null</td><td>null</td><td>null</td><td>null</td><td>null</td><td>null</td><td>null</td></tr><tr><td>2025-03-07</td><td>&quot;USBQZX1&quot;</td><td>0.316</td><td>1.0</td><td>-0.704</td><td>-1.763</td><td>-0.171</td><td>-1.083</td><td>-0.491</td><td>1.468</td><td>-0.201</td><td>-0.364</td><td>-2.867</td><td>-1.271</td><td>-1.565</td><td>-0.099</td><td>-5.024</td><td>1.595</td><td>null</td><td>null</td><td>null</td><td>null</td><td>null</td><td>null</td><td>null</td><td>null</td><td>null</td><td>null</td><td>null</td><td>null</td><td>null</td><td>null</td><td>null</td><td>null</td><td>null</td><td>null</td><td>null</td><td>&hellip;</td><td>null</td><td>null</td><td>null</td><td>null</td><td>null</td><td>null</td><td>null</td><td>null</td><td>null</td><td>null</td><td>null</td><td>null</td><td>null</td><td>null</td><td>null</td><td>null</td><td>null</td><td>null</td><td>null</td><td>null</td><td>null</td><td>1.0</td><td>null</td><td>null</td><td>null</td><td>-2.841</td><td>null</td><td>null</td><td>null</td><td>null</td><td>null</td><td>null</td><td>null</td><td>null</td><td>null</td><td>null</td><td>null</td></tr></tbody></table></div>"
      ],
      "text/plain": [
       "shape: (2_195_706, 78)\n",
       "┌────────────┬─────────┬───────────┬───────────┬───┬───────────┬───────────┬───────────┬───────────┐\n",
       "│ date       ┆ barrid  ┆ USSLOWL_B ┆ USSLOWL_C ┆ … ┆ USSLOWL_T ┆ USSLOWL_T ┆ USSLOWL_T ┆ USSLOWL_W │\n",
       "│ ---        ┆ ---     ┆ ETA       ┆ OUNTRY    ┆   ┆ ELECOM    ┆ RADECO    ┆ RANSPRT   ┆ IRELESS   │\n",
       "│ date       ┆ str     ┆ ---       ┆ ---       ┆   ┆ ---       ┆ ---       ┆ ---       ┆ ---       │\n",
       "│            ┆         ┆ f64       ┆ f64       ┆   ┆ f64       ┆ f64       ┆ f64       ┆ f64       │\n",
       "╞════════════╪═════════╪═══════════╪═══════════╪═══╪═══════════╪═══════════╪═══════════╪═══════════╡\n",
       "│ 2024-01-02 ┆ ARGA1B1 ┆ 0.893     ┆ 1.0       ┆ … ┆ null      ┆ null      ┆ null      ┆ null      │\n",
       "│ 2024-01-02 ┆ ARGA1G1 ┆ -0.969    ┆ 1.0       ┆ … ┆ null      ┆ null      ┆ null      ┆ null      │\n",
       "│ 2024-01-02 ┆ ARGA1K1 ┆ -1.51     ┆ 1.0       ┆ … ┆ null      ┆ null      ┆ null      ┆ null      │\n",
       "│ 2024-01-02 ┆ ARGA621 ┆ 1.987     ┆ 1.0       ┆ … ┆ null      ┆ null      ┆ null      ┆ null      │\n",
       "│ 2024-01-02 ┆ ARGA631 ┆ 0.392     ┆ 1.0       ┆ … ┆ null      ┆ null      ┆ null      ┆ null      │\n",
       "│ …          ┆ …       ┆ …         ┆ …         ┆ … ┆ …         ┆ …         ┆ …         ┆ …         │\n",
       "│ 2025-03-07 ┆ USBQZG1 ┆ -0.782    ┆ 1.0       ┆ … ┆ null      ┆ null      ┆ null      ┆ null      │\n",
       "│ 2025-03-07 ┆ USBQZQ1 ┆ 0.189     ┆ 1.0       ┆ … ┆ null      ┆ null      ┆ null      ┆ null      │\n",
       "│ 2025-03-07 ┆ USBQZR1 ┆ -0.735    ┆ 1.0       ┆ … ┆ null      ┆ null      ┆ null      ┆ null      │\n",
       "│ 2025-03-07 ┆ USBQZV1 ┆ -0.718    ┆ 1.0       ┆ … ┆ null      ┆ null      ┆ null      ┆ null      │\n",
       "│ 2025-03-07 ┆ USBQZX1 ┆ 0.316     ┆ 1.0       ┆ … ┆ null      ┆ null      ┆ null      ┆ null      │\n",
       "└────────────┴─────────┴───────────┴───────────┴───┴───────────┴───────────┴───────────┴───────────┘"
      ]
     },
     "metadata": {},
     "output_type": "display_data"
    }
   ],
   "source": [
    "with Database() as db:\n",
    "    display(db.execute(\"SELECT * FROM exposures_wide ORDER BY date, barrid;\").pl())"
   ]
  },
  {
   "cell_type": "code",
   "execution_count": null,
   "metadata": {},
   "outputs": [],
   "source": []
  }
 ],
 "metadata": {
  "kernelspec": {
   "display_name": ".venv",
   "language": "python",
   "name": "python3"
  },
  "language_info": {
   "codemirror_mode": {
    "name": "ipython",
    "version": 3
   },
   "file_extension": ".py",
   "mimetype": "text/x-python",
   "name": "python",
   "nbconvert_exporter": "python",
   "pygments_lexer": "ipython3",
   "version": "3.11.11"
  }
 },
 "nbformat": 4,
 "nbformat_minor": 2
}
