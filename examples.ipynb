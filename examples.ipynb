{
 "cells": [
  {
   "cell_type": "code",
   "execution_count": 7,
   "metadata": {},
   "outputs": [],
   "source": [
    "from pipelines.database import Database\n",
    "import polars as pl"
   ]
  },
  {
   "cell_type": "code",
   "execution_count": 8,
   "metadata": {},
   "outputs": [],
   "source": [
    "db = Database().connect()"
   ]
  },
  {
   "cell_type": "code",
   "execution_count": 9,
   "metadata": {},
   "outputs": [
    {
     "data": {
      "text/html": [
       "<div><style>\n",
       ".dataframe > thead > tr,\n",
       ".dataframe > tbody > tr {\n",
       "  text-align: right;\n",
       "  white-space: pre-wrap;\n",
       "}\n",
       "</style>\n",
       "<small>shape: (748_529, 29)</small><table border=\"1\" class=\"dataframe\"><thead><tr><th>date</th><th>rootid</th><th>barrid</th><th>cins</th><th>cusip</th><th>isin</th><th>localid</th><th>ticker</th><th>name</th><th>instrument</th><th>issuerid</th><th>iso_country_code</th><th>iso_currency_code</th><th>price</th><th>market_cap</th><th>price_source</th><th>currency</th><th>return</th><th>specific_return</th><th>yield</th><th>total_risk</th><th>specific_risk</th><th>historical_beta</th><th>predicted_beta</th><th>russell_2000</th><th>russell_1000</th><th>russell_3000_weight</th><th>russell_2000_weight</th><th>russell_1000_weight</th></tr><tr><td>date</td><td>str</td><td>str</td><td>str</td><td>str</td><td>str</td><td>str</td><td>str</td><td>str</td><td>str</td><td>str</td><td>str</td><td>str</td><td>f64</td><td>f64</td><td>str</td><td>str</td><td>f64</td><td>f64</td><td>f64</td><td>f64</td><td>f64</td><td>f64</td><td>f64</td><td>bool</td><td>bool</td><td>f64</td><td>f64</td><td>f64</td></tr></thead><tbody><tr><td>2025-01-02</td><td>&quot;USBDK11&quot;</td><td>&quot;ARGA1B1&quot;</td><td>&quot;P0R67N798&quot;</td><td>&quot;P0R67N798&quot;</td><td>&quot;ARBCOM4601H3&quot;</td><td>&quot;ARSNAP&quot;</td><td>null</td><td>&quot;SNAP INC&quot;</td><td>&quot;GDR&quot;</td><td>&quot;119945&quot;</td><td>&quot;ARG&quot;</td><td>&quot;ARS&quot;</td><td>13250.0</td><td>1.8447e13</td><td>&quot;MSCIBARRA&quot;</td><td>&quot;ARS&quot;</td><td>2.7132</td><td>1.099</td><td>0.0</td><td>73.016713</td><td>61.342732</td><td>1.76315</td><td>2.067621</td><td>null</td><td>null</td><td>null</td><td>null</td><td>null</td></tr><tr><td>2025-01-02</td><td>&quot;USAPQX1&quot;</td><td>&quot;ARGA1G1&quot;</td><td>&quot;P0R682868&quot;</td><td>&quot;P0R682868&quot;</td><td>&quot;ARDEUT111481&quot;</td><td>&quot;ARSBUX2&quot;</td><td>null</td><td>&quot;STARBUCKS CORP&quot;</td><td>&quot;GDR&quot;</td><td>&quot;A36353&quot;</td><td>&quot;ARG&quot;</td><td>&quot;ARS&quot;</td><td>8980.0</td><td>1.2249e14</td><td>&quot;MSCIBARRA&quot;</td><td>&quot;ARS&quot;</td><td>0.4474</td><td>-0.072</td><td>2.673973</td><td>49.014558</td><td>43.82589</td><td>0.554506</td><td>0.990315</td><td>null</td><td>null</td><td>null</td><td>null</td><td>null</td></tr><tr><td>2025-01-02</td><td>&quot;USAGMM1&quot;</td><td>&quot;ARGA1K1&quot;</td><td>&quot;P3R87L412&quot;</td><td>&quot;P3R87L412&quot;</td><td>&quot;ARDEUT111127&quot;</td><td>&quot;ARHSY2&quot;</td><td>null</td><td>&quot;HERSHEY CO&quot;</td><td>&quot;GDR&quot;</td><td>&quot;A19039&quot;</td><td>&quot;ARG&quot;</td><td>&quot;ARS&quot;</td><td>9400.0</td><td>2.9139e13</td><td>&quot;MSCIBARRA&quot;</td><td>&quot;ARS&quot;</td><td>-1.3641</td><td>-0.973</td><td>3.235902</td><td>41.993368</td><td>39.164283</td><td>0.064596</td><td>0.40184</td><td>null</td><td>null</td><td>null</td><td>null</td><td>null</td></tr><tr><td>2025-01-02</td><td>&quot;USBFD81&quot;</td><td>&quot;ARGA621&quot;</td><td>&quot;P1916Z288&quot;</td><td>&quot;P1916Z288&quot;</td><td>&quot;ARCAVA4601B8&quot;</td><td>&quot;ARUPST&quot;</td><td>null</td><td>&quot;UPSTART HOLDINGS INC&quot;</td><td>&quot;GDR&quot;</td><td>&quot;129249&quot;</td><td>&quot;ARG&quot;</td><td>&quot;ARS&quot;</td><td>14350.0</td><td>6.2014e12</td><td>&quot;MSCIBARRA&quot;</td><td>&quot;ARS&quot;</td><td>-5.2805</td><td>-6.736</td><td>0.0</td><td>90.227612</td><td>80.291207</td><td>1.56683</td><td>1.997511</td><td>null</td><td>null</td><td>null</td><td>null</td><td>null</td></tr><tr><td>2025-01-02</td><td>&quot;USBEPQ1&quot;</td><td>&quot;ARGA631&quot;</td><td>&quot;P1916Z270&quot;</td><td>&quot;P1916Z270&quot;</td><td>&quot;ARCAVA4601A0&quot;</td><td>&quot;ARUBER&quot;</td><td>null</td><td>&quot;UBER TECHNOLOGIES INC&quot;</td><td>&quot;GDR&quot;</td><td>&quot;125821&quot;</td><td>&quot;ARG&quot;</td><td>&quot;ARS&quot;</td><td>37150.0</td><td>1.5610e14</td><td>&quot;MSCIBARRA&quot;</td><td>&quot;ARS&quot;</td><td>2.3416</td><td>1.022</td><td>0.0</td><td>53.851913</td><td>45.422167</td><td>1.101896</td><td>1.470176</td><td>null</td><td>null</td><td>null</td><td>null</td><td>null</td></tr><tr><td>&hellip;</td><td>&hellip;</td><td>&hellip;</td><td>&hellip;</td><td>&hellip;</td><td>&hellip;</td><td>&hellip;</td><td>&hellip;</td><td>&hellip;</td><td>&hellip;</td><td>&hellip;</td><td>&hellip;</td><td>&hellip;</td><td>&hellip;</td><td>&hellip;</td><td>&hellip;</td><td>&hellip;</td><td>&hellip;</td><td>&hellip;</td><td>&hellip;</td><td>&hellip;</td><td>&hellip;</td><td>&hellip;</td><td>&hellip;</td><td>&hellip;</td><td>&hellip;</td><td>&hellip;</td><td>&hellip;</td><td>&hellip;</td></tr><tr><td>2025-02-21</td><td>&quot;USBQZF1&quot;</td><td>&quot;USBQZF1&quot;</td><td>&quot;G3731B108&quot;</td><td>&quot;G3731B108&quot;</td><td>&quot;KYG3731B1086&quot;</td><td>&quot;USGMHS&quot;</td><td>null</td><td>&quot;GAMEHAUS HOLDINGS INC&quot;</td><td>&quot;STOCK&quot;</td><td>&quot;141111&quot;</td><td>&quot;USA&quot;</td><td>&quot;USD&quot;</td><td>1.98</td><td>1.1083e8</td><td>&quot;MSCIBARRA&quot;</td><td>&quot;USD&quot;</td><td>-2.4631</td><td>1.543</td><td>null</td><td>90.419206</td><td>83.478119</td><td>1.241366</td><td>1.603078</td><td>null</td><td>null</td><td>null</td><td>null</td><td>null</td></tr><tr><td>2025-02-21</td><td>&quot;USBQZG1&quot;</td><td>&quot;USBQZG1&quot;</td><td>&quot;456941103&quot;</td><td>&quot;456941103&quot;</td><td>&quot;US4569411030&quot;</td><td>&quot;USINR&quot;</td><td>null</td><td>&quot;INFINITY NATURAL RESOURCES INC&quot;</td><td>&quot;STOCK&quot;</td><td>&quot;141127&quot;</td><td>&quot;USA&quot;</td><td>&quot;USD&quot;</td><td>19.68</td><td>2.6076e8</td><td>&quot;MSCIBARRA&quot;</td><td>&quot;USD&quot;</td><td>-3.7182</td><td>-2.055</td><td>null</td><td>40.548442</td><td>16.228129</td><td>0.429504</td><td>0.580702</td><td>null</td><td>null</td><td>null</td><td>null</td><td>null</td></tr><tr><td>2025-02-21</td><td>&quot;USBQZQ1&quot;</td><td>&quot;USBQZQ1&quot;</td><td>&quot;18912E207&quot;</td><td>&quot;18912E207&quot;</td><td>&quot;US18912E2072&quot;</td><td>&quot;USCSAI&quot;</td><td>null</td><td>&quot;CLOUDASTRUCTURE INC&quot;</td><td>&quot;STOCK&quot;</td><td>&quot;141123&quot;</td><td>&quot;USA&quot;</td><td>&quot;USD&quot;</td><td>10.66</td><td>1.5869e8</td><td>&quot;MSCIBARRA&quot;</td><td>&quot;USD&quot;</td><td>-10.0422</td><td>-6.379</td><td>null</td><td>98.250625</td><td>91.072136</td><td>1.009817</td><td>1.588547</td><td>null</td><td>null</td><td>null</td><td>null</td><td>null</td></tr><tr><td>2025-02-21</td><td>&quot;USBQZR1&quot;</td><td>&quot;USBQZR1&quot;</td><td>&quot;08659B102&quot;</td><td>&quot;08659B102&quot;</td><td>&quot;US08659B1026&quot;</td><td>&quot;USBBNX&quot;</td><td>null</td><td>&quot;BETA BIONICS INC&quot;</td><td>&quot;STOCK&quot;</td><td>&quot;141125&quot;</td><td>&quot;USA&quot;</td><td>&quot;USD&quot;</td><td>20.57</td><td>8.4110e8</td><td>&quot;MSCIBARRA&quot;</td><td>&quot;USD&quot;</td><td>-1.4375</td><td>-1.739</td><td>null</td><td>28.966337</td><td>20.140742</td><td>0.511952</td><td>0.567348</td><td>null</td><td>null</td><td>null</td><td>null</td><td>null</td></tr><tr><td>2025-02-21</td><td>&quot;AUSHFK1&quot;</td><td>&quot;USBQZV1&quot;</td><td>&quot;Q77904128&quot;</td><td>&quot;Q77904128&quot;</td><td>&quot;AU000000PYC7&quot;</td><td>&quot;USPYCXF&quot;</td><td>null</td><td>&quot;PYC THERAPEUTICS LTD&quot;</td><td>&quot;CROSS_LIST&quot;</td><td>&quot;A76107&quot;</td><td>&quot;USA&quot;</td><td>&quot;USD&quot;</td><td>0.9</td><td>5.2493e8</td><td>&quot;MSCIBARRA&quot;</td><td>&quot;USD&quot;</td><td>0.0</td><td>-1.541</td><td>null</td><td>34.291058</td><td>24.290376</td><td>0.552669</td><td>0.475111</td><td>null</td><td>null</td><td>null</td><td>null</td><td>null</td></tr></tbody></table></div>"
      ],
      "text/plain": [
       "shape: (748_529, 29)\n",
       "┌────────────┬─────────┬─────────┬───────────┬───┬────────────┬────────────┬───────────┬───────────┐\n",
       "│ date       ┆ rootid  ┆ barrid  ┆ cins      ┆ … ┆ russell_10 ┆ russell_30 ┆ russell_2 ┆ russell_1 │\n",
       "│ ---        ┆ ---     ┆ ---     ┆ ---       ┆   ┆ 00         ┆ 00_weight  ┆ 000_weigh ┆ 000_weigh │\n",
       "│ date       ┆ str     ┆ str     ┆ str       ┆   ┆ ---        ┆ ---        ┆ t         ┆ t         │\n",
       "│            ┆         ┆         ┆           ┆   ┆ bool       ┆ f64        ┆ ---       ┆ ---       │\n",
       "│            ┆         ┆         ┆           ┆   ┆            ┆            ┆ f64       ┆ f64       │\n",
       "╞════════════╪═════════╪═════════╪═══════════╪═══╪════════════╪════════════╪═══════════╪═══════════╡\n",
       "│ 2025-01-02 ┆ USBDK11 ┆ ARGA1B1 ┆ P0R67N798 ┆ … ┆ null       ┆ null       ┆ null      ┆ null      │\n",
       "│ 2025-01-02 ┆ USAPQX1 ┆ ARGA1G1 ┆ P0R682868 ┆ … ┆ null       ┆ null       ┆ null      ┆ null      │\n",
       "│ 2025-01-02 ┆ USAGMM1 ┆ ARGA1K1 ┆ P3R87L412 ┆ … ┆ null       ┆ null       ┆ null      ┆ null      │\n",
       "│ 2025-01-02 ┆ USBFD81 ┆ ARGA621 ┆ P1916Z288 ┆ … ┆ null       ┆ null       ┆ null      ┆ null      │\n",
       "│ 2025-01-02 ┆ USBEPQ1 ┆ ARGA631 ┆ P1916Z270 ┆ … ┆ null       ┆ null       ┆ null      ┆ null      │\n",
       "│ …          ┆ …       ┆ …       ┆ …         ┆ … ┆ …          ┆ …          ┆ …         ┆ …         │\n",
       "│ 2025-02-21 ┆ USBQZF1 ┆ USBQZF1 ┆ G3731B108 ┆ … ┆ null       ┆ null       ┆ null      ┆ null      │\n",
       "│ 2025-02-21 ┆ USBQZG1 ┆ USBQZG1 ┆ 456941103 ┆ … ┆ null       ┆ null       ┆ null      ┆ null      │\n",
       "│ 2025-02-21 ┆ USBQZQ1 ┆ USBQZQ1 ┆ 18912E207 ┆ … ┆ null       ┆ null       ┆ null      ┆ null      │\n",
       "│ 2025-02-21 ┆ USBQZR1 ┆ USBQZR1 ┆ 08659B102 ┆ … ┆ null       ┆ null       ┆ null      ┆ null      │\n",
       "│ 2025-02-21 ┆ AUSHFK1 ┆ USBQZV1 ┆ Q77904128 ┆ … ┆ null       ┆ null       ┆ null      ┆ null      │\n",
       "└────────────┴─────────┴─────────┴───────────┴───┴────────────┴────────────┴───────────┴───────────┘"
      ]
     },
     "execution_count": 9,
     "metadata": {},
     "output_type": "execute_result"
    }
   ],
   "source": [
    "db.execute(\"SELECT * FROM assets ORDER BY date, barrid;\").pl()"
   ]
  },
  {
   "cell_type": "code",
   "execution_count": 10,
   "metadata": {},
   "outputs": [
    {
     "data": {
      "text/html": [
       "<div><style>\n",
       ".dataframe > thead > tr,\n",
       ".dataframe > tbody > tr {\n",
       "  text-align: right;\n",
       "  white-space: pre-wrap;\n",
       "}\n",
       "</style>\n",
       "<small>shape: (574_774, 3)</small><table border=\"1\" class=\"dataframe\"><thead><tr><th>date</th><th>factor</th><th>return</th></tr><tr><td>date</td><td>str</td><td>str</td></tr></thead><tbody><tr><td>1995-06-30</td><td>&quot;USSLOWL_AERODEF&quot;</td><td>&quot;0.0001481646&quot;</td></tr><tr><td>1995-06-30</td><td>&quot;USSLOWL_AIRLINES&quot;</td><td>&quot;0.01637994&quot;</td></tr><tr><td>1995-06-30</td><td>&quot;USSLOWL_ALUMSTEL&quot;</td><td>&quot;0.01151834&quot;</td></tr><tr><td>1995-06-30</td><td>&quot;USSLOWL_APPAREL&quot;</td><td>&quot;0.002880785&quot;</td></tr><tr><td>1995-06-30</td><td>&quot;USSLOWL_AUTO&quot;</td><td>&quot;-0.0003943252&quot;</td></tr><tr><td>&hellip;</td><td>&hellip;</td><td>&hellip;</td></tr><tr><td>2025-03-07</td><td>&quot;USSLOWL_TELECOM&quot;</td><td>&quot;0.009839761&quot;</td></tr><tr><td>2025-03-07</td><td>&quot;USSLOWL_TRADECO&quot;</td><td>&quot;0.001254695&quot;</td></tr><tr><td>2025-03-07</td><td>&quot;USSLOWL_TRANSPRT&quot;</td><td>&quot;-0.004284988&quot;</td></tr><tr><td>2025-03-07</td><td>&quot;USSLOWL_VALUE&quot;</td><td>&quot;0.0007166669&quot;</td></tr><tr><td>2025-03-07</td><td>&quot;USSLOWL_WIRELESS&quot;</td><td>&quot;0.002113993&quot;</td></tr></tbody></table></div>"
      ],
      "text/plain": [
       "shape: (574_774, 3)\n",
       "┌────────────┬──────────────────┬───────────────┐\n",
       "│ date       ┆ factor           ┆ return        │\n",
       "│ ---        ┆ ---              ┆ ---           │\n",
       "│ date       ┆ str              ┆ str           │\n",
       "╞════════════╪══════════════════╪═══════════════╡\n",
       "│ 1995-06-30 ┆ USSLOWL_AERODEF  ┆ 0.0001481646  │\n",
       "│ 1995-06-30 ┆ USSLOWL_AIRLINES ┆ 0.01637994    │\n",
       "│ 1995-06-30 ┆ USSLOWL_ALUMSTEL ┆ 0.01151834    │\n",
       "│ 1995-06-30 ┆ USSLOWL_APPAREL  ┆ 0.002880785   │\n",
       "│ 1995-06-30 ┆ USSLOWL_AUTO     ┆ -0.0003943252 │\n",
       "│ …          ┆ …                ┆ …             │\n",
       "│ 2025-03-07 ┆ USSLOWL_TELECOM  ┆ 0.009839761   │\n",
       "│ 2025-03-07 ┆ USSLOWL_TRADECO  ┆ 0.001254695   │\n",
       "│ 2025-03-07 ┆ USSLOWL_TRANSPRT ┆ -0.004284988  │\n",
       "│ 2025-03-07 ┆ USSLOWL_VALUE    ┆ 0.0007166669  │\n",
       "│ 2025-03-07 ┆ USSLOWL_WIRELESS ┆ 0.002113993   │\n",
       "└────────────┴──────────────────┴───────────────┘"
      ]
     },
     "execution_count": 10,
     "metadata": {},
     "output_type": "execute_result"
    }
   ],
   "source": [
    "db.execute(\"SELECT * FROM factors ORDER BY date, factor;\").pl()"
   ]
  },
  {
   "cell_type": "code",
   "execution_count": 11,
   "metadata": {},
   "outputs": [
    {
     "data": {
      "text/html": [
       "<div><style>\n",
       ".dataframe > thead > tr,\n",
       ".dataframe > tbody > tr {\n",
       "  text-align: right;\n",
       "  white-space: pre-wrap;\n",
       "}\n",
       "</style>\n",
       "<small>shape: (7_471, 77)</small><table border=\"1\" class=\"dataframe\"><thead><tr><th>date</th><th>USSLOWL_BETA</th><th>USSLOWL_COUNTRY</th><th>USSLOWL_DIVYILD</th><th>USSLOWL_EARNQLTY</th><th>USSLOWL_EARNYILD</th><th>USSLOWL_GROWTH</th><th>USSLOWL_LEVERAGE</th><th>USSLOWL_LIQUIDTY</th><th>USSLOWL_LTREVRSL</th><th>USSLOWL_MGMTQLTY</th><th>USSLOWL_MIDCAP</th><th>USSLOWL_MOMENTUM</th><th>USSLOWL_PROFIT</th><th>USSLOWL_PROSPECT</th><th>USSLOWL_SIZE</th><th>USSLOWL_VALUE</th><th>USSLOWL_AERODEF</th><th>USSLOWL_AIRLINES</th><th>USSLOWL_ALUMSTEL</th><th>USSLOWL_APPAREL</th><th>USSLOWL_AUTO</th><th>USSLOWL_BANKS</th><th>USSLOWL_BEVTOB</th><th>USSLOWL_BIOLIFE</th><th>USSLOWL_BLDGPROD</th><th>USSLOWL_CHEM</th><th>USSLOWL_CNSTENG</th><th>USSLOWL_CNSTMACH</th><th>USSLOWL_CNSTMATL</th><th>USSLOWL_COMMEQP</th><th>USSLOWL_COMPELEC</th><th>USSLOWL_COMSVCS</th><th>USSLOWL_CONGLOM</th><th>USSLOWL_CONTAINR</th><th>USSLOWL_DISTRIB</th><th>USSLOWL_DIVFIN</th><th>&hellip;</th><th>USSLOWL_FOODRET</th><th>USSLOWL_GASUTIL</th><th>USSLOWL_HLTHEQP</th><th>USSLOWL_HLTHSVCS</th><th>USSLOWL_HOMEBLDG</th><th>USSLOWL_HOUSEDUR</th><th>USSLOWL_INDMACH</th><th>USSLOWL_INSURNCE</th><th>USSLOWL_INTERNET</th><th>USSLOWL_LEISPROD</th><th>USSLOWL_LEISSVCS</th><th>USSLOWL_LIFEINS</th><th>USSLOWL_MEDIA</th><th>USSLOWL_MGDHLTH</th><th>USSLOWL_MULTUTIL</th><th>USSLOWL_OILGSCON</th><th>USSLOWL_OILGSDRL</th><th>USSLOWL_OILGSEQP</th><th>USSLOWL_OILGSEXP</th><th>USSLOWL_PAPER</th><th>USSLOWL_PHARMA</th><th>USSLOWL_PRECMTLS</th><th>USSLOWL_PSNLPROD</th><th>USSLOWL_REALEST</th><th>USSLOWL_RESTAUR</th><th>USSLOWL_RESVOL</th><th>USSLOWL_ROADRAIL</th><th>USSLOWL_SEMICOND</th><th>USSLOWL_SEMIEQP</th><th>USSLOWL_SOFTWARE</th><th>USSLOWL_SPLTYRET</th><th>USSLOWL_SPTYCHEM</th><th>USSLOWL_SPTYSTOR</th><th>USSLOWL_TELECOM</th><th>USSLOWL_TRADECO</th><th>USSLOWL_TRANSPRT</th><th>USSLOWL_WIRELESS</th></tr><tr><td>date</td><td>f64</td><td>f64</td><td>f64</td><td>f64</td><td>f64</td><td>f64</td><td>f64</td><td>f64</td><td>f64</td><td>f64</td><td>f64</td><td>f64</td><td>f64</td><td>f64</td><td>f64</td><td>f64</td><td>f64</td><td>f64</td><td>f64</td><td>f64</td><td>f64</td><td>f64</td><td>f64</td><td>f64</td><td>f64</td><td>f64</td><td>f64</td><td>f64</td><td>f64</td><td>f64</td><td>f64</td><td>f64</td><td>f64</td><td>f64</td><td>f64</td><td>f64</td><td>&hellip;</td><td>f64</td><td>f64</td><td>f64</td><td>f64</td><td>f64</td><td>f64</td><td>f64</td><td>f64</td><td>f64</td><td>f64</td><td>f64</td><td>f64</td><td>f64</td><td>f64</td><td>f64</td><td>f64</td><td>f64</td><td>f64</td><td>f64</td><td>f64</td><td>f64</td><td>f64</td><td>f64</td><td>f64</td><td>f64</td><td>f64</td><td>f64</td><td>f64</td><td>f64</td><td>f64</td><td>f64</td><td>f64</td><td>f64</td><td>f64</td><td>f64</td><td>f64</td><td>f64</td></tr></thead><tbody><tr><td>1995-06-30</td><td>0.001561</td><td>0.002391</td><td>-0.000111</td><td>-0.001143</td><td>0.001047</td><td>0.000158</td><td>-0.001521</td><td>-0.001092</td><td>-0.000133</td><td>0.000511</td><td>0.001629</td><td>0.000509</td><td>-0.001739</td><td>0.00018</td><td>-0.002761</td><td>-0.000752</td><td>0.000148</td><td>0.01638</td><td>0.011518</td><td>0.002881</td><td>-0.000394</td><td>-0.006071</td><td>0.003202</td><td>0.003599</td><td>0.000959</td><td>0.00103</td><td>0.01676</td><td>0.006751</td><td>0.002864</td><td>0.000951</td><td>-0.000992</td><td>0.004885</td><td>0.006313</td><td>-0.002957</td><td>0.011079</td><td>-0.004603</td><td>&hellip;</td><td>-0.00081</td><td>-0.000101</td><td>0.001484</td><td>0.004634</td><td>0.001529</td><td>0.00952</td><td>0.005296</td><td>-0.006373</td><td>-0.001168</td><td>0.004104</td><td>0.000092</td><td>-0.006194</td><td>0.004194</td><td>-0.000214</td><td>-0.00267</td><td>-0.006427</td><td>-0.001353</td><td>-0.00814</td><td>-0.001717</td><td>0.012288</td><td>-0.003253</td><td>-0.017056</td><td>-0.003212</td><td>0.004951</td><td>-0.002673</td><td>0.000732</td><td>0.008282</td><td>-0.012696</td><td>-0.001164</td><td>-0.001577</td><td>0.003657</td><td>-0.001033</td><td>0.008131</td><td>0.003418</td><td>0.000154</td><td>0.000457</td><td>0.007565</td></tr><tr><td>1995-07-03</td><td>0.000089</td><td>0.003053</td><td>0.000245</td><td>-0.000241</td><td>0.000078</td><td>-0.000233</td><td>-0.000011</td><td>0.000345</td><td>-0.000387</td><td>0.000382</td><td>-0.001348</td><td>0.000186</td><td>0.000121</td><td>0.000044</td><td>0.000553</td><td>-0.000595</td><td>-0.005342</td><td>0.001715</td><td>0.016423</td><td>0.003749</td><td>0.002991</td><td>0.000164</td><td>-0.000368</td><td>-0.007351</td><td>-0.003573</td><td>-0.00041</td><td>-0.001686</td><td>0.000774</td><td>-0.004636</td><td>0.003353</td><td>0.003286</td><td>0.001693</td><td>-0.001677</td><td>0.00586</td><td>-0.003775</td><td>-0.000127</td><td>&hellip;</td><td>-0.002144</td><td>0.000127</td><td>-0.001064</td><td>0.003074</td><td>-0.007797</td><td>0.002571</td><td>-0.000042</td><td>-0.003008</td><td>0.000264</td><td>0.004425</td><td>-0.001245</td><td>0.002304</td><td>-0.001094</td><td>0.010634</td><td>-0.000296</td><td>0.003236</td><td>-0.008023</td><td>-0.001949</td><td>-0.00524</td><td>0.002184</td><td>-0.000182</td><td>0.000831</td><td>-0.0012</td><td>-0.001202</td><td>-0.003406</td><td>0.000846</td><td>-0.000138</td><td>-0.003535</td><td>-0.007386</td><td>-0.00341</td><td>0.00315</td><td>-0.003119</td><td>0.002998</td><td>0.000568</td><td>0.002709</td><td>-0.001949</td><td>0.000633</td></tr><tr><td>1995-07-05</td><td>0.002074</td><td>0.001546</td><td>-0.000567</td><td>-0.000175</td><td>0.000684</td><td>-0.000317</td><td>0.000955</td><td>0.001143</td><td>-0.00159</td><td>-0.00045</td><td>0.000674</td><td>0.001383</td><td>-0.001668</td><td>0.000101</td><td>-0.001777</td><td>0.000222</td><td>-0.000353</td><td>0.019143</td><td>0.02883</td><td>0.010066</td><td>0.006364</td><td>-0.004594</td><td>-0.005646</td><td>0.004604</td><td>0.005284</td><td>0.009939</td><td>-0.002727</td><td>0.018447</td><td>-0.004074</td><td>0.003096</td><td>0.004514</td><td>-0.000077</td><td>0.011716</td><td>-0.006006</td><td>0.005592</td><td>-0.003743</td><td>&hellip;</td><td>0.00827</td><td>-0.009164</td><td>-0.001478</td><td>-0.002187</td><td>-0.00863</td><td>0.000587</td><td>0.006424</td><td>-0.001046</td><td>0.011676</td><td>0.000791</td><td>-0.004699</td><td>-0.005177</td><td>-0.00024</td><td>-0.008571</td><td>-0.001788</td><td>-0.00724</td><td>-0.00127</td><td>-0.006295</td><td>-0.009669</td><td>0.011728</td><td>-0.00407</td><td>0.012252</td><td>0.002838</td><td>-0.002685</td><td>0.008095</td><td>0.001207</td><td>0.004173</td><td>-0.006522</td><td>0.01328</td><td>-0.000352</td><td>0.010819</td><td>0.00285</td><td>0.00198</td><td>-0.003579</td><td>0.005781</td><td>0.003474</td><td>0.021098</td></tr><tr><td>1995-07-06</td><td>0.002513</td><td>0.011325</td><td>-0.000337</td><td>-0.000736</td><td>-0.000194</td><td>0.000978</td><td>0.001209</td><td>0.000092</td><td>-0.001845</td><td>0.000933</td><td>0.000031</td><td>0.000601</td><td>0.000279</td><td>0.000528</td><td>0.001494</td><td>0.000203</td><td>-0.001346</td><td>-0.000233</td><td>-0.001499</td><td>-0.021365</td><td>0.008116</td><td>-0.001606</td><td>0.001265</td><td>0.000839</td><td>0.00668</td><td>0.001738</td><td>0.003364</td><td>0.010105</td><td>0.006848</td><td>0.001522</td><td>0.003423</td><td>-0.000212</td><td>0.003993</td><td>0.006944</td><td>-0.005317</td><td>-0.002697</td><td>&hellip;</td><td>0.003142</td><td>-0.005876</td><td>-0.00158</td><td>-0.008381</td><td>0.050161</td><td>0.001798</td><td>0.003085</td><td>-0.000173</td><td>0.002698</td><td>-0.002678</td><td>-0.003664</td><td>-0.000886</td><td>-0.001666</td><td>-0.017436</td><td>0.00103</td><td>0.001486</td><td>-0.00609</td><td>-0.001388</td><td>-0.003006</td><td>-0.002223</td><td>-0.007166</td><td>0.026613</td><td>-0.014242</td><td>0.001506</td><td>-0.012678</td><td>-0.000909</td><td>-0.001344</td><td>0.012209</td><td>0.020481</td><td>0.002732</td><td>0.011479</td><td>0.000873</td><td>-0.007274</td><td>0.008178</td><td>-0.002192</td><td>0.011022</td><td>0.001505</td></tr><tr><td>1995-07-07</td><td>0.003138</td><td>0.006104</td><td>-0.000207</td><td>-0.000777</td><td>-0.000055</td><td>-0.000283</td><td>0.000313</td><td>0.002068</td><td>-0.001304</td><td>0.000578</td><td>0.001948</td><td>0.001245</td><td>-0.001208</td><td>0.000394</td><td>-0.002841</td><td>-0.000434</td><td>0.00265</td><td>-0.00446</td><td>0.035416</td><td>-0.004258</td><td>0.013312</td><td>-0.001642</td><td>-0.012899</td><td>-0.011572</td><td>0.003981</td><td>0.019815</td><td>0.020792</td><td>0.020405</td><td>0.004802</td><td>0.008638</td><td>0.007004</td><td>0.005572</td><td>0.013994</td><td>0.003252</td><td>-0.004711</td><td>0.005101</td><td>&hellip;</td><td>-0.006513</td><td>-0.0055</td><td>-0.011593</td><td>-0.009297</td><td>-0.00752</td><td>0.00532</td><td>0.009562</td><td>0.001127</td><td>-0.003521</td><td>-0.001427</td><td>-0.003411</td><td>-0.009865</td><td>-0.002302</td><td>-0.024215</td><td>-0.004954</td><td>0.001178</td><td>-0.020638</td><td>0.007834</td><td>-0.00167</td><td>0.0111183</td><td>-0.023175</td><td>0.01514</td><td>-0.01585</td><td>-0.000221</td><td>0.000113</td><td>0.001758</td><td>0.030243</td><td>0.018266</td><td>0.020549</td><td>0.005968</td><td>0.008781</td><td>0.012524</td><td>0.012002</td><td>0.000916</td><td>0.008576</td><td>0.001674</td><td>0.005019</td></tr><tr><td>&hellip;</td><td>&hellip;</td><td>&hellip;</td><td>&hellip;</td><td>&hellip;</td><td>&hellip;</td><td>&hellip;</td><td>&hellip;</td><td>&hellip;</td><td>&hellip;</td><td>&hellip;</td><td>&hellip;</td><td>&hellip;</td><td>&hellip;</td><td>&hellip;</td><td>&hellip;</td><td>&hellip;</td><td>&hellip;</td><td>&hellip;</td><td>&hellip;</td><td>&hellip;</td><td>&hellip;</td><td>&hellip;</td><td>&hellip;</td><td>&hellip;</td><td>&hellip;</td><td>&hellip;</td><td>&hellip;</td><td>&hellip;</td><td>&hellip;</td><td>&hellip;</td><td>&hellip;</td><td>&hellip;</td><td>&hellip;</td><td>&hellip;</td><td>&hellip;</td><td>&hellip;</td><td>&hellip;</td><td>&hellip;</td><td>&hellip;</td><td>&hellip;</td><td>&hellip;</td><td>&hellip;</td><td>&hellip;</td><td>&hellip;</td><td>&hellip;</td><td>&hellip;</td><td>&hellip;</td><td>&hellip;</td><td>&hellip;</td><td>&hellip;</td><td>&hellip;</td><td>&hellip;</td><td>&hellip;</td><td>&hellip;</td><td>&hellip;</td><td>&hellip;</td><td>&hellip;</td><td>&hellip;</td><td>&hellip;</td><td>&hellip;</td><td>&hellip;</td><td>&hellip;</td><td>&hellip;</td><td>&hellip;</td><td>&hellip;</td><td>&hellip;</td><td>&hellip;</td><td>&hellip;</td><td>&hellip;</td><td>&hellip;</td><td>&hellip;</td><td>&hellip;</td><td>&hellip;</td><td>&hellip;</td></tr><tr><td>2025-03-03</td><td>-0.012831</td><td>-0.015728</td><td>0.00016</td><td>0.002255</td><td>0.001476</td><td>-0.000249</td><td>-0.00151</td><td>-0.001919</td><td>0.00145</td><td>0.001512</td><td>0.000764</td><td>0.001729</td><td>0.000588</td><td>-0.000481</td><td>0.002719</td><td>-0.000973</td><td>0.003941</td><td>-0.005295</td><td>0.001085</td><td>-0.010054</td><td>0.007878</td><td>0.008443</td><td>0.011206</td><td>-0.003301</td><td>-0.001441</td><td>-0.025118</td><td>-0.000173</td><td>-0.023379</td><td>-0.010473</td><td>-0.015102</td><td>-0.01106</td><td>-0.000104</td><td>-0.002387</td><td>-0.009</td><td>0.000215</td><td>-0.001715</td><td>&hellip;</td><td>-0.009544</td><td>0.0200719</td><td>0.007545</td><td>0.005949</td><td>0.003153</td><td>-0.001176</td><td>-0.011739</td><td>0.010324</td><td>0.001793</td><td>0.001614</td><td>0.006006</td><td>0.007985</td><td>0.001381</td><td>-0.005723</td><td>0.006925</td><td>-0.014152</td><td>-0.047138</td><td>-0.03096</td><td>-0.034241</td><td>0.002921</td><td>0.003013</td><td>0.00683</td><td>-0.003343</td><td>0.010405</td><td>-0.003225</td><td>-0.004941</td><td>-0.000186</td><td>0.005814</td><td>0.006335</td><td>0.005693</td><td>-0.007044</td><td>-0.007447</td><td>-0.004645</td><td>0.01204</td><td>-0.007049</td><td>-0.002862</td><td>0.004241</td></tr><tr><td>2025-03-04</td><td>0.000789</td><td>-0.013539</td><td>0.000061</td><td>-0.001085</td><td>-0.000994</td><td>0.000029</td><td>-0.003343</td><td>0.001153</td><td>-0.001994</td><td>-0.000666</td><td>-0.00062</td><td>-0.002626</td><td>0.001266</td><td>-0.000544</td><td>-0.002831</td><td>-0.001917</td><td>-0.006304</td><td>-0.036533</td><td>-0.018012</td><td>-0.008539</td><td>-0.021301</td><td>-0.020365</td><td>-0.007821</td><td>0.002317</td><td>-0.006363</td><td>0.005751</td><td>-0.010614</td><td>-0.005913</td><td>-0.009762</td><td>0.004709</td><td>-0.002327</td><td>0.004893</td><td>-0.00881</td><td>-0.016862</td><td>0.005857</td><td>-0.019406</td><td>&hellip;</td><td>-0.000092</td><td>-0.003745</td><td>-0.001779</td><td>0.007213</td><td>0.014645</td><td>-0.017702</td><td>-0.007732</td><td>-0.001821</td><td>0.013681</td><td>-0.015217</td><td>-0.004894</td><td>-0.025241</td><td>0.005367</td><td>0.014755</td><td>0.010592</td><td>0.003217</td><td>0.0171084</td><td>-0.017032</td><td>0.004274</td><td>-0.019647</td><td>0.002295</td><td>0.001311</td><td>-0.001218</td><td>0.003818</td><td>0.001513</td><td>0.004635</td><td>0.001704</td><td>0.011645</td><td>0.022548</td><td>0.006691</td><td>-0.009374</td><td>0.002576</td><td>-0.015853</td><td>-0.002699</td><td>-0.01104</td><td>-0.018463</td><td>-0.005284</td></tr><tr><td>2025-03-05</td><td>0.006524</td><td>0.011055</td><td>-0.000852</td><td>-0.000653</td><td>0.001908</td><td>-0.001603</td><td>-0.000556</td><td>-0.001382</td><td>0.002102</td><td>-0.00143</td><td>0.001263</td><td>-0.003899</td><td>-0.002716</td><td>-0.001457</td><td>0.001421</td><td>-0.000023</td><td>0.0140697</td><td>0.022326</td><td>0.006271</td><td>-0.004071</td><td>0.007872</td><td>-0.020083</td><td>-0.001346</td><td>0.005393</td><td>0.013138</td><td>0.02043</td><td>0.003265</td><td>0.011341</td><td>0.027122</td><td>0.004322</td><td>-0.004277</td><td>-0.002965</td><td>-0.003729</td><td>0.01201</td><td>0.001827</td><td>0.001898</td><td>&hellip;</td><td>0.002318</td><td>-0.005952</td><td>-0.003073</td><td>0.005102</td><td>0.013468</td><td>0.008367</td><td>0.009426</td><td>-0.000661</td><td>0.004843</td><td>0.00611</td><td>0.000437</td><td>0.008823</td><td>-0.002677</td><td>-0.000172</td><td>-0.010659</td><td>-0.025024</td><td>-0.019689</td><td>-0.015548</td><td>-0.024426</td><td>0.009292</td><td>0.000944</td><td>0.044178</td><td>0.006379</td><td>0.002325</td><td>-0.004851</td><td>0.002906</td><td>-0.005578</td><td>-0.008029</td><td>0.002795</td><td>0.004346</td><td>-0.000817</td><td>0.016722</td><td>0.012112</td><td>0.009955</td><td>0.008575</td><td>0.004843</td><td>-0.004767</td></tr><tr><td>2025-03-06</td><td>-0.010728</td><td>-0.022331</td><td>0.00178</td><td>-0.002595</td><td>0.005113</td><td>-0.003108</td><td>-0.003289</td><td>-0.002789</td><td>-0.00106</td><td>0.001013</td><td>-0.002259</td><td>-0.011866</td><td>-0.000522</td><td>-0.000199</td><td>-0.00215</td><td>-0.000411</td><td>0.000244</td><td>0.000005</td><td>-0.001858</td><td>0.015924</td><td>0.01269</td><td>-0.003633</td><td>0.000539</td><td>0.013542</td><td>0.015332</td><td>0.003909</td><td>-0.002795</td><td>0.033639</td><td>0.004094</td><td>0.002896</td><td>-0.003219</td><td>-0.00558</td><td>0.012689</td><td>0.008398</td><td>0.008459</td><td>-0.002402</td><td>&hellip;</td><td>0.009648</td><td>-0.015323</td><td>-0.002328</td><td>0.004447</td><td>0.024084</td><td>0.002479</td><td>0.009792</td><td>-0.006897</td><td>-0.003319</td><td>0.00784</td><td>-0.009688</td><td>-0.013413</td><td>-0.000649</td><td>0.024593</td><td>-0.011682</td><td>0.011147</td><td>0.010379</td><td>-0.001008</td><td>-0.014185</td><td>-0.011621</td><td>0.0027</td><td>0.005673</td><td>-0.003333</td><td>-0.020184</td><td>0.002088</td><td>-0.004386</td><td>0.011106</td><td>-0.005501</td><td>0.002732</td><td>-0.000784</td><td>0.009621</td><td>0.011034</td><td>0.014051</td><td>0.0208823</td><td>0.016202</td><td>0.00125</td><td>0.012675</td></tr><tr><td>2025-03-07</td><td>0.000361</td><td>0.004447</td><td>0.004136</td><td>0.001538</td><td>0.004389</td><td>0.000044</td><td>0.001105</td><td>0.000191</td><td>0.000798</td><td>0.00057</td><td>0.002185</td><td>-0.004822</td><td>0.001241</td><td>-0.001284</td><td>-0.000998</td><td>0.000717</td><td>0.002646</td><td>-0.029363</td><td>-0.014293</td><td>-0.005945</td><td>-0.002589</td><td>-0.009083</td><td>-0.009242</td><td>-0.001757</td><td>0.005664</td><td>-0.008748</td><td>-0.004628</td><td>0.017861</td><td>-0.030193</td><td>-0.00226</td><td>0.00754</td><td>0.013085</td><td>-0.003014</td><td>0.0039</td><td>-0.002169</td><td>-0.005236</td><td>&hellip;</td><td>-0.012492</td><td>0.003369</td><td>-0.005358</td><td>-0.004358</td><td>-0.017754</td><td>-0.022182</td><td>0.011898</td><td>-0.009014</td><td>0.002527</td><td>-0.021545</td><td>-0.010286</td><td>-0.008028</td><td>-0.005634</td><td>-0.014376</td><td>0.006654</td><td>-0.009327</td><td>0.042694</td><td>0.014275</td><td>0.00523</td><td>-0.017885</td><td>-0.014777</td><td>-0.008667</td><td>0.003011</td><td>-0.00363</td><td>0.00186</td><td>0.006823</td><td>-0.002835</td><td>0.02445</td><td>0.024148</td><td>-0.002543</td><td>-0.007787</td><td>-0.006661</td><td>-0.019576</td><td>0.00984</td><td>0.001255</td><td>-0.004285</td><td>0.002114</td></tr></tbody></table></div>"
      ],
      "text/plain": [
       "shape: (7_471, 77)\n",
       "┌───────────┬───────────┬───────────┬───────────┬───┬───────────┬───────────┬───────────┬──────────┐\n",
       "│ date      ┆ USSLOWL_B ┆ USSLOWL_C ┆ USSLOWL_D ┆ … ┆ USSLOWL_T ┆ USSLOWL_T ┆ USSLOWL_T ┆ USSLOWL_ │\n",
       "│ ---       ┆ ETA       ┆ OUNTRY    ┆ IVYILD    ┆   ┆ ELECOM    ┆ RADECO    ┆ RANSPRT   ┆ WIRELESS │\n",
       "│ date      ┆ ---       ┆ ---       ┆ ---       ┆   ┆ ---       ┆ ---       ┆ ---       ┆ ---      │\n",
       "│           ┆ f64       ┆ f64       ┆ f64       ┆   ┆ f64       ┆ f64       ┆ f64       ┆ f64      │\n",
       "╞═══════════╪═══════════╪═══════════╪═══════════╪═══╪═══════════╪═══════════╪═══════════╪══════════╡\n",
       "│ 1995-06-3 ┆ 0.001561  ┆ 0.002391  ┆ -0.000111 ┆ … ┆ 0.003418  ┆ 0.000154  ┆ 0.000457  ┆ 0.007565 │\n",
       "│ 0         ┆           ┆           ┆           ┆   ┆           ┆           ┆           ┆          │\n",
       "│ 1995-07-0 ┆ 0.000089  ┆ 0.003053  ┆ 0.000245  ┆ … ┆ 0.000568  ┆ 0.002709  ┆ -0.001949 ┆ 0.000633 │\n",
       "│ 3         ┆           ┆           ┆           ┆   ┆           ┆           ┆           ┆          │\n",
       "│ 1995-07-0 ┆ 0.002074  ┆ 0.001546  ┆ -0.000567 ┆ … ┆ -0.003579 ┆ 0.005781  ┆ 0.003474  ┆ 0.021098 │\n",
       "│ 5         ┆           ┆           ┆           ┆   ┆           ┆           ┆           ┆          │\n",
       "│ 1995-07-0 ┆ 0.002513  ┆ 0.011325  ┆ -0.000337 ┆ … ┆ 0.008178  ┆ -0.002192 ┆ 0.011022  ┆ 0.001505 │\n",
       "│ 6         ┆           ┆           ┆           ┆   ┆           ┆           ┆           ┆          │\n",
       "│ 1995-07-0 ┆ 0.003138  ┆ 0.006104  ┆ -0.000207 ┆ … ┆ 0.000916  ┆ 0.008576  ┆ 0.001674  ┆ 0.005019 │\n",
       "│ 7         ┆           ┆           ┆           ┆   ┆           ┆           ┆           ┆          │\n",
       "│ …         ┆ …         ┆ …         ┆ …         ┆ … ┆ …         ┆ …         ┆ …         ┆ …        │\n",
       "│ 2025-03-0 ┆ -0.012831 ┆ -0.015728 ┆ 0.00016   ┆ … ┆ 0.01204   ┆ -0.007049 ┆ -0.002862 ┆ 0.004241 │\n",
       "│ 3         ┆           ┆           ┆           ┆   ┆           ┆           ┆           ┆          │\n",
       "│ 2025-03-0 ┆ 0.000789  ┆ -0.013539 ┆ 0.000061  ┆ … ┆ -0.002699 ┆ -0.01104  ┆ -0.018463 ┆ -0.00528 │\n",
       "│ 4         ┆           ┆           ┆           ┆   ┆           ┆           ┆           ┆ 4        │\n",
       "│ 2025-03-0 ┆ 0.006524  ┆ 0.011055  ┆ -0.000852 ┆ … ┆ 0.009955  ┆ 0.008575  ┆ 0.004843  ┆ -0.00476 │\n",
       "│ 5         ┆           ┆           ┆           ┆   ┆           ┆           ┆           ┆ 7        │\n",
       "│ 2025-03-0 ┆ -0.010728 ┆ -0.022331 ┆ 0.00178   ┆ … ┆ 0.0208823 ┆ 0.016202  ┆ 0.00125   ┆ 0.012675 │\n",
       "│ 6         ┆           ┆           ┆           ┆   ┆           ┆           ┆           ┆          │\n",
       "│ 2025-03-0 ┆ 0.000361  ┆ 0.004447  ┆ 0.004136  ┆ … ┆ 0.00984   ┆ 0.001255  ┆ -0.004285 ┆ 0.002114 │\n",
       "│ 7         ┆           ┆           ┆           ┆   ┆           ┆           ┆           ┆          │\n",
       "└───────────┴───────────┴───────────┴───────────┴───┴───────────┴───────────┴───────────┴──────────┘"
      ]
     },
     "execution_count": 11,
     "metadata": {},
     "output_type": "execute_result"
    }
   ],
   "source": [
    "db.execute(\"SELECT * FROM factors_wide ORDER BY date;\").pl()"
   ]
  },
  {
   "cell_type": "code",
   "execution_count": 12,
   "metadata": {},
   "outputs": [
    {
     "data": {
      "text/html": [
       "<div><style>\n",
       ".dataframe > thead > tr,\n",
       ".dataframe > tbody > tr {\n",
       "  text-align: right;\n",
       "  white-space: pre-wrap;\n",
       "}\n",
       "</style>\n",
       "<small>shape: (99_484, 4)</small><table border=\"1\" class=\"dataframe\"><thead><tr><th>date</th><th>factor1</th><th>factor2</th><th>covariance</th></tr><tr><td>date</td><td>str</td><td>str</td><td>f64</td></tr></thead><tbody><tr><td>2025-01-02</td><td>&quot;USSLOWL_AERODEF&quot;</td><td>&quot;USSLOWL_COUNTRY&quot;</td><td>15.795886</td></tr><tr><td>2025-01-02</td><td>&quot;USSLOWL_AERODEF&quot;</td><td>&quot;USSLOWL_MULTUTIL&quot;</td><td>-2.897444</td></tr><tr><td>2025-01-02</td><td>&quot;USSLOWL_AERODEF&quot;</td><td>&quot;USSLOWL_AUTO&quot;</td><td>-8.273404</td></tr><tr><td>2025-01-02</td><td>&quot;USSLOWL_AERODEF&quot;</td><td>&quot;USSLOWL_AERODEF&quot;</td><td>140.134529</td></tr><tr><td>2025-01-02</td><td>&quot;USSLOWL_AERODEF&quot;</td><td>&quot;USSLOWL_CNSTMACH&quot;</td><td>21.65821</td></tr><tr><td>&hellip;</td><td>&hellip;</td><td>&hellip;</td><td>&hellip;</td></tr><tr><td>2025-02-21</td><td>&quot;USSLOWL_WIRELESS&quot;</td><td>&quot;USSLOWL_COUNTRY&quot;</td><td>-34.349551</td></tr><tr><td>2025-02-21</td><td>&quot;USSLOWL_WIRELESS&quot;</td><td>&quot;USSLOWL_MULTUTIL&quot;</td><td>19.115588</td></tr><tr><td>2025-02-21</td><td>&quot;USSLOWL_WIRELESS&quot;</td><td>&quot;USSLOWL_GASUTIL&quot;</td><td>22.149385</td></tr><tr><td>2025-02-21</td><td>&quot;USSLOWL_WIRELESS&quot;</td><td>&quot;USSLOWL_ELECUTIL&quot;</td><td>9.772495</td></tr><tr><td>2025-02-21</td><td>&quot;USSLOWL_WIRELESS&quot;</td><td>&quot;USSLOWL_WIRELESS&quot;</td><td>143.107984</td></tr></tbody></table></div>"
      ],
      "text/plain": [
       "shape: (99_484, 4)\n",
       "┌────────────┬──────────────────┬──────────────────┬────────────┐\n",
       "│ date       ┆ factor1          ┆ factor2          ┆ covariance │\n",
       "│ ---        ┆ ---              ┆ ---              ┆ ---        │\n",
       "│ date       ┆ str              ┆ str              ┆ f64        │\n",
       "╞════════════╪══════════════════╪══════════════════╪════════════╡\n",
       "│ 2025-01-02 ┆ USSLOWL_AERODEF  ┆ USSLOWL_COUNTRY  ┆ 15.795886  │\n",
       "│ 2025-01-02 ┆ USSLOWL_AERODEF  ┆ USSLOWL_MULTUTIL ┆ -2.897444  │\n",
       "│ 2025-01-02 ┆ USSLOWL_AERODEF  ┆ USSLOWL_AUTO     ┆ -8.273404  │\n",
       "│ 2025-01-02 ┆ USSLOWL_AERODEF  ┆ USSLOWL_AERODEF  ┆ 140.134529 │\n",
       "│ 2025-01-02 ┆ USSLOWL_AERODEF  ┆ USSLOWL_CNSTMACH ┆ 21.65821   │\n",
       "│ …          ┆ …                ┆ …                ┆ …          │\n",
       "│ 2025-02-21 ┆ USSLOWL_WIRELESS ┆ USSLOWL_COUNTRY  ┆ -34.349551 │\n",
       "│ 2025-02-21 ┆ USSLOWL_WIRELESS ┆ USSLOWL_MULTUTIL ┆ 19.115588  │\n",
       "│ 2025-02-21 ┆ USSLOWL_WIRELESS ┆ USSLOWL_GASUTIL  ┆ 22.149385  │\n",
       "│ 2025-02-21 ┆ USSLOWL_WIRELESS ┆ USSLOWL_ELECUTIL ┆ 9.772495   │\n",
       "│ 2025-02-21 ┆ USSLOWL_WIRELESS ┆ USSLOWL_WIRELESS ┆ 143.107984 │\n",
       "└────────────┴──────────────────┴──────────────────┴────────────┘"
      ]
     },
     "execution_count": 12,
     "metadata": {},
     "output_type": "execute_result"
    }
   ],
   "source": [
    "db.execute(\"SELECT * FROM covariances ORDER BY date, factor1, factor1;\").pl()"
   ]
  },
  {
   "cell_type": "code",
   "execution_count": 13,
   "metadata": {},
   "outputs": [
    {
     "data": {
      "text/html": [
       "<div><style>\n",
       ".dataframe > thead > tr,\n",
       ".dataframe > tbody > tr {\n",
       "  text-align: right;\n",
       "  white-space: pre-wrap;\n",
       "}\n",
       "</style>\n",
       "<small>shape: (2_584, 78)</small><table border=\"1\" class=\"dataframe\"><thead><tr><th>date</th><th>factor1</th><th>USSLOWL_BETA</th><th>USSLOWL_COUNTRY</th><th>USSLOWL_DIVYILD</th><th>USSLOWL_EARNQLTY</th><th>USSLOWL_EARNYILD</th><th>USSLOWL_GROWTH</th><th>USSLOWL_LEVERAGE</th><th>USSLOWL_LIQUIDTY</th><th>USSLOWL_LTREVRSL</th><th>USSLOWL_MGMTQLTY</th><th>USSLOWL_MIDCAP</th><th>USSLOWL_MOMENTUM</th><th>USSLOWL_PROFIT</th><th>USSLOWL_PROSPECT</th><th>USSLOWL_SIZE</th><th>USSLOWL_VALUE</th><th>USSLOWL_AERODEF</th><th>USSLOWL_AIRLINES</th><th>USSLOWL_ALUMSTEL</th><th>USSLOWL_APPAREL</th><th>USSLOWL_AUTO</th><th>USSLOWL_BANKS</th><th>USSLOWL_BEVTOB</th><th>USSLOWL_BIOLIFE</th><th>USSLOWL_BLDGPROD</th><th>USSLOWL_CHEM</th><th>USSLOWL_CNSTENG</th><th>USSLOWL_CNSTMACH</th><th>USSLOWL_CNSTMATL</th><th>USSLOWL_COMMEQP</th><th>USSLOWL_COMPELEC</th><th>USSLOWL_COMSVCS</th><th>USSLOWL_CONGLOM</th><th>USSLOWL_CONTAINR</th><th>USSLOWL_DISTRIB</th><th>&hellip;</th><th>USSLOWL_FOODRET</th><th>USSLOWL_GASUTIL</th><th>USSLOWL_HLTHEQP</th><th>USSLOWL_HLTHSVCS</th><th>USSLOWL_HOMEBLDG</th><th>USSLOWL_HOUSEDUR</th><th>USSLOWL_INDMACH</th><th>USSLOWL_INSURNCE</th><th>USSLOWL_INTERNET</th><th>USSLOWL_LEISPROD</th><th>USSLOWL_LEISSVCS</th><th>USSLOWL_LIFEINS</th><th>USSLOWL_MEDIA</th><th>USSLOWL_MGDHLTH</th><th>USSLOWL_MULTUTIL</th><th>USSLOWL_OILGSCON</th><th>USSLOWL_OILGSDRL</th><th>USSLOWL_OILGSEQP</th><th>USSLOWL_OILGSEXP</th><th>USSLOWL_PAPER</th><th>USSLOWL_PHARMA</th><th>USSLOWL_PRECMTLS</th><th>USSLOWL_PSNLPROD</th><th>USSLOWL_REALEST</th><th>USSLOWL_RESTAUR</th><th>USSLOWL_RESVOL</th><th>USSLOWL_ROADRAIL</th><th>USSLOWL_SEMICOND</th><th>USSLOWL_SEMIEQP</th><th>USSLOWL_SOFTWARE</th><th>USSLOWL_SPLTYRET</th><th>USSLOWL_SPTYCHEM</th><th>USSLOWL_SPTYSTOR</th><th>USSLOWL_TELECOM</th><th>USSLOWL_TRADECO</th><th>USSLOWL_TRANSPRT</th><th>USSLOWL_WIRELESS</th></tr><tr><td>date</td><td>str</td><td>f64</td><td>f64</td><td>f64</td><td>f64</td><td>f64</td><td>f64</td><td>f64</td><td>f64</td><td>f64</td><td>f64</td><td>f64</td><td>f64</td><td>f64</td><td>f64</td><td>f64</td><td>f64</td><td>f64</td><td>f64</td><td>f64</td><td>f64</td><td>f64</td><td>f64</td><td>f64</td><td>f64</td><td>f64</td><td>f64</td><td>f64</td><td>f64</td><td>f64</td><td>f64</td><td>f64</td><td>f64</td><td>f64</td><td>f64</td><td>f64</td><td>&hellip;</td><td>f64</td><td>f64</td><td>f64</td><td>f64</td><td>f64</td><td>f64</td><td>f64</td><td>f64</td><td>f64</td><td>f64</td><td>f64</td><td>f64</td><td>f64</td><td>f64</td><td>f64</td><td>f64</td><td>f64</td><td>f64</td><td>f64</td><td>f64</td><td>f64</td><td>f64</td><td>f64</td><td>f64</td><td>f64</td><td>f64</td><td>f64</td><td>f64</td><td>f64</td><td>f64</td><td>f64</td><td>f64</td><td>f64</td><td>f64</td><td>f64</td><td>f64</td><td>f64</td></tr></thead><tbody><tr><td>2025-01-02</td><td>&quot;USSLOWL_AERODEF&quot;</td><td>null</td><td>15.795886</td><td>null</td><td>null</td><td>null</td><td>null</td><td>null</td><td>null</td><td>null</td><td>null</td><td>null</td><td>null</td><td>null</td><td>null</td><td>null</td><td>null</td><td>140.134529</td><td>56.783653</td><td>null</td><td>20.988616</td><td>-8.273404</td><td>6.441477</td><td>-2.392699</td><td>-18.032547</td><td>17.889748</td><td>null</td><td>24.829798</td><td>21.65821</td><td>null</td><td>-5.086916</td><td>-17.223635</td><td>9.2051932</td><td>26.169607</td><td>null</td><td>0.043715</td><td>&hellip;</td><td>-3.402231</td><td>-7.874685</td><td>-6.761527</td><td>1.618186</td><td>28.126457</td><td>3.798205</td><td>20.739075</td><td>15.441977</td><td>-8.313003</td><td>9.094975</td><td>23.969001</td><td>22.777423</td><td>1.3105582</td><td>10.231472</td><td>-2.897444</td><td>null</td><td>null</td><td>null</td><td>null</td><td>null</td><td>-8.02945</td><td>null</td><td>-9.277881</td><td>2.509153</td><td>11.60821</td><td>null</td><td>9.823881</td><td>-29.287685</td><td>-16.36838</td><td>-11.514338</td><td>-2.704069</td><td>null</td><td>8.688215</td><td>-8.087153</td><td>26.155639</td><td>-14.061882</td><td>-4.033808</td></tr><tr><td>2025-01-02</td><td>&quot;USSLOWL_AIRLINES&quot;</td><td>null</td><td>14.353189</td><td>null</td><td>null</td><td>null</td><td>null</td><td>null</td><td>null</td><td>null</td><td>null</td><td>null</td><td>null</td><td>null</td><td>null</td><td>null</td><td>null</td><td>null</td><td>629.903088</td><td>null</td><td>61.591136</td><td>58.676916</td><td>14.881252</td><td>3.033133</td><td>-44.615084</td><td>null</td><td>null</td><td>null</td><td>null</td><td>null</td><td>-16.945539</td><td>-2.840697</td><td>null</td><td>null</td><td>null</td><td>4.586356</td><td>&hellip;</td><td>-7.196034</td><td>-15.104406</td><td>4.892676</td><td>-6.537802</td><td>-9.4603</td><td>52.215929</td><td>null</td><td>23.422293</td><td>7.584667</td><td>60.569848</td><td>103.836879</td><td>14.573072</td><td>7.755679</td><td>5.903516</td><td>-42.304032</td><td>null</td><td>null</td><td>null</td><td>null</td><td>null</td><td>-10.255547</td><td>null</td><td>11.206454</td><td>14.811466</td><td>64.445952</td><td>null</td><td>22.679555</td><td>-28.822997</td><td>-18.383597</td><td>-17.24855</td><td>19.454884</td><td>null</td><td>43.521544</td><td>-5.056409</td><td>null</td><td>11.954957</td><td>-23.088601</td></tr><tr><td>2025-01-02</td><td>&quot;USSLOWL_ALUMSTEL&quot;</td><td>null</td><td>21.875953</td><td>null</td><td>null</td><td>null</td><td>null</td><td>null</td><td>null</td><td>null</td><td>null</td><td>null</td><td>null</td><td>null</td><td>null</td><td>null</td><td>null</td><td>34.852237</td><td>-7.438389</td><td>414.437061</td><td>4.026055</td><td>-1.991397</td><td>36.386969</td><td>-12.802732</td><td>-22.291517</td><td>40.755478</td><td>null</td><td>84.364458</td><td>101.317927</td><td>null</td><td>-28.083585</td><td>-9.585341</td><td>7.565133</td><td>41.347436</td><td>null</td><td>9.392781</td><td>&hellip;</td><td>11.550634</td><td>-21.310461</td><td>-15.161722</td><td>-1.139288</td><td>-15.995039</td><td>2.381221</td><td>61.430939</td><td>6.310605</td><td>-36.696014</td><td>6.4996087</td><td>-3.549415</td><td>8.705959</td><td>-2.39667</td><td>8.687965</td><td>-13.053577</td><td>null</td><td>null</td><td>null</td><td>null</td><td>null</td><td>-13.665786</td><td>189.942148</td><td>-20.295625</td><td>-13.419557</td><td>-22.786147</td><td>null</td><td>45.803308</td><td>-28.660523</td><td>-15.770869</td><td>-40.60388</td><td>-7.591574</td><td>null</td><td>5.859267</td><td>1.327923</td><td>83.295026</td><td>29.238661</td><td>14.247543</td></tr><tr><td>2025-01-02</td><td>&quot;USSLOWL_APPAREL&quot;</td><td>null</td><td>7.500143</td><td>null</td><td>null</td><td>null</td><td>null</td><td>null</td><td>null</td><td>null</td><td>null</td><td>null</td><td>null</td><td>null</td><td>null</td><td>null</td><td>null</td><td>null</td><td>null</td><td>null</td><td>308.1767</td><td>null</td><td>-5.165486</td><td>7.961701</td><td>-15.954221</td><td>null</td><td>null</td><td>null</td><td>null</td><td>null</td><td>-5.922681</td><td>-7.563086</td><td>null</td><td>null</td><td>null</td><td>null</td><td>&hellip;</td><td>25.517067</td><td>-33.503923</td><td>-8.873739</td><td>15.110401</td><td>null</td><td>null</td><td>null</td><td>15.227611</td><td>-12.752191</td><td>null</td><td>null</td><td>14.0906</td><td>null</td><td>4.807038</td><td>-35.734716</td><td>null</td><td>null</td><td>null</td><td>null</td><td>null</td><td>-5.841429</td><td>null</td><td>16.24473</td><td>8.314254</td><td>null</td><td>null</td><td>null</td><td>-23.848606</td><td>-21.560793</td><td>-41.431697</td><td>84.918427</td><td>null</td><td>174.755001</td><td>-13.324272</td><td>null</td><td>null</td><td>1.576977</td></tr><tr><td>2025-01-02</td><td>&quot;USSLOWL_AUTO&quot;</td><td>null</td><td>14.010559</td><td>null</td><td>null</td><td>null</td><td>null</td><td>null</td><td>null</td><td>null</td><td>null</td><td>null</td><td>null</td><td>null</td><td>null</td><td>null</td><td>null</td><td>null</td><td>null</td><td>null</td><td>44.998327</td><td>330.747617</td><td>16.334578</td><td>1.4169564</td><td>-55.399983</td><td>null</td><td>null</td><td>null</td><td>null</td><td>null</td><td>8.743462</td><td>24.88558</td><td>null</td><td>null</td><td>null</td><td>17.033755</td><td>&hellip;</td><td>2.819737</td><td>-24.05785</td><td>-27.689178</td><td>-23.018846</td><td>19.836453</td><td>37.289268</td><td>null</td><td>-14.670379</td><td>-20.166836</td><td>38.336827</td><td>27.931824</td><td>-0.393383</td><td>2.491528</td><td>-21.973411</td><td>-38.43771</td><td>null</td><td>null</td><td>null</td><td>null</td><td>null</td><td>-32.823978</td><td>null</td><td>3.994154</td><td>0.616858</td><td>11.353448</td><td>null</td><td>null</td><td>38.21056</td><td>42.425068</td><td>-35.465856</td><td>45.00771</td><td>null</td><td>34.733382</td><td>-15.523891</td><td>null</td><td>null</td><td>-7.098685</td></tr><tr><td>&hellip;</td><td>&hellip;</td><td>&hellip;</td><td>&hellip;</td><td>&hellip;</td><td>&hellip;</td><td>&hellip;</td><td>&hellip;</td><td>&hellip;</td><td>&hellip;</td><td>&hellip;</td><td>&hellip;</td><td>&hellip;</td><td>&hellip;</td><td>&hellip;</td><td>&hellip;</td><td>&hellip;</td><td>&hellip;</td><td>&hellip;</td><td>&hellip;</td><td>&hellip;</td><td>&hellip;</td><td>&hellip;</td><td>&hellip;</td><td>&hellip;</td><td>&hellip;</td><td>&hellip;</td><td>&hellip;</td><td>&hellip;</td><td>&hellip;</td><td>&hellip;</td><td>&hellip;</td><td>&hellip;</td><td>&hellip;</td><td>&hellip;</td><td>&hellip;</td><td>&hellip;</td><td>&hellip;</td><td>&hellip;</td><td>&hellip;</td><td>&hellip;</td><td>&hellip;</td><td>&hellip;</td><td>&hellip;</td><td>&hellip;</td><td>&hellip;</td><td>&hellip;</td><td>&hellip;</td><td>&hellip;</td><td>&hellip;</td><td>&hellip;</td><td>&hellip;</td><td>&hellip;</td><td>&hellip;</td><td>&hellip;</td><td>&hellip;</td><td>&hellip;</td><td>&hellip;</td><td>&hellip;</td><td>&hellip;</td><td>&hellip;</td><td>&hellip;</td><td>&hellip;</td><td>&hellip;</td><td>&hellip;</td><td>&hellip;</td><td>&hellip;</td><td>&hellip;</td><td>&hellip;</td><td>&hellip;</td><td>&hellip;</td><td>&hellip;</td><td>&hellip;</td><td>&hellip;</td><td>&hellip;</td></tr><tr><td>2025-02-21</td><td>&quot;USSLOWL_TELECOM&quot;</td><td>null</td><td>-47.622464</td><td>null</td><td>null</td><td>null</td><td>null</td><td>null</td><td>null</td><td>null</td><td>null</td><td>null</td><td>null</td><td>null</td><td>null</td><td>null</td><td>null</td><td>null</td><td>null</td><td>null</td><td>null</td><td>null</td><td>null</td><td>null</td><td>null</td><td>null</td><td>null</td><td>null</td><td>null</td><td>null</td><td>null</td><td>null</td><td>null</td><td>null</td><td>null</td><td>null</td><td>&hellip;</td><td>null</td><td>27.496418</td><td>null</td><td>null</td><td>null</td><td>null</td><td>null</td><td>null</td><td>null</td><td>null</td><td>null</td><td>null</td><td>null</td><td>null</td><td>46.218044</td><td>null</td><td>null</td><td>null</td><td>null</td><td>null</td><td>null</td><td>null</td><td>null</td><td>null</td><td>null</td><td>null</td><td>null</td><td>null</td><td>null</td><td>null</td><td>null</td><td>null</td><td>null</td><td>260.761072</td><td>null</td><td>null</td><td>38.921847</td></tr><tr><td>2025-02-21</td><td>&quot;USSLOWL_TRADECO&quot;</td><td>null</td><td>34.515185</td><td>null</td><td>null</td><td>null</td><td>null</td><td>null</td><td>null</td><td>null</td><td>null</td><td>null</td><td>null</td><td>null</td><td>null</td><td>null</td><td>null</td><td>null</td><td>6.461459</td><td>null</td><td>15.882315</td><td>32.852183</td><td>45.096023</td><td>-12.470869</td><td>-17.330757</td><td>null</td><td>null</td><td>75.838323</td><td>null</td><td>null</td><td>-17.888174</td><td>0.034519</td><td>17.000506</td><td>25.39222</td><td>null</td><td>8.253919</td><td>&hellip;</td><td>0.769482</td><td>-19.693242</td><td>-25.181919</td><td>0.778377</td><td>76.196715</td><td>18.301284</td><td>null</td><td>7.63453</td><td>-29.344575</td><td>7.258106</td><td>14.892022</td><td>18.063661</td><td>-16.087312</td><td>-5.692386</td><td>-24.199735</td><td>null</td><td>null</td><td>null</td><td>null</td><td>null</td><td>-22.891019</td><td>null</td><td>-14.897383</td><td>-8.287475</td><td>-0.968973</td><td>null</td><td>57.4972</td><td>-25.189098</td><td>-27.762239</td><td>-26.575956</td><td>37.456003</td><td>null</td><td>13.647677</td><td>-26.627008</td><td>165.148863</td><td>32.427443</td><td>-7.340436</td></tr><tr><td>2025-02-21</td><td>&quot;USSLOWL_TRANSPRT&quot;</td><td>null</td><td>-2.904141</td><td>null</td><td>null</td><td>null</td><td>null</td><td>null</td><td>null</td><td>null</td><td>null</td><td>null</td><td>null</td><td>null</td><td>null</td><td>null</td><td>null</td><td>null</td><td>null</td><td>null</td><td>4.900493</td><td>38.387097</td><td>31.561713</td><td>3.313533</td><td>-14.200264</td><td>null</td><td>null</td><td>null</td><td>null</td><td>null</td><td>-11.361344</td><td>-1.536872</td><td>null</td><td>null</td><td>null</td><td>11.368509</td><td>&hellip;</td><td>10.930861</td><td>6.618909</td><td>-7.939177</td><td>-7.405783</td><td>-1.635936</td><td>22.445684</td><td>null</td><td>-3.32642</td><td>-21.193975</td><td>21.180725</td><td>-0.106786</td><td>2.517114</td><td>0.444572</td><td>-23.422151</td><td>-9.407931</td><td>null</td><td>null</td><td>null</td><td>null</td><td>null</td><td>-15.131618</td><td>null</td><td>9.76929</td><td>-8.049609</td><td>-0.536645</td><td>null</td><td>78.731183</td><td>12.661893</td><td>-13.959104</td><td>-14.501285</td><td>14.570721</td><td>null</td><td>12.43771</td><td>2.322087</td><td>null</td><td>213.50462</td><td>7.361507</td></tr><tr><td>2025-02-21</td><td>&quot;USSLOWL_VALUE&quot;</td><td>null</td><td>1.322277</td><td>null</td><td>null</td><td>null</td><td>null</td><td>null</td><td>null</td><td>null</td><td>null</td><td>null</td><td>null</td><td>null</td><td>null</td><td>null</td><td>6.5123826</td><td>4.063888</td><td>6.908759</td><td>9.656354</td><td>6.036565</td><td>4.08861</td><td>11.573543</td><td>0.368662</td><td>-3.481464</td><td>3.905765</td><td>7.1599173</td><td>4.102188</td><td>9.5994804</td><td>5.06087</td><td>-3.378966</td><td>-2.142115</td><td>0.418432</td><td>2.804748</td><td>3.950398</td><td>1.963537</td><td>&hellip;</td><td>-1.35864</td><td>-5.057371</td><td>-3.93051</td><td>-0.444713</td><td>-1.019632</td><td>2.336899</td><td>5.016988</td><td>1.727536</td><td>-0.941506</td><td>4.475142</td><td>4.881986</td><td>3.460123</td><td>3.1505</td><td>-0.344164</td><td>-6.289132</td><td>7.961558</td><td>20.950032</td><td>21.926533</td><td>14.817651</td><td>7.549394</td><td>-1.587778</td><td>6.480521</td><td>-0.005988</td><td>-3.196313</td><td>0.461696</td><td>null</td><td>4.109551</td><td>-2.427635</td><td>1.005655</td><td>-5.51605</td><td>0.283105</td><td>2.537477</td><td>3.161183</td><td>-3.347316</td><td>5.365004</td><td>2.058484</td><td>0.759144</td></tr><tr><td>2025-02-21</td><td>&quot;USSLOWL_WIRELESS&quot;</td><td>null</td><td>-34.349551</td><td>null</td><td>null</td><td>null</td><td>null</td><td>null</td><td>null</td><td>null</td><td>null</td><td>null</td><td>null</td><td>null</td><td>null</td><td>null</td><td>null</td><td>null</td><td>null</td><td>null</td><td>null</td><td>null</td><td>null</td><td>null</td><td>null</td><td>null</td><td>null</td><td>null</td><td>null</td><td>null</td><td>null</td><td>null</td><td>null</td><td>null</td><td>null</td><td>null</td><td>&hellip;</td><td>null</td><td>22.149385</td><td>null</td><td>null</td><td>null</td><td>null</td><td>null</td><td>null</td><td>null</td><td>null</td><td>null</td><td>null</td><td>null</td><td>null</td><td>19.115588</td><td>null</td><td>null</td><td>null</td><td>null</td><td>null</td><td>null</td><td>null</td><td>null</td><td>null</td><td>null</td><td>null</td><td>null</td><td>null</td><td>null</td><td>null</td><td>null</td><td>null</td><td>null</td><td>null</td><td>null</td><td>null</td><td>143.107984</td></tr></tbody></table></div>"
      ],
      "text/plain": [
       "shape: (2_584, 78)\n",
       "┌───────────┬───────────┬───────────┬───────────┬───┬───────────┬───────────┬───────────┬──────────┐\n",
       "│ date      ┆ factor1   ┆ USSLOWL_B ┆ USSLOWL_C ┆ … ┆ USSLOWL_T ┆ USSLOWL_T ┆ USSLOWL_T ┆ USSLOWL_ │\n",
       "│ ---       ┆ ---       ┆ ETA       ┆ OUNTRY    ┆   ┆ ELECOM    ┆ RADECO    ┆ RANSPRT   ┆ WIRELESS │\n",
       "│ date      ┆ str       ┆ ---       ┆ ---       ┆   ┆ ---       ┆ ---       ┆ ---       ┆ ---      │\n",
       "│           ┆           ┆ f64       ┆ f64       ┆   ┆ f64       ┆ f64       ┆ f64       ┆ f64      │\n",
       "╞═══════════╪═══════════╪═══════════╪═══════════╪═══╪═══════════╪═══════════╪═══════════╪══════════╡\n",
       "│ 2025-01-0 ┆ USSLOWL_A ┆ null      ┆ 15.795886 ┆ … ┆ -8.087153 ┆ 26.155639 ┆ -14.06188 ┆ -4.03380 │\n",
       "│ 2         ┆ ERODEF    ┆           ┆           ┆   ┆           ┆           ┆ 2         ┆ 8        │\n",
       "│ 2025-01-0 ┆ USSLOWL_A ┆ null      ┆ 14.353189 ┆ … ┆ -5.056409 ┆ null      ┆ 11.954957 ┆ -23.0886 │\n",
       "│ 2         ┆ IRLINES   ┆           ┆           ┆   ┆           ┆           ┆           ┆ 01       │\n",
       "│ 2025-01-0 ┆ USSLOWL_A ┆ null      ┆ 21.875953 ┆ … ┆ 1.327923  ┆ 83.295026 ┆ 29.238661 ┆ 14.24754 │\n",
       "│ 2         ┆ LUMSTEL   ┆           ┆           ┆   ┆           ┆           ┆           ┆ 3        │\n",
       "│ 2025-01-0 ┆ USSLOWL_A ┆ null      ┆ 7.500143  ┆ … ┆ -13.32427 ┆ null      ┆ null      ┆ 1.576977 │\n",
       "│ 2         ┆ PPAREL    ┆           ┆           ┆   ┆ 2         ┆           ┆           ┆          │\n",
       "│ 2025-01-0 ┆ USSLOWL_A ┆ null      ┆ 14.010559 ┆ … ┆ -15.52389 ┆ null      ┆ null      ┆ -7.09868 │\n",
       "│ 2         ┆ UTO       ┆           ┆           ┆   ┆ 1         ┆           ┆           ┆ 5        │\n",
       "│ …         ┆ …         ┆ …         ┆ …         ┆ … ┆ …         ┆ …         ┆ …         ┆ …        │\n",
       "│ 2025-02-2 ┆ USSLOWL_T ┆ null      ┆ -47.62246 ┆ … ┆ 260.76107 ┆ null      ┆ null      ┆ 38.92184 │\n",
       "│ 1         ┆ ELECOM    ┆           ┆ 4         ┆   ┆ 2         ┆           ┆           ┆ 7        │\n",
       "│ 2025-02-2 ┆ USSLOWL_T ┆ null      ┆ 34.515185 ┆ … ┆ -26.62700 ┆ 165.14886 ┆ 32.427443 ┆ -7.34043 │\n",
       "│ 1         ┆ RADECO    ┆           ┆           ┆   ┆ 8         ┆ 3         ┆           ┆ 6        │\n",
       "│ 2025-02-2 ┆ USSLOWL_T ┆ null      ┆ -2.904141 ┆ … ┆ 2.322087  ┆ null      ┆ 213.50462 ┆ 7.361507 │\n",
       "│ 1         ┆ RANSPRT   ┆           ┆           ┆   ┆           ┆           ┆           ┆          │\n",
       "│ 2025-02-2 ┆ USSLOWL_V ┆ null      ┆ 1.322277  ┆ … ┆ -3.347316 ┆ 5.365004  ┆ 2.058484  ┆ 0.759144 │\n",
       "│ 1         ┆ ALUE      ┆           ┆           ┆   ┆           ┆           ┆           ┆          │\n",
       "│ 2025-02-2 ┆ USSLOWL_W ┆ null      ┆ -34.34955 ┆ … ┆ null      ┆ null      ┆ null      ┆ 143.1079 │\n",
       "│ 1         ┆ IRELESS   ┆           ┆ 1         ┆   ┆           ┆           ┆           ┆ 84       │\n",
       "└───────────┴───────────┴───────────┴───────────┴───┴───────────┴───────────┴───────────┴──────────┘"
      ]
     },
     "execution_count": 13,
     "metadata": {},
     "output_type": "execute_result"
    }
   ],
   "source": [
    "db.execute(\"SELECT * FROM covariances_wide ORDER BY date, factor1;\").pl()"
   ]
  },
  {
   "cell_type": "code",
   "execution_count": 14,
   "metadata": {},
   "outputs": [
    {
     "data": {
      "text/html": [
       "<div><style>\n",
       ".dataframe > thead > tr,\n",
       ".dataframe > tbody > tr {\n",
       "  text-align: right;\n",
       "  white-space: pre-wrap;\n",
       "}\n",
       "</style>\n",
       "<small>shape: (13_157_424, 4)</small><table border=\"1\" class=\"dataframe\"><thead><tr><th>date</th><th>barrid</th><th>factor</th><th>exposure</th></tr><tr><td>date</td><td>str</td><td>str</td><td>f64</td></tr></thead><tbody><tr><td>2025-01-02</td><td>&quot;ARGA1B1&quot;</td><td>&quot;USSLOWL_BETA&quot;</td><td>1.669</td></tr><tr><td>2025-01-02</td><td>&quot;ARGA1B1&quot;</td><td>&quot;USSLOWL_COUNTRY&quot;</td><td>1.0</td></tr><tr><td>2025-01-02</td><td>&quot;ARGA1B1&quot;</td><td>&quot;USSLOWL_DIVYILD&quot;</td><td>-0.69</td></tr><tr><td>2025-01-02</td><td>&quot;ARGA1B1&quot;</td><td>&quot;USSLOWL_EARNQLTY&quot;</td><td>-0.577</td></tr><tr><td>2025-01-02</td><td>&quot;ARGA1B1&quot;</td><td>&quot;USSLOWL_EARNYILD&quot;</td><td>-0.727</td></tr><tr><td>&hellip;</td><td>&hellip;</td><td>&hellip;</td><td>&hellip;</td></tr><tr><td>2025-02-21</td><td>&quot;USBQZV1&quot;</td><td>&quot;USSLOWL_PROFIT&quot;</td><td>1.519</td></tr><tr><td>2025-02-21</td><td>&quot;USBQZV1&quot;</td><td>&quot;USSLOWL_PROSPECT&quot;</td><td>-0.54</td></tr><tr><td>2025-02-21</td><td>&quot;USBQZV1&quot;</td><td>&quot;USSLOWL_RESVOL&quot;</td><td>-1.591</td></tr><tr><td>2025-02-21</td><td>&quot;USBQZV1&quot;</td><td>&quot;USSLOWL_SIZE&quot;</td><td>-3.569</td></tr><tr><td>2025-02-21</td><td>&quot;USBQZV1&quot;</td><td>&quot;USSLOWL_VALUE&quot;</td><td>-0.505</td></tr></tbody></table></div>"
      ],
      "text/plain": [
       "shape: (13_157_424, 4)\n",
       "┌────────────┬─────────┬──────────────────┬──────────┐\n",
       "│ date       ┆ barrid  ┆ factor           ┆ exposure │\n",
       "│ ---        ┆ ---     ┆ ---              ┆ ---      │\n",
       "│ date       ┆ str     ┆ str              ┆ f64      │\n",
       "╞════════════╪═════════╪══════════════════╪══════════╡\n",
       "│ 2025-01-02 ┆ ARGA1B1 ┆ USSLOWL_BETA     ┆ 1.669    │\n",
       "│ 2025-01-02 ┆ ARGA1B1 ┆ USSLOWL_COUNTRY  ┆ 1.0      │\n",
       "│ 2025-01-02 ┆ ARGA1B1 ┆ USSLOWL_DIVYILD  ┆ -0.69    │\n",
       "│ 2025-01-02 ┆ ARGA1B1 ┆ USSLOWL_EARNQLTY ┆ -0.577   │\n",
       "│ 2025-01-02 ┆ ARGA1B1 ┆ USSLOWL_EARNYILD ┆ -0.727   │\n",
       "│ …          ┆ …       ┆ …                ┆ …        │\n",
       "│ 2025-02-21 ┆ USBQZV1 ┆ USSLOWL_PROFIT   ┆ 1.519    │\n",
       "│ 2025-02-21 ┆ USBQZV1 ┆ USSLOWL_PROSPECT ┆ -0.54    │\n",
       "│ 2025-02-21 ┆ USBQZV1 ┆ USSLOWL_RESVOL   ┆ -1.591   │\n",
       "│ 2025-02-21 ┆ USBQZV1 ┆ USSLOWL_SIZE     ┆ -3.569   │\n",
       "│ 2025-02-21 ┆ USBQZV1 ┆ USSLOWL_VALUE    ┆ -0.505   │\n",
       "└────────────┴─────────┴──────────────────┴──────────┘"
      ]
     },
     "execution_count": 14,
     "metadata": {},
     "output_type": "execute_result"
    }
   ],
   "source": [
    "db.execute(\"SELECT * FROM exposures ORDER BY date, barrid, factor;\").pl()"
   ]
  },
  {
   "cell_type": "code",
   "execution_count": 15,
   "metadata": {},
   "outputs": [
    {
     "data": {
      "text/html": [
       "<div><style>\n",
       ".dataframe > thead > tr,\n",
       ".dataframe > tbody > tr {\n",
       "  text-align: right;\n",
       "  white-space: pre-wrap;\n",
       "}\n",
       "</style>\n",
       "<small>shape: (717_906, 78)</small><table border=\"1\" class=\"dataframe\"><thead><tr><th>date</th><th>barrid</th><th>USSLOWL_BETA</th><th>USSLOWL_COUNTRY</th><th>USSLOWL_DIVYILD</th><th>USSLOWL_EARNQLTY</th><th>USSLOWL_EARNYILD</th><th>USSLOWL_GROWTH</th><th>USSLOWL_LEVERAGE</th><th>USSLOWL_LIQUIDTY</th><th>USSLOWL_LTREVRSL</th><th>USSLOWL_MGMTQLTY</th><th>USSLOWL_MIDCAP</th><th>USSLOWL_MOMENTUM</th><th>USSLOWL_PROFIT</th><th>USSLOWL_PROSPECT</th><th>USSLOWL_SIZE</th><th>USSLOWL_VALUE</th><th>USSLOWL_AERODEF</th><th>USSLOWL_AIRLINES</th><th>USSLOWL_ALUMSTEL</th><th>USSLOWL_APPAREL</th><th>USSLOWL_AUTO</th><th>USSLOWL_BANKS</th><th>USSLOWL_BEVTOB</th><th>USSLOWL_BIOLIFE</th><th>USSLOWL_BLDGPROD</th><th>USSLOWL_CHEM</th><th>USSLOWL_CNSTENG</th><th>USSLOWL_CNSTMACH</th><th>USSLOWL_CNSTMATL</th><th>USSLOWL_COMMEQP</th><th>USSLOWL_COMPELEC</th><th>USSLOWL_COMSVCS</th><th>USSLOWL_CONGLOM</th><th>USSLOWL_CONTAINR</th><th>USSLOWL_DISTRIB</th><th>&hellip;</th><th>USSLOWL_FOODRET</th><th>USSLOWL_GASUTIL</th><th>USSLOWL_HLTHEQP</th><th>USSLOWL_HLTHSVCS</th><th>USSLOWL_HOMEBLDG</th><th>USSLOWL_HOUSEDUR</th><th>USSLOWL_INDMACH</th><th>USSLOWL_INSURNCE</th><th>USSLOWL_INTERNET</th><th>USSLOWL_LEISPROD</th><th>USSLOWL_LEISSVCS</th><th>USSLOWL_LIFEINS</th><th>USSLOWL_MEDIA</th><th>USSLOWL_MGDHLTH</th><th>USSLOWL_MULTUTIL</th><th>USSLOWL_OILGSCON</th><th>USSLOWL_OILGSDRL</th><th>USSLOWL_OILGSEQP</th><th>USSLOWL_OILGSEXP</th><th>USSLOWL_PAPER</th><th>USSLOWL_PHARMA</th><th>USSLOWL_PRECMTLS</th><th>USSLOWL_PSNLPROD</th><th>USSLOWL_REALEST</th><th>USSLOWL_RESTAUR</th><th>USSLOWL_RESVOL</th><th>USSLOWL_ROADRAIL</th><th>USSLOWL_SEMICOND</th><th>USSLOWL_SEMIEQP</th><th>USSLOWL_SOFTWARE</th><th>USSLOWL_SPLTYRET</th><th>USSLOWL_SPTYCHEM</th><th>USSLOWL_SPTYSTOR</th><th>USSLOWL_TELECOM</th><th>USSLOWL_TRADECO</th><th>USSLOWL_TRANSPRT</th><th>USSLOWL_WIRELESS</th></tr><tr><td>date</td><td>str</td><td>f64</td><td>f64</td><td>f64</td><td>f64</td><td>f64</td><td>f64</td><td>f64</td><td>f64</td><td>f64</td><td>f64</td><td>f64</td><td>f64</td><td>f64</td><td>f64</td><td>f64</td><td>f64</td><td>f64</td><td>f64</td><td>f64</td><td>f64</td><td>f64</td><td>f64</td><td>f64</td><td>f64</td><td>f64</td><td>f64</td><td>f64</td><td>f64</td><td>f64</td><td>f64</td><td>f64</td><td>f64</td><td>f64</td><td>f64</td><td>f64</td><td>&hellip;</td><td>f64</td><td>f64</td><td>f64</td><td>f64</td><td>f64</td><td>f64</td><td>f64</td><td>f64</td><td>f64</td><td>f64</td><td>f64</td><td>f64</td><td>f64</td><td>f64</td><td>f64</td><td>f64</td><td>f64</td><td>f64</td><td>f64</td><td>f64</td><td>f64</td><td>f64</td><td>f64</td><td>f64</td><td>f64</td><td>f64</td><td>f64</td><td>f64</td><td>f64</td><td>f64</td><td>f64</td><td>f64</td><td>f64</td><td>f64</td><td>f64</td><td>f64</td><td>f64</td></tr></thead><tbody><tr><td>2025-01-02</td><td>&quot;ARGA1B1&quot;</td><td>1.669</td><td>1.0</td><td>-0.69</td><td>-0.577</td><td>-0.727</td><td>0.607</td><td>0.705</td><td>3.297</td><td>-1.922</td><td>-1.583</td><td>0.802</td><td>0.122</td><td>-0.46</td><td>2.869</td><td>-1.198</td><td>-0.247</td><td>null</td><td>null</td><td>null</td><td>null</td><td>null</td><td>null</td><td>null</td><td>null</td><td>null</td><td>null</td><td>null</td><td>null</td><td>null</td><td>null</td><td>null</td><td>null</td><td>null</td><td>null</td><td>null</td><td>&hellip;</td><td>null</td><td>null</td><td>null</td><td>null</td><td>null</td><td>null</td><td>null</td><td>null</td><td>1.0</td><td>null</td><td>null</td><td>null</td><td>null</td><td>null</td><td>null</td><td>null</td><td>null</td><td>null</td><td>null</td><td>null</td><td>null</td><td>null</td><td>null</td><td>null</td><td>null</td><td>1.626</td><td>null</td><td>null</td><td>null</td><td>null</td><td>null</td><td>null</td><td>null</td><td>null</td><td>null</td><td>null</td><td>null</td></tr><tr><td>2025-01-02</td><td>&quot;ARGA1G1&quot;</td><td>-0.975</td><td>1.0</td><td>0.607</td><td>0.385</td><td>-0.128</td><td>0.172</td><td>1.341</td><td>-0.634</td><td>-0.709</td><td>0.001</td><td>0.182</td><td>0.008</td><td>-0.131</td><td>2.869</td><td>-0.087</td><td>-0.693</td><td>null</td><td>null</td><td>null</td><td>null</td><td>null</td><td>null</td><td>null</td><td>null</td><td>null</td><td>null</td><td>null</td><td>null</td><td>null</td><td>null</td><td>null</td><td>null</td><td>null</td><td>null</td><td>null</td><td>&hellip;</td><td>null</td><td>null</td><td>null</td><td>null</td><td>null</td><td>null</td><td>null</td><td>null</td><td>null</td><td>null</td><td>null</td><td>null</td><td>null</td><td>null</td><td>null</td><td>null</td><td>null</td><td>null</td><td>null</td><td>null</td><td>null</td><td>null</td><td>null</td><td>null</td><td>1.0</td><td>1.641</td><td>null</td><td>null</td><td>null</td><td>null</td><td>null</td><td>null</td><td>null</td><td>null</td><td>null</td><td>null</td><td>null</td></tr><tr><td>2025-01-02</td><td>&quot;ARGA1K1&quot;</td><td>-2.046</td><td>1.0</td><td>0.928</td><td>0.105</td><td>0.167</td><td>-0.58</td><td>0.104</td><td>-0.353</td><td>-0.661</td><td>-0.341</td><td>0.658</td><td>-0.751</td><td>0.14</td><td>2.869</td><td>-0.813</td><td>-0.184</td><td>null</td><td>null</td><td>null</td><td>null</td><td>null</td><td>null</td><td>null</td><td>null</td><td>null</td><td>null</td><td>null</td><td>null</td><td>null</td><td>null</td><td>null</td><td>null</td><td>null</td><td>null</td><td>null</td><td>&hellip;</td><td>null</td><td>null</td><td>null</td><td>null</td><td>null</td><td>null</td><td>null</td><td>null</td><td>null</td><td>null</td><td>null</td><td>null</td><td>null</td><td>null</td><td>null</td><td>null</td><td>null</td><td>null</td><td>null</td><td>null</td><td>null</td><td>null</td><td>null</td><td>null</td><td>null</td><td>1.596</td><td>null</td><td>null</td><td>null</td><td>null</td><td>null</td><td>null</td><td>null</td><td>null</td><td>null</td><td>null</td><td>null</td></tr><tr><td>2025-01-02</td><td>&quot;ARGA621&quot;</td><td>1.239</td><td>1.0</td><td>-0.69</td><td>-0.087</td><td>-0.927</td><td>1.254</td><td>0.484</td><td>0.204</td><td>-0.86</td><td>-0.179</td><td>0.649</td><td>2.328</td><td>-0.545</td><td>2.869</td><td>-1.992</td><td>-0.286</td><td>null</td><td>null</td><td>null</td><td>null</td><td>null</td><td>null</td><td>null</td><td>null</td><td>null</td><td>null</td><td>null</td><td>null</td><td>null</td><td>null</td><td>null</td><td>null</td><td>null</td><td>null</td><td>null</td><td>&hellip;</td><td>null</td><td>null</td><td>null</td><td>null</td><td>null</td><td>null</td><td>null</td><td>null</td><td>null</td><td>null</td><td>null</td><td>null</td><td>null</td><td>null</td><td>null</td><td>null</td><td>null</td><td>null</td><td>null</td><td>null</td><td>null</td><td>null</td><td>null</td><td>null</td><td>null</td><td>2.916</td><td>null</td><td>null</td><td>null</td><td>null</td><td>null</td><td>null</td><td>null</td><td>null</td><td>null</td><td>null</td><td>null</td></tr><tr><td>2025-01-02</td><td>&quot;ARGA631&quot;</td><td>0.223</td><td>1.0</td><td>-0.69</td><td>-0.606</td><td>-0.128</td><td>1.694</td><td>-0.144</td><td>1.545</td><td>-2.095</td><td>0.729</td><td>0.066</td><td>-0.041</td><td>-0.506</td><td>2.869</td><td>0.069</td><td>-0.22</td><td>null</td><td>null</td><td>null</td><td>null</td><td>null</td><td>null</td><td>null</td><td>null</td><td>null</td><td>null</td><td>null</td><td>null</td><td>null</td><td>null</td><td>null</td><td>null</td><td>null</td><td>null</td><td>null</td><td>&hellip;</td><td>null</td><td>null</td><td>null</td><td>null</td><td>null</td><td>null</td><td>null</td><td>null</td><td>null</td><td>null</td><td>null</td><td>null</td><td>null</td><td>null</td><td>null</td><td>null</td><td>null</td><td>null</td><td>null</td><td>null</td><td>null</td><td>null</td><td>null</td><td>null</td><td>null</td><td>1.595</td><td>1.0</td><td>null</td><td>null</td><td>null</td><td>null</td><td>null</td><td>null</td><td>null</td><td>null</td><td>null</td><td>null</td></tr><tr><td>&hellip;</td><td>&hellip;</td><td>&hellip;</td><td>&hellip;</td><td>&hellip;</td><td>&hellip;</td><td>&hellip;</td><td>&hellip;</td><td>&hellip;</td><td>&hellip;</td><td>&hellip;</td><td>&hellip;</td><td>&hellip;</td><td>&hellip;</td><td>&hellip;</td><td>&hellip;</td><td>&hellip;</td><td>&hellip;</td><td>&hellip;</td><td>&hellip;</td><td>&hellip;</td><td>&hellip;</td><td>&hellip;</td><td>&hellip;</td><td>&hellip;</td><td>&hellip;</td><td>&hellip;</td><td>&hellip;</td><td>&hellip;</td><td>&hellip;</td><td>&hellip;</td><td>&hellip;</td><td>&hellip;</td><td>&hellip;</td><td>&hellip;</td><td>&hellip;</td><td>&hellip;</td><td>&hellip;</td><td>&hellip;</td><td>&hellip;</td><td>&hellip;</td><td>&hellip;</td><td>&hellip;</td><td>&hellip;</td><td>&hellip;</td><td>&hellip;</td><td>&hellip;</td><td>&hellip;</td><td>&hellip;</td><td>&hellip;</td><td>&hellip;</td><td>&hellip;</td><td>&hellip;</td><td>&hellip;</td><td>&hellip;</td><td>&hellip;</td><td>&hellip;</td><td>&hellip;</td><td>&hellip;</td><td>&hellip;</td><td>&hellip;</td><td>&hellip;</td><td>&hellip;</td><td>&hellip;</td><td>&hellip;</td><td>&hellip;</td><td>&hellip;</td><td>&hellip;</td><td>&hellip;</td><td>&hellip;</td><td>&hellip;</td><td>&hellip;</td><td>&hellip;</td><td>&hellip;</td><td>&hellip;</td></tr><tr><td>2025-02-21</td><td>&quot;USBQZF1&quot;</td><td>0.595</td><td>1.0</td><td>-0.758</td><td>-1.011</td><td>-0.6</td><td>-0.098</td><td>-0.494</td><td>0.93</td><td>0.157</td><td>-0.462</td><td>-2.788</td><td>-0.487</td><td>-0.224</td><td>-0.443</td><td>-4.478</td><td>0.768</td><td>null</td><td>null</td><td>null</td><td>null</td><td>null</td><td>null</td><td>null</td><td>null</td><td>null</td><td>null</td><td>null</td><td>null</td><td>null</td><td>null</td><td>null</td><td>null</td><td>null</td><td>null</td><td>null</td><td>&hellip;</td><td>null</td><td>null</td><td>null</td><td>null</td><td>null</td><td>null</td><td>null</td><td>null</td><td>null</td><td>null</td><td>null</td><td>null</td><td>null</td><td>null</td><td>null</td><td>null</td><td>null</td><td>null</td><td>null</td><td>null</td><td>null</td><td>null</td><td>null</td><td>null</td><td>null</td><td>2.067</td><td>null</td><td>null</td><td>null</td><td>1.0</td><td>null</td><td>null</td><td>null</td><td>null</td><td>null</td><td>null</td><td>null</td></tr><tr><td>2025-02-21</td><td>&quot;USBQZG1&quot;</td><td>-1.035</td><td>1.0</td><td>0.716</td><td>0.553</td><td>2.692</td><td>-0.094</td><td>0.776</td><td>1.147</td><td>-0.72</td><td>-2.749</td><td>-2.788</td><td>-0.906</td><td>-0.49</td><td>-0.603</td><td>-3.934</td><td>3.215</td><td>null</td><td>null</td><td>null</td><td>null</td><td>null</td><td>null</td><td>null</td><td>null</td><td>null</td><td>null</td><td>null</td><td>null</td><td>null</td><td>null</td><td>null</td><td>null</td><td>null</td><td>null</td><td>null</td><td>&hellip;</td><td>null</td><td>null</td><td>null</td><td>null</td><td>null</td><td>null</td><td>null</td><td>null</td><td>null</td><td>null</td><td>null</td><td>null</td><td>null</td><td>null</td><td>null</td><td>null</td><td>null</td><td>null</td><td>1.0</td><td>null</td><td>null</td><td>null</td><td>null</td><td>null</td><td>null</td><td>-1.858</td><td>null</td><td>null</td><td>null</td><td>null</td><td>null</td><td>null</td><td>null</td><td>null</td><td>null</td><td>null</td><td>null</td></tr><tr><td>2025-02-21</td><td>&quot;USBQZQ1&quot;</td><td>0.13</td><td>1.0</td><td>-0.578</td><td>-2.603</td><td>-1.313</td><td>0.821</td><td>-0.885</td><td>0.585</td><td>0.588</td><td>0.034</td><td>-2.788</td><td>-0.652</td><td>-1.794</td><td>-0.135</td><td>-4.25</td><td>-0.606</td><td>null</td><td>null</td><td>null</td><td>null</td><td>null</td><td>null</td><td>null</td><td>null</td><td>null</td><td>null</td><td>null</td><td>null</td><td>null</td><td>null</td><td>0.498</td><td>null</td><td>null</td><td>null</td><td>null</td><td>&hellip;</td><td>null</td><td>null</td><td>null</td><td>null</td><td>null</td><td>null</td><td>null</td><td>null</td><td>0.502</td><td>null</td><td>null</td><td>null</td><td>null</td><td>null</td><td>null</td><td>null</td><td>null</td><td>null</td><td>null</td><td>null</td><td>null</td><td>null</td><td>null</td><td>null</td><td>null</td><td>2.649</td><td>null</td><td>null</td><td>null</td><td>null</td><td>null</td><td>null</td><td>null</td><td>null</td><td>null</td><td>null</td><td>null</td></tr><tr><td>2025-02-21</td><td>&quot;USBQZR1&quot;</td><td>-0.87</td><td>1.0</td><td>-0.491</td><td>-2.886</td><td>-1.508</td><td>-0.525</td><td>0.326</td><td>0.637</td><td>0.784</td><td>1.781</td><td>-1.442</td><td>-0.75</td><td>-0.464</td><td>0.055</td><td>-3.189</td><td>-1.239</td><td>null</td><td>null</td><td>null</td><td>null</td><td>null</td><td>null</td><td>null</td><td>null</td><td>null</td><td>null</td><td>null</td><td>null</td><td>null</td><td>null</td><td>null</td><td>null</td><td>null</td><td>null</td><td>null</td><td>&hellip;</td><td>null</td><td>null</td><td>1.0</td><td>null</td><td>null</td><td>null</td><td>null</td><td>null</td><td>null</td><td>null</td><td>null</td><td>null</td><td>null</td><td>null</td><td>null</td><td>null</td><td>null</td><td>null</td><td>null</td><td>null</td><td>null</td><td>null</td><td>null</td><td>null</td><td>null</td><td>-1.758</td><td>null</td><td>null</td><td>null</td><td>null</td><td>null</td><td>null</td><td>null</td><td>null</td><td>null</td><td>null</td><td>null</td></tr><tr><td>2025-02-21</td><td>&quot;USBQZV1&quot;</td><td>-0.788</td><td>1.0</td><td>-0.556</td><td>-2.886</td><td>-1.296</td><td>1.143</td><td>-0.494</td><td>0.691</td><td>0.493</td><td>-2.583</td><td>-2.735</td><td>-1.061</td><td>1.519</td><td>-0.54</td><td>-3.569</td><td>-0.505</td><td>null</td><td>null</td><td>null</td><td>null</td><td>null</td><td>null</td><td>null</td><td>1.0</td><td>null</td><td>null</td><td>null</td><td>null</td><td>null</td><td>null</td><td>null</td><td>null</td><td>null</td><td>null</td><td>null</td><td>&hellip;</td><td>null</td><td>null</td><td>null</td><td>null</td><td>null</td><td>null</td><td>null</td><td>null</td><td>null</td><td>null</td><td>null</td><td>null</td><td>null</td><td>null</td><td>null</td><td>null</td><td>null</td><td>null</td><td>null</td><td>null</td><td>null</td><td>null</td><td>null</td><td>null</td><td>null</td><td>-1.591</td><td>null</td><td>null</td><td>null</td><td>null</td><td>null</td><td>null</td><td>null</td><td>null</td><td>null</td><td>null</td><td>null</td></tr></tbody></table></div>"
      ],
      "text/plain": [
       "shape: (717_906, 78)\n",
       "┌────────────┬─────────┬───────────┬───────────┬───┬───────────┬───────────┬───────────┬───────────┐\n",
       "│ date       ┆ barrid  ┆ USSLOWL_B ┆ USSLOWL_C ┆ … ┆ USSLOWL_T ┆ USSLOWL_T ┆ USSLOWL_T ┆ USSLOWL_W │\n",
       "│ ---        ┆ ---     ┆ ETA       ┆ OUNTRY    ┆   ┆ ELECOM    ┆ RADECO    ┆ RANSPRT   ┆ IRELESS   │\n",
       "│ date       ┆ str     ┆ ---       ┆ ---       ┆   ┆ ---       ┆ ---       ┆ ---       ┆ ---       │\n",
       "│            ┆         ┆ f64       ┆ f64       ┆   ┆ f64       ┆ f64       ┆ f64       ┆ f64       │\n",
       "╞════════════╪═════════╪═══════════╪═══════════╪═══╪═══════════╪═══════════╪═══════════╪═══════════╡\n",
       "│ 2025-01-02 ┆ ARGA1B1 ┆ 1.669     ┆ 1.0       ┆ … ┆ null      ┆ null      ┆ null      ┆ null      │\n",
       "│ 2025-01-02 ┆ ARGA1G1 ┆ -0.975    ┆ 1.0       ┆ … ┆ null      ┆ null      ┆ null      ┆ null      │\n",
       "│ 2025-01-02 ┆ ARGA1K1 ┆ -2.046    ┆ 1.0       ┆ … ┆ null      ┆ null      ┆ null      ┆ null      │\n",
       "│ 2025-01-02 ┆ ARGA621 ┆ 1.239     ┆ 1.0       ┆ … ┆ null      ┆ null      ┆ null      ┆ null      │\n",
       "│ 2025-01-02 ┆ ARGA631 ┆ 0.223     ┆ 1.0       ┆ … ┆ null      ┆ null      ┆ null      ┆ null      │\n",
       "│ …          ┆ …       ┆ …         ┆ …         ┆ … ┆ …         ┆ …         ┆ …         ┆ …         │\n",
       "│ 2025-02-21 ┆ USBQZF1 ┆ 0.595     ┆ 1.0       ┆ … ┆ null      ┆ null      ┆ null      ┆ null      │\n",
       "│ 2025-02-21 ┆ USBQZG1 ┆ -1.035    ┆ 1.0       ┆ … ┆ null      ┆ null      ┆ null      ┆ null      │\n",
       "│ 2025-02-21 ┆ USBQZQ1 ┆ 0.13      ┆ 1.0       ┆ … ┆ null      ┆ null      ┆ null      ┆ null      │\n",
       "│ 2025-02-21 ┆ USBQZR1 ┆ -0.87     ┆ 1.0       ┆ … ┆ null      ┆ null      ┆ null      ┆ null      │\n",
       "│ 2025-02-21 ┆ USBQZV1 ┆ -0.788    ┆ 1.0       ┆ … ┆ null      ┆ null      ┆ null      ┆ null      │\n",
       "└────────────┴─────────┴───────────┴───────────┴───┴───────────┴───────────┴───────────┴───────────┘"
      ]
     },
     "execution_count": 15,
     "metadata": {},
     "output_type": "execute_result"
    }
   ],
   "source": [
    "db.execute(\"SELECT * FROM exposures_wide ORDER BY date, barrid;\").pl()"
   ]
  },
  {
   "cell_type": "code",
   "execution_count": null,
   "metadata": {},
   "outputs": [],
   "source": []
  }
 ],
 "metadata": {
  "kernelspec": {
   "display_name": ".venv",
   "language": "python",
   "name": "python3"
  },
  "language_info": {
   "codemirror_mode": {
    "name": "ipython",
    "version": 3
   },
   "file_extension": ".py",
   "mimetype": "text/x-python",
   "name": "python",
   "nbconvert_exporter": "python",
   "pygments_lexer": "ipython3",
   "version": "3.11.10"
  }
 },
 "nbformat": 4,
 "nbformat_minor": 2
}
