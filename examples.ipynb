{
 "cells": [
  {
   "cell_type": "code",
   "execution_count": 1,
   "metadata": {},
   "outputs": [],
   "source": [
    "from pipelines.utils.database import Database\n",
    "import polars as pl"
   ]
  },
  {
   "cell_type": "code",
   "execution_count": 2,
   "metadata": {},
   "outputs": [
    {
     "data": {
      "text/html": [
       "<div><style>\n",
       ".dataframe > thead > tr,\n",
       ".dataframe > tbody > tr {\n",
       "  text-align: right;\n",
       "  white-space: pre-wrap;\n",
       "}\n",
       "</style>\n",
       "<small>shape: (56_567_554, 29)</small><table border=\"1\" class=\"dataframe\"><thead><tr><th>date</th><th>rootid</th><th>barrid</th><th>cins</th><th>cusip</th><th>isin</th><th>localid</th><th>ticker</th><th>name</th><th>instrument</th><th>issuerid</th><th>iso_country_code</th><th>iso_currency_code</th><th>price</th><th>market_cap</th><th>price_source</th><th>currency</th><th>return</th><th>specific_return</th><th>yield</th><th>total_risk</th><th>specific_risk</th><th>historical_beta</th><th>predicted_beta</th><th>russell_2000</th><th>russell_1000</th><th>russell_3000_weight</th><th>russell_2000_weight</th><th>russell_1000_weight</th></tr><tr><td>date</td><td>str</td><td>str</td><td>str</td><td>str</td><td>str</td><td>str</td><td>str</td><td>str</td><td>str</td><td>str</td><td>str</td><td>str</td><td>f64</td><td>f64</td><td>str</td><td>str</td><td>f64</td><td>f64</td><td>f64</td><td>f64</td><td>f64</td><td>f64</td><td>f64</td><td>bool</td><td>bool</td><td>f64</td><td>f64</td><td>f64</td></tr></thead><tbody><tr><td>2014-01-02</td><td>&quot;USAM8X1&quot;</td><td>&quot;ARGAJH1&quot;</td><td>null</td><td>null</td><td>null</td><td>null</td><td>null</td><td>&quot;SCHLUMBERGER LIMITED&quot;</td><td>&quot;GDR&quot;</td><td>&quot;A33602&quot;</td><td>&quot;ARG&quot;</td><td>&quot;ARS&quot;</td><td>280.0</td><td>1.1062e12</td><td>&quot;MSCIBARRA&quot;</td><td>&quot;ARS&quot;</td><td>0.0</td><td>1.391</td><td>1.387193</td><td>32.909961</td><td>22.469782</td><td>1.050714</td><td>1.241816</td><td>null</td><td>null</td><td>null</td><td>null</td><td>null</td></tr><tr><td>2014-01-02</td><td>&quot;USAKQY1&quot;</td><td>&quot;ARGAMY1&quot;</td><td>null</td><td>null</td><td>null</td><td>null</td><td>null</td><td>&quot;PEPSICO INC&quot;</td><td>&quot;GDR&quot;</td><td>&quot;A30293&quot;</td><td>&quot;ARG&quot;</td><td>&quot;ARS&quot;</td><td>391.3</td><td>1.2069e12</td><td>&quot;MSCIBARRA&quot;</td><td>&quot;ARS&quot;</td><td>0.0</td><td>0.891</td><td>2.736918</td><td>22.08541</td><td>19.765372</td><td>0.244048</td><td>0.281431</td><td>null</td><td>null</td><td>null</td><td>null</td><td>null</td></tr><tr><td>2014-01-02</td><td>&quot;USAEZY1&quot;</td><td>&quot;ARGANC1&quot;</td><td>null</td><td>null</td><td>null</td><td>null</td><td>null</td><td>&quot;FEDERAL HOME LOAN MORTGAGE COR…</td><td>&quot;GDR&quot;</td><td>&quot;A16536&quot;</td><td>&quot;ARG&quot;</td><td>&quot;ARS&quot;</td><td>2.46</td><td>3.1965e9</td><td>&quot;MSCIBARRA&quot;</td><td>&quot;ARS&quot;</td><td>0.0</td><td>1.147</td><td>0.0</td><td>20.734576</td><td>15.376885</td><td>0.0</td><td>0.157418</td><td>null</td><td>null</td><td>null</td><td>null</td><td>null</td></tr><tr><td>2014-01-02</td><td>&quot;USAJV61&quot;</td><td>&quot;ARGANJ1&quot;</td><td>null</td><td>null</td><td>null</td><td>null</td><td>null</td><td>&quot;NEWMONT MINING CORP&quot;</td><td>&quot;GDR&quot;</td><td>&quot;A27948&quot;</td><td>&quot;ARG&quot;</td><td>&quot;ARS&quot;</td><td>196.3</td><td>9.6788e10</td><td>&quot;MSCIBARRA&quot;</td><td>&quot;ARS&quot;</td><td>0.0</td><td>-2.223</td><td>3.47373</td><td>40.229738</td><td>30.72713</td><td>0.04632</td><td>0.816092</td><td>null</td><td>null</td><td>null</td><td>null</td><td>null</td></tr><tr><td>2014-01-02</td><td>&quot;USABND1&quot;</td><td>&quot;ARGANQ1&quot;</td><td>null</td><td>null</td><td>null</td><td>null</td><td>null</td><td>&quot;VERIZON COMMUNICATIONS INC&quot;</td><td>&quot;GDR&quot;</td><td>&quot;A40462&quot;</td><td>&quot;ARG&quot;</td><td>&quot;ARS&quot;</td><td>220.9</td><td>1.2643e12</td><td>&quot;MSCIBARRA&quot;</td><td>&quot;ARS&quot;</td><td>0.0</td><td>0.709</td><td>4.314204</td><td>26.299773</td><td>21.512428</td><td>0.139724</td><td>0.464964</td><td>null</td><td>null</td><td>null</td><td>null</td><td>null</td></tr><tr><td>&hellip;</td><td>&hellip;</td><td>&hellip;</td><td>&hellip;</td><td>&hellip;</td><td>&hellip;</td><td>&hellip;</td><td>&hellip;</td><td>&hellip;</td><td>&hellip;</td><td>&hellip;</td><td>&hellip;</td><td>&hellip;</td><td>&hellip;</td><td>&hellip;</td><td>&hellip;</td><td>&hellip;</td><td>&hellip;</td><td>&hellip;</td><td>&hellip;</td><td>&hellip;</td><td>&hellip;</td><td>&hellip;</td><td>&hellip;</td><td>&hellip;</td><td>&hellip;</td><td>&hellip;</td><td>&hellip;</td><td>&hellip;</td></tr><tr><td>2025-03-07</td><td>null</td><td>&quot;USBQZG1&quot;</td><td>null</td><td>null</td><td>null</td><td>null</td><td>null</td><td>null</td><td>null</td><td>null</td><td>null</td><td>null</td><td>15.65</td><td>2.073625e8</td><td>&quot;MSCIBARRA&quot;</td><td>&quot;USD&quot;</td><td>2.3545</td><td>null</td><td>null</td><td>null</td><td>null</td><td>null</td><td>null</td><td>null</td><td>null</td><td>null</td><td>null</td><td>null</td></tr><tr><td>2025-03-07</td><td>null</td><td>&quot;USBQZQ1&quot;</td><td>null</td><td>null</td><td>null</td><td>null</td><td>null</td><td>null</td><td>null</td><td>null</td><td>null</td><td>null</td><td>6.68</td><td>9.9442e7</td><td>&quot;MSCIBARRA&quot;</td><td>&quot;USD&quot;</td><td>7.0513</td><td>null</td><td>null</td><td>null</td><td>null</td><td>null</td><td>null</td><td>null</td><td>null</td><td>null</td><td>null</td><td>null</td></tr><tr><td>2025-03-07</td><td>null</td><td>&quot;USBQZR1&quot;</td><td>null</td><td>null</td><td>null</td><td>null</td><td>null</td><td>null</td><td>null</td><td>null</td><td>null</td><td>null</td><td>16.14</td><td>6.5996e8</td><td>&quot;MSCIBARRA&quot;</td><td>&quot;USD&quot;</td><td>-9.3768</td><td>null</td><td>null</td><td>null</td><td>null</td><td>null</td><td>null</td><td>null</td><td>null</td><td>null</td><td>null</td><td>null</td></tr><tr><td>2025-03-07</td><td>null</td><td>&quot;USBQZV1&quot;</td><td>null</td><td>null</td><td>null</td><td>null</td><td>null</td><td>null</td><td>null</td><td>null</td><td>null</td><td>null</td><td>0.8321</td><td>4.8533e8</td><td>&quot;MSCIBARRA&quot;</td><td>&quot;USD&quot;</td><td>0.0</td><td>null</td><td>null</td><td>null</td><td>null</td><td>null</td><td>null</td><td>null</td><td>null</td><td>null</td><td>null</td><td>null</td></tr><tr><td>2025-03-07</td><td>null</td><td>&quot;USBQZX1&quot;</td><td>null</td><td>null</td><td>null</td><td>null</td><td>null</td><td>null</td><td>null</td><td>null</td><td>null</td><td>null</td><td>0.3828</td><td>2.75616e6</td><td>&quot;MSCIBARRA&quot;</td><td>&quot;USD&quot;</td><td>0.0</td><td>null</td><td>null</td><td>null</td><td>null</td><td>null</td><td>null</td><td>null</td><td>null</td><td>null</td><td>null</td><td>null</td></tr></tbody></table></div>"
      ],
      "text/plain": [
       "shape: (56_567_554, 29)\n",
       "┌────────────┬─────────┬─────────┬──────┬───┬─────────────┬─────────────┬─────────────┬────────────┐\n",
       "│ date       ┆ rootid  ┆ barrid  ┆ cins ┆ … ┆ russell_100 ┆ russell_300 ┆ russell_200 ┆ russell_10 │\n",
       "│ ---        ┆ ---     ┆ ---     ┆ ---  ┆   ┆ 0           ┆ 0_weight    ┆ 0_weight    ┆ 00_weight  │\n",
       "│ date       ┆ str     ┆ str     ┆ str  ┆   ┆ ---         ┆ ---         ┆ ---         ┆ ---        │\n",
       "│            ┆         ┆         ┆      ┆   ┆ bool        ┆ f64         ┆ f64         ┆ f64        │\n",
       "╞════════════╪═════════╪═════════╪══════╪═══╪═════════════╪═════════════╪═════════════╪════════════╡\n",
       "│ 2014-01-02 ┆ USAM8X1 ┆ ARGAJH1 ┆ null ┆ … ┆ null        ┆ null        ┆ null        ┆ null       │\n",
       "│ 2014-01-02 ┆ USAKQY1 ┆ ARGAMY1 ┆ null ┆ … ┆ null        ┆ null        ┆ null        ┆ null       │\n",
       "│ 2014-01-02 ┆ USAEZY1 ┆ ARGANC1 ┆ null ┆ … ┆ null        ┆ null        ┆ null        ┆ null       │\n",
       "│ 2014-01-02 ┆ USAJV61 ┆ ARGANJ1 ┆ null ┆ … ┆ null        ┆ null        ┆ null        ┆ null       │\n",
       "│ 2014-01-02 ┆ USABND1 ┆ ARGANQ1 ┆ null ┆ … ┆ null        ┆ null        ┆ null        ┆ null       │\n",
       "│ …          ┆ …       ┆ …       ┆ …    ┆ … ┆ …           ┆ …           ┆ …           ┆ …          │\n",
       "│ 2025-03-07 ┆ null    ┆ USBQZG1 ┆ null ┆ … ┆ null        ┆ null        ┆ null        ┆ null       │\n",
       "│ 2025-03-07 ┆ null    ┆ USBQZQ1 ┆ null ┆ … ┆ null        ┆ null        ┆ null        ┆ null       │\n",
       "│ 2025-03-07 ┆ null    ┆ USBQZR1 ┆ null ┆ … ┆ null        ┆ null        ┆ null        ┆ null       │\n",
       "│ 2025-03-07 ┆ null    ┆ USBQZV1 ┆ null ┆ … ┆ null        ┆ null        ┆ null        ┆ null       │\n",
       "│ 2025-03-07 ┆ null    ┆ USBQZX1 ┆ null ┆ … ┆ null        ┆ null        ┆ null        ┆ null       │\n",
       "└────────────┴─────────┴─────────┴──────┴───┴─────────────┴─────────────┴─────────────┴────────────┘"
      ]
     },
     "metadata": {},
     "output_type": "display_data"
    }
   ],
   "source": [
    "with Database() as db:\n",
    "    display(db.execute(\"SELECT * FROM assets ORDER BY date, barrid;\").pl())"
   ]
  },
  {
   "cell_type": "code",
   "execution_count": 3,
   "metadata": {},
   "outputs": [
    {
     "data": {
      "text/html": [
       "<div><style>\n",
       ".dataframe > thead > tr,\n",
       ".dataframe > tbody > tr {\n",
       "  text-align: right;\n",
       "  white-space: pre-wrap;\n",
       "}\n",
       "</style>\n",
       "<small>shape: (574_698, 3)</small><table border=\"1\" class=\"dataframe\"><thead><tr><th>date</th><th>factor</th><th>return</th></tr><tr><td>date</td><td>str</td><td>f64</td></tr></thead><tbody><tr><td>1995-06-30</td><td>&quot;USSLOWL_AERODEF&quot;</td><td>0.000148</td></tr><tr><td>1995-06-30</td><td>&quot;USSLOWL_AIRLINES&quot;</td><td>0.01638</td></tr><tr><td>1995-06-30</td><td>&quot;USSLOWL_ALUMSTEL&quot;</td><td>0.011518</td></tr><tr><td>1995-06-30</td><td>&quot;USSLOWL_APPAREL&quot;</td><td>0.002881</td></tr><tr><td>1995-06-30</td><td>&quot;USSLOWL_AUTO&quot;</td><td>-0.000394</td></tr><tr><td>&hellip;</td><td>&hellip;</td><td>&hellip;</td></tr><tr><td>2025-03-06</td><td>&quot;USSLOWL_TELECOM&quot;</td><td>0.0208823</td></tr><tr><td>2025-03-06</td><td>&quot;USSLOWL_TRADECO&quot;</td><td>0.016202</td></tr><tr><td>2025-03-06</td><td>&quot;USSLOWL_TRANSPRT&quot;</td><td>0.00125</td></tr><tr><td>2025-03-06</td><td>&quot;USSLOWL_VALUE&quot;</td><td>-0.000411</td></tr><tr><td>2025-03-06</td><td>&quot;USSLOWL_WIRELESS&quot;</td><td>0.012675</td></tr></tbody></table></div>"
      ],
      "text/plain": [
       "shape: (574_698, 3)\n",
       "┌────────────┬──────────────────┬───────────┐\n",
       "│ date       ┆ factor           ┆ return    │\n",
       "│ ---        ┆ ---              ┆ ---       │\n",
       "│ date       ┆ str              ┆ f64       │\n",
       "╞════════════╪══════════════════╪═══════════╡\n",
       "│ 1995-06-30 ┆ USSLOWL_AERODEF  ┆ 0.000148  │\n",
       "│ 1995-06-30 ┆ USSLOWL_AIRLINES ┆ 0.01638   │\n",
       "│ 1995-06-30 ┆ USSLOWL_ALUMSTEL ┆ 0.011518  │\n",
       "│ 1995-06-30 ┆ USSLOWL_APPAREL  ┆ 0.002881  │\n",
       "│ 1995-06-30 ┆ USSLOWL_AUTO     ┆ -0.000394 │\n",
       "│ …          ┆ …                ┆ …         │\n",
       "│ 2025-03-06 ┆ USSLOWL_TELECOM  ┆ 0.0208823 │\n",
       "│ 2025-03-06 ┆ USSLOWL_TRADECO  ┆ 0.016202  │\n",
       "│ 2025-03-06 ┆ USSLOWL_TRANSPRT ┆ 0.00125   │\n",
       "│ 2025-03-06 ┆ USSLOWL_VALUE    ┆ -0.000411 │\n",
       "│ 2025-03-06 ┆ USSLOWL_WIRELESS ┆ 0.012675  │\n",
       "└────────────┴──────────────────┴───────────┘"
      ]
     },
     "metadata": {},
     "output_type": "display_data"
    }
   ],
   "source": [
    "with Database() as db:\n",
    "    display(db.execute(\"SELECT * FROM factors ORDER BY date, factor;\").pl())"
   ]
  },
  {
   "cell_type": "code",
   "execution_count": 4,
   "metadata": {},
   "outputs": [
    {
     "data": {
      "text/html": [
       "<div><style>\n",
       ".dataframe > thead > tr,\n",
       ".dataframe > tbody > tr {\n",
       "  text-align: right;\n",
       "  white-space: pre-wrap;\n",
       "}\n",
       "</style>\n",
       "<small>shape: (7_470, 77)</small><table border=\"1\" class=\"dataframe\"><thead><tr><th>date</th><th>USSLOWL_BETA</th><th>USSLOWL_COUNTRY</th><th>USSLOWL_DIVYILD</th><th>USSLOWL_EARNQLTY</th><th>USSLOWL_EARNYILD</th><th>USSLOWL_GROWTH</th><th>USSLOWL_LEVERAGE</th><th>USSLOWL_LIQUIDTY</th><th>USSLOWL_LTREVRSL</th><th>USSLOWL_MGMTQLTY</th><th>USSLOWL_MIDCAP</th><th>USSLOWL_MOMENTUM</th><th>USSLOWL_PROFIT</th><th>USSLOWL_PROSPECT</th><th>USSLOWL_SIZE</th><th>USSLOWL_VALUE</th><th>USSLOWL_AERODEF</th><th>USSLOWL_AIRLINES</th><th>USSLOWL_ALUMSTEL</th><th>USSLOWL_APPAREL</th><th>USSLOWL_AUTO</th><th>USSLOWL_BANKS</th><th>USSLOWL_BEVTOB</th><th>USSLOWL_BIOLIFE</th><th>USSLOWL_BLDGPROD</th><th>USSLOWL_CHEM</th><th>USSLOWL_CNSTENG</th><th>USSLOWL_CNSTMACH</th><th>USSLOWL_CNSTMATL</th><th>USSLOWL_COMMEQP</th><th>USSLOWL_COMPELEC</th><th>USSLOWL_COMSVCS</th><th>USSLOWL_CONGLOM</th><th>USSLOWL_CONTAINR</th><th>USSLOWL_DISTRIB</th><th>USSLOWL_DIVFIN</th><th>&hellip;</th><th>USSLOWL_FOODRET</th><th>USSLOWL_GASUTIL</th><th>USSLOWL_HLTHEQP</th><th>USSLOWL_HLTHSVCS</th><th>USSLOWL_HOMEBLDG</th><th>USSLOWL_HOUSEDUR</th><th>USSLOWL_INDMACH</th><th>USSLOWL_INSURNCE</th><th>USSLOWL_INTERNET</th><th>USSLOWL_LEISPROD</th><th>USSLOWL_LEISSVCS</th><th>USSLOWL_LIFEINS</th><th>USSLOWL_MEDIA</th><th>USSLOWL_MGDHLTH</th><th>USSLOWL_MULTUTIL</th><th>USSLOWL_OILGSCON</th><th>USSLOWL_OILGSDRL</th><th>USSLOWL_OILGSEQP</th><th>USSLOWL_OILGSEXP</th><th>USSLOWL_PAPER</th><th>USSLOWL_PHARMA</th><th>USSLOWL_PRECMTLS</th><th>USSLOWL_PSNLPROD</th><th>USSLOWL_REALEST</th><th>USSLOWL_RESTAUR</th><th>USSLOWL_RESVOL</th><th>USSLOWL_ROADRAIL</th><th>USSLOWL_SEMICOND</th><th>USSLOWL_SEMIEQP</th><th>USSLOWL_SOFTWARE</th><th>USSLOWL_SPLTYRET</th><th>USSLOWL_SPTYCHEM</th><th>USSLOWL_SPTYSTOR</th><th>USSLOWL_TELECOM</th><th>USSLOWL_TRADECO</th><th>USSLOWL_TRANSPRT</th><th>USSLOWL_WIRELESS</th></tr><tr><td>date</td><td>f64</td><td>f64</td><td>f64</td><td>f64</td><td>f64</td><td>f64</td><td>f64</td><td>f64</td><td>f64</td><td>f64</td><td>f64</td><td>f64</td><td>f64</td><td>f64</td><td>f64</td><td>f64</td><td>f64</td><td>f64</td><td>f64</td><td>f64</td><td>f64</td><td>f64</td><td>f64</td><td>f64</td><td>f64</td><td>f64</td><td>f64</td><td>f64</td><td>f64</td><td>f64</td><td>f64</td><td>f64</td><td>f64</td><td>f64</td><td>f64</td><td>f64</td><td>&hellip;</td><td>f64</td><td>f64</td><td>f64</td><td>f64</td><td>f64</td><td>f64</td><td>f64</td><td>f64</td><td>f64</td><td>f64</td><td>f64</td><td>f64</td><td>f64</td><td>f64</td><td>f64</td><td>f64</td><td>f64</td><td>f64</td><td>f64</td><td>f64</td><td>f64</td><td>f64</td><td>f64</td><td>f64</td><td>f64</td><td>f64</td><td>f64</td><td>f64</td><td>f64</td><td>f64</td><td>f64</td><td>f64</td><td>f64</td><td>f64</td><td>f64</td><td>f64</td><td>f64</td></tr></thead><tbody><tr><td>1995-06-30</td><td>0.001561</td><td>0.002391</td><td>-0.000111</td><td>-0.001143</td><td>0.001047</td><td>0.000158</td><td>-0.001521</td><td>-0.001092</td><td>-0.000133</td><td>0.000511</td><td>0.001629</td><td>0.000509</td><td>-0.001739</td><td>0.00018</td><td>-0.002761</td><td>-0.000752</td><td>0.000148</td><td>0.01638</td><td>0.011518</td><td>0.002881</td><td>-0.000394</td><td>-0.006071</td><td>0.003202</td><td>0.003599</td><td>0.000959</td><td>0.00103</td><td>0.01676</td><td>0.006751</td><td>0.002864</td><td>0.000951</td><td>-0.000992</td><td>0.004885</td><td>0.006313</td><td>-0.002957</td><td>0.011079</td><td>-0.004603</td><td>&hellip;</td><td>-0.00081</td><td>-0.000101</td><td>0.001484</td><td>0.004634</td><td>0.001529</td><td>0.00952</td><td>0.005296</td><td>-0.006373</td><td>-0.001168</td><td>0.004104</td><td>0.000092</td><td>-0.006194</td><td>0.004194</td><td>-0.000214</td><td>-0.00267</td><td>-0.006427</td><td>-0.001353</td><td>-0.00814</td><td>-0.001717</td><td>0.012288</td><td>-0.003253</td><td>-0.017056</td><td>-0.003212</td><td>0.004951</td><td>-0.002673</td><td>0.000732</td><td>0.008282</td><td>-0.012696</td><td>-0.001164</td><td>-0.001577</td><td>0.003657</td><td>-0.001033</td><td>0.008131</td><td>0.003418</td><td>0.000154</td><td>0.000457</td><td>0.007565</td></tr><tr><td>1995-07-03</td><td>0.000089</td><td>0.003053</td><td>0.000245</td><td>-0.000241</td><td>0.000078</td><td>-0.000233</td><td>-0.000011</td><td>0.000345</td><td>-0.000387</td><td>0.000382</td><td>-0.001348</td><td>0.000186</td><td>0.000121</td><td>0.000044</td><td>0.000553</td><td>-0.000595</td><td>-0.005342</td><td>0.001715</td><td>0.016423</td><td>0.003749</td><td>0.002991</td><td>0.000164</td><td>-0.000368</td><td>-0.007351</td><td>-0.003573</td><td>-0.00041</td><td>-0.001686</td><td>0.000774</td><td>-0.004636</td><td>0.003353</td><td>0.003286</td><td>0.001693</td><td>-0.001677</td><td>0.00586</td><td>-0.003775</td><td>-0.000127</td><td>&hellip;</td><td>-0.002144</td><td>0.000127</td><td>-0.001064</td><td>0.003074</td><td>-0.007797</td><td>0.002571</td><td>-0.000042</td><td>-0.003008</td><td>0.000264</td><td>0.004425</td><td>-0.001245</td><td>0.002304</td><td>-0.001094</td><td>0.010634</td><td>-0.000296</td><td>0.003236</td><td>-0.008023</td><td>-0.001949</td><td>-0.00524</td><td>0.002184</td><td>-0.000182</td><td>0.000831</td><td>-0.0012</td><td>-0.001202</td><td>-0.003406</td><td>0.000846</td><td>-0.000138</td><td>-0.003535</td><td>-0.007386</td><td>-0.00341</td><td>0.00315</td><td>-0.003119</td><td>0.002998</td><td>0.000568</td><td>0.002709</td><td>-0.001949</td><td>0.000633</td></tr><tr><td>1995-07-05</td><td>0.002074</td><td>0.001546</td><td>-0.000567</td><td>-0.000175</td><td>0.000684</td><td>-0.000317</td><td>0.000955</td><td>0.001143</td><td>-0.00159</td><td>-0.00045</td><td>0.000674</td><td>0.001383</td><td>-0.001668</td><td>0.000101</td><td>-0.001777</td><td>0.000222</td><td>-0.000353</td><td>0.019143</td><td>0.02883</td><td>0.010066</td><td>0.006364</td><td>-0.004594</td><td>-0.005646</td><td>0.004604</td><td>0.005284</td><td>0.009939</td><td>-0.002727</td><td>0.018447</td><td>-0.004074</td><td>0.003096</td><td>0.004514</td><td>-0.000077</td><td>0.011716</td><td>-0.006006</td><td>0.005592</td><td>-0.003743</td><td>&hellip;</td><td>0.00827</td><td>-0.009164</td><td>-0.001478</td><td>-0.002187</td><td>-0.00863</td><td>0.000587</td><td>0.006424</td><td>-0.001046</td><td>0.011676</td><td>0.000791</td><td>-0.004699</td><td>-0.005177</td><td>-0.00024</td><td>-0.008571</td><td>-0.001788</td><td>-0.00724</td><td>-0.00127</td><td>-0.006295</td><td>-0.009669</td><td>0.011728</td><td>-0.00407</td><td>0.012252</td><td>0.002838</td><td>-0.002685</td><td>0.008095</td><td>0.001207</td><td>0.004173</td><td>-0.006522</td><td>0.01328</td><td>-0.000352</td><td>0.010819</td><td>0.00285</td><td>0.00198</td><td>-0.003579</td><td>0.005781</td><td>0.003474</td><td>0.021098</td></tr><tr><td>1995-07-06</td><td>0.002513</td><td>0.011325</td><td>-0.000337</td><td>-0.000736</td><td>-0.000194</td><td>0.000978</td><td>0.001209</td><td>0.000092</td><td>-0.001845</td><td>0.000933</td><td>0.000031</td><td>0.000601</td><td>0.000279</td><td>0.000528</td><td>0.001494</td><td>0.000203</td><td>-0.001346</td><td>-0.000233</td><td>-0.001499</td><td>-0.021365</td><td>0.008116</td><td>-0.001606</td><td>0.001265</td><td>0.000839</td><td>0.00668</td><td>0.001738</td><td>0.003364</td><td>0.010105</td><td>0.006848</td><td>0.001522</td><td>0.003423</td><td>-0.000212</td><td>0.003993</td><td>0.006944</td><td>-0.005317</td><td>-0.002697</td><td>&hellip;</td><td>0.003142</td><td>-0.005876</td><td>-0.00158</td><td>-0.008381</td><td>0.050161</td><td>0.001798</td><td>0.003085</td><td>-0.000173</td><td>0.002698</td><td>-0.002678</td><td>-0.003664</td><td>-0.000886</td><td>-0.001666</td><td>-0.017436</td><td>0.00103</td><td>0.001486</td><td>-0.00609</td><td>-0.001388</td><td>-0.003006</td><td>-0.002223</td><td>-0.007166</td><td>0.026613</td><td>-0.014242</td><td>0.001506</td><td>-0.012678</td><td>-0.000909</td><td>-0.001344</td><td>0.012209</td><td>0.020481</td><td>0.002732</td><td>0.011479</td><td>0.000873</td><td>-0.007274</td><td>0.008178</td><td>-0.002192</td><td>0.011022</td><td>0.001505</td></tr><tr><td>1995-07-07</td><td>0.003138</td><td>0.006104</td><td>-0.000207</td><td>-0.000777</td><td>-0.000055</td><td>-0.000283</td><td>0.000313</td><td>0.002068</td><td>-0.001304</td><td>0.000578</td><td>0.001948</td><td>0.001245</td><td>-0.001208</td><td>0.000394</td><td>-0.002841</td><td>-0.000434</td><td>0.00265</td><td>-0.00446</td><td>0.035416</td><td>-0.004258</td><td>0.013312</td><td>-0.001642</td><td>-0.012899</td><td>-0.011572</td><td>0.003981</td><td>0.019815</td><td>0.020792</td><td>0.020405</td><td>0.004802</td><td>0.008638</td><td>0.007004</td><td>0.005572</td><td>0.013994</td><td>0.003252</td><td>-0.004711</td><td>0.005101</td><td>&hellip;</td><td>-0.006513</td><td>-0.0055</td><td>-0.011593</td><td>-0.009297</td><td>-0.00752</td><td>0.00532</td><td>0.009562</td><td>0.001127</td><td>-0.003521</td><td>-0.001427</td><td>-0.003411</td><td>-0.009865</td><td>-0.002302</td><td>-0.024215</td><td>-0.004954</td><td>0.001178</td><td>-0.020638</td><td>0.007834</td><td>-0.00167</td><td>0.0111183</td><td>-0.023175</td><td>0.01514</td><td>-0.01585</td><td>-0.000221</td><td>0.000113</td><td>0.001758</td><td>0.030243</td><td>0.018266</td><td>0.020549</td><td>0.005968</td><td>0.008781</td><td>0.012524</td><td>0.012002</td><td>0.000916</td><td>0.008576</td><td>0.001674</td><td>0.005019</td></tr><tr><td>&hellip;</td><td>&hellip;</td><td>&hellip;</td><td>&hellip;</td><td>&hellip;</td><td>&hellip;</td><td>&hellip;</td><td>&hellip;</td><td>&hellip;</td><td>&hellip;</td><td>&hellip;</td><td>&hellip;</td><td>&hellip;</td><td>&hellip;</td><td>&hellip;</td><td>&hellip;</td><td>&hellip;</td><td>&hellip;</td><td>&hellip;</td><td>&hellip;</td><td>&hellip;</td><td>&hellip;</td><td>&hellip;</td><td>&hellip;</td><td>&hellip;</td><td>&hellip;</td><td>&hellip;</td><td>&hellip;</td><td>&hellip;</td><td>&hellip;</td><td>&hellip;</td><td>&hellip;</td><td>&hellip;</td><td>&hellip;</td><td>&hellip;</td><td>&hellip;</td><td>&hellip;</td><td>&hellip;</td><td>&hellip;</td><td>&hellip;</td><td>&hellip;</td><td>&hellip;</td><td>&hellip;</td><td>&hellip;</td><td>&hellip;</td><td>&hellip;</td><td>&hellip;</td><td>&hellip;</td><td>&hellip;</td><td>&hellip;</td><td>&hellip;</td><td>&hellip;</td><td>&hellip;</td><td>&hellip;</td><td>&hellip;</td><td>&hellip;</td><td>&hellip;</td><td>&hellip;</td><td>&hellip;</td><td>&hellip;</td><td>&hellip;</td><td>&hellip;</td><td>&hellip;</td><td>&hellip;</td><td>&hellip;</td><td>&hellip;</td><td>&hellip;</td><td>&hellip;</td><td>&hellip;</td><td>&hellip;</td><td>&hellip;</td><td>&hellip;</td><td>&hellip;</td><td>&hellip;</td><td>&hellip;</td></tr><tr><td>2025-02-28</td><td>-0.001658</td><td>0.014364</td><td>0.000719</td><td>-0.001404</td><td>-0.003617</td><td>-0.000366</td><td>0.0013487</td><td>0.000111</td><td>-0.000992</td><td>-0.000116</td><td>0.001001</td><td>0.007529</td><td>-0.000372</td><td>0.000399</td><td>0.001443</td><td>0.000285</td><td>0.000465</td><td>-0.009462</td><td>-0.00324</td><td>-0.000003</td><td>0.010272</td><td>0.000964</td><td>-0.001301</td><td>0.004909</td><td>-0.000134</td><td>0.000572</td><td>0.007518</td><td>-0.006651</td><td>-0.006891</td><td>-0.005151</td><td>-0.007362</td><td>-0.005055</td><td>0.004834</td><td>-0.000424</td><td>-0.002263</td><td>0.003855</td><td>&hellip;</td><td>0.001333</td><td>0.00121</td><td>-0.006458</td><td>-0.017033</td><td>-0.001173</td><td>0.000574</td><td>0.002845</td><td>0.001884</td><td>-0.006672</td><td>-0.01146</td><td>-0.003256</td><td>0.007096</td><td>0.00226</td><td>0.014366</td><td>0.004323</td><td>0.008222</td><td>-0.010586</td><td>-0.001236</td><td>0.000209</td><td>-0.008474</td><td>0.004369</td><td>-0.000968</td><td>0.000417</td><td>-0.004207</td><td>0.000575</td><td>-0.001231</td><td>0.005317</td><td>0.012672</td><td>0.00134</td><td>-0.002166</td><td>-0.001832</td><td>-0.001611</td><td>0.005639</td><td>-0.006668</td><td>-0.003787</td><td>0.002316</td><td>0.00019</td></tr><tr><td>2025-03-03</td><td>-0.012831</td><td>-0.015728</td><td>0.00016</td><td>0.002255</td><td>0.001476</td><td>-0.000249</td><td>-0.00151</td><td>-0.001919</td><td>0.00145</td><td>0.001512</td><td>0.000764</td><td>0.001729</td><td>0.000588</td><td>-0.000481</td><td>0.002719</td><td>-0.000973</td><td>0.003941</td><td>-0.005295</td><td>0.001085</td><td>-0.010054</td><td>0.007878</td><td>0.008443</td><td>0.011206</td><td>-0.003301</td><td>-0.001441</td><td>-0.025118</td><td>-0.000173</td><td>-0.023379</td><td>-0.010473</td><td>-0.015102</td><td>-0.01106</td><td>-0.000104</td><td>-0.002387</td><td>-0.009</td><td>0.000215</td><td>-0.001715</td><td>&hellip;</td><td>-0.009544</td><td>0.0200719</td><td>0.007545</td><td>0.005949</td><td>0.003153</td><td>-0.001176</td><td>-0.011739</td><td>0.010324</td><td>0.001793</td><td>0.001614</td><td>0.006006</td><td>0.007985</td><td>0.001381</td><td>-0.005723</td><td>0.006925</td><td>-0.014152</td><td>-0.047138</td><td>-0.03096</td><td>-0.034241</td><td>0.002921</td><td>0.003013</td><td>0.00683</td><td>-0.003343</td><td>0.010405</td><td>-0.003225</td><td>-0.004941</td><td>-0.000186</td><td>0.005814</td><td>0.006335</td><td>0.005693</td><td>-0.007044</td><td>-0.007447</td><td>-0.004645</td><td>0.01204</td><td>-0.007049</td><td>-0.002862</td><td>0.004241</td></tr><tr><td>2025-03-04</td><td>0.000789</td><td>-0.013539</td><td>0.000061</td><td>-0.001085</td><td>-0.000994</td><td>0.000029</td><td>-0.003343</td><td>0.001153</td><td>-0.001994</td><td>-0.000666</td><td>-0.00062</td><td>-0.002626</td><td>0.001266</td><td>-0.000544</td><td>-0.002831</td><td>-0.001917</td><td>-0.006304</td><td>-0.036533</td><td>-0.018012</td><td>-0.008539</td><td>-0.021301</td><td>-0.020365</td><td>-0.007821</td><td>0.002317</td><td>-0.006363</td><td>0.005751</td><td>-0.010614</td><td>-0.005913</td><td>-0.009762</td><td>0.004709</td><td>-0.002327</td><td>0.004893</td><td>-0.00881</td><td>-0.016862</td><td>0.005857</td><td>-0.019406</td><td>&hellip;</td><td>-0.000092</td><td>-0.003745</td><td>-0.001779</td><td>0.007213</td><td>0.014645</td><td>-0.017702</td><td>-0.007732</td><td>-0.001821</td><td>0.013681</td><td>-0.015217</td><td>-0.004894</td><td>-0.025241</td><td>0.005367</td><td>0.014755</td><td>0.010592</td><td>0.003217</td><td>0.0171084</td><td>-0.017032</td><td>0.004274</td><td>-0.019647</td><td>0.002295</td><td>0.001311</td><td>-0.001218</td><td>0.003818</td><td>0.001513</td><td>0.004635</td><td>0.001704</td><td>0.011645</td><td>0.022548</td><td>0.006691</td><td>-0.009374</td><td>0.002576</td><td>-0.015853</td><td>-0.002699</td><td>-0.01104</td><td>-0.018463</td><td>-0.005284</td></tr><tr><td>2025-03-05</td><td>0.006524</td><td>0.011055</td><td>-0.000852</td><td>-0.000653</td><td>0.001908</td><td>-0.001603</td><td>-0.000556</td><td>-0.001382</td><td>0.002102</td><td>-0.00143</td><td>0.001263</td><td>-0.003899</td><td>-0.002716</td><td>-0.001457</td><td>0.001421</td><td>-0.000023</td><td>0.0140697</td><td>0.022326</td><td>0.006271</td><td>-0.004071</td><td>0.007872</td><td>-0.020083</td><td>-0.001346</td><td>0.005393</td><td>0.013138</td><td>0.02043</td><td>0.003265</td><td>0.011341</td><td>0.027122</td><td>0.004322</td><td>-0.004277</td><td>-0.002965</td><td>-0.003729</td><td>0.01201</td><td>0.001827</td><td>0.001898</td><td>&hellip;</td><td>0.002318</td><td>-0.005952</td><td>-0.003073</td><td>0.005102</td><td>0.013468</td><td>0.008367</td><td>0.009426</td><td>-0.000661</td><td>0.004843</td><td>0.00611</td><td>0.000437</td><td>0.008823</td><td>-0.002677</td><td>-0.000172</td><td>-0.010659</td><td>-0.025024</td><td>-0.019689</td><td>-0.015548</td><td>-0.024426</td><td>0.009292</td><td>0.000944</td><td>0.044178</td><td>0.006379</td><td>0.002325</td><td>-0.004851</td><td>0.002906</td><td>-0.005578</td><td>-0.008029</td><td>0.002795</td><td>0.004346</td><td>-0.000817</td><td>0.016722</td><td>0.012112</td><td>0.009955</td><td>0.008575</td><td>0.004843</td><td>-0.004767</td></tr><tr><td>2025-03-06</td><td>-0.010728</td><td>-0.022331</td><td>0.00178</td><td>-0.002595</td><td>0.005113</td><td>-0.003108</td><td>-0.003289</td><td>-0.002789</td><td>-0.00106</td><td>0.001013</td><td>-0.002259</td><td>-0.011866</td><td>-0.000522</td><td>-0.000199</td><td>-0.00215</td><td>-0.000411</td><td>0.000244</td><td>0.000005</td><td>-0.001858</td><td>0.015924</td><td>0.01269</td><td>-0.003633</td><td>0.000539</td><td>0.013542</td><td>0.015332</td><td>0.003909</td><td>-0.002795</td><td>0.033639</td><td>0.004094</td><td>0.002896</td><td>-0.003219</td><td>-0.00558</td><td>0.012689</td><td>0.008398</td><td>0.008459</td><td>-0.002402</td><td>&hellip;</td><td>0.009648</td><td>-0.015323</td><td>-0.002328</td><td>0.004447</td><td>0.024084</td><td>0.002479</td><td>0.009792</td><td>-0.006897</td><td>-0.003319</td><td>0.00784</td><td>-0.009688</td><td>-0.013413</td><td>-0.000649</td><td>0.024593</td><td>-0.011682</td><td>0.011147</td><td>0.010379</td><td>-0.001008</td><td>-0.014185</td><td>-0.011621</td><td>0.0027</td><td>0.005673</td><td>-0.003333</td><td>-0.020184</td><td>0.002088</td><td>-0.004386</td><td>0.011106</td><td>-0.005501</td><td>0.002732</td><td>-0.000784</td><td>0.009621</td><td>0.011034</td><td>0.014051</td><td>0.0208823</td><td>0.016202</td><td>0.00125</td><td>0.012675</td></tr></tbody></table></div>"
      ],
      "text/plain": [
       "shape: (7_470, 77)\n",
       "┌───────────┬───────────┬───────────┬───────────┬───┬───────────┬───────────┬───────────┬──────────┐\n",
       "│ date      ┆ USSLOWL_B ┆ USSLOWL_C ┆ USSLOWL_D ┆ … ┆ USSLOWL_T ┆ USSLOWL_T ┆ USSLOWL_T ┆ USSLOWL_ │\n",
       "│ ---       ┆ ETA       ┆ OUNTRY    ┆ IVYILD    ┆   ┆ ELECOM    ┆ RADECO    ┆ RANSPRT   ┆ WIRELESS │\n",
       "│ date      ┆ ---       ┆ ---       ┆ ---       ┆   ┆ ---       ┆ ---       ┆ ---       ┆ ---      │\n",
       "│           ┆ f64       ┆ f64       ┆ f64       ┆   ┆ f64       ┆ f64       ┆ f64       ┆ f64      │\n",
       "╞═══════════╪═══════════╪═══════════╪═══════════╪═══╪═══════════╪═══════════╪═══════════╪══════════╡\n",
       "│ 1995-06-3 ┆ 0.001561  ┆ 0.002391  ┆ -0.000111 ┆ … ┆ 0.003418  ┆ 0.000154  ┆ 0.000457  ┆ 0.007565 │\n",
       "│ 0         ┆           ┆           ┆           ┆   ┆           ┆           ┆           ┆          │\n",
       "│ 1995-07-0 ┆ 0.000089  ┆ 0.003053  ┆ 0.000245  ┆ … ┆ 0.000568  ┆ 0.002709  ┆ -0.001949 ┆ 0.000633 │\n",
       "│ 3         ┆           ┆           ┆           ┆   ┆           ┆           ┆           ┆          │\n",
       "│ 1995-07-0 ┆ 0.002074  ┆ 0.001546  ┆ -0.000567 ┆ … ┆ -0.003579 ┆ 0.005781  ┆ 0.003474  ┆ 0.021098 │\n",
       "│ 5         ┆           ┆           ┆           ┆   ┆           ┆           ┆           ┆          │\n",
       "│ 1995-07-0 ┆ 0.002513  ┆ 0.011325  ┆ -0.000337 ┆ … ┆ 0.008178  ┆ -0.002192 ┆ 0.011022  ┆ 0.001505 │\n",
       "│ 6         ┆           ┆           ┆           ┆   ┆           ┆           ┆           ┆          │\n",
       "│ 1995-07-0 ┆ 0.003138  ┆ 0.006104  ┆ -0.000207 ┆ … ┆ 0.000916  ┆ 0.008576  ┆ 0.001674  ┆ 0.005019 │\n",
       "│ 7         ┆           ┆           ┆           ┆   ┆           ┆           ┆           ┆          │\n",
       "│ …         ┆ …         ┆ …         ┆ …         ┆ … ┆ …         ┆ …         ┆ …         ┆ …        │\n",
       "│ 2025-02-2 ┆ -0.001658 ┆ 0.014364  ┆ 0.000719  ┆ … ┆ -0.006668 ┆ -0.003787 ┆ 0.002316  ┆ 0.00019  │\n",
       "│ 8         ┆           ┆           ┆           ┆   ┆           ┆           ┆           ┆          │\n",
       "│ 2025-03-0 ┆ -0.012831 ┆ -0.015728 ┆ 0.00016   ┆ … ┆ 0.01204   ┆ -0.007049 ┆ -0.002862 ┆ 0.004241 │\n",
       "│ 3         ┆           ┆           ┆           ┆   ┆           ┆           ┆           ┆          │\n",
       "│ 2025-03-0 ┆ 0.000789  ┆ -0.013539 ┆ 0.000061  ┆ … ┆ -0.002699 ┆ -0.01104  ┆ -0.018463 ┆ -0.00528 │\n",
       "│ 4         ┆           ┆           ┆           ┆   ┆           ┆           ┆           ┆ 4        │\n",
       "│ 2025-03-0 ┆ 0.006524  ┆ 0.011055  ┆ -0.000852 ┆ … ┆ 0.009955  ┆ 0.008575  ┆ 0.004843  ┆ -0.00476 │\n",
       "│ 5         ┆           ┆           ┆           ┆   ┆           ┆           ┆           ┆ 7        │\n",
       "│ 2025-03-0 ┆ -0.010728 ┆ -0.022331 ┆ 0.00178   ┆ … ┆ 0.0208823 ┆ 0.016202  ┆ 0.00125   ┆ 0.012675 │\n",
       "│ 6         ┆           ┆           ┆           ┆   ┆           ┆           ┆           ┆          │\n",
       "└───────────┴───────────┴───────────┴───────────┴───┴───────────┴───────────┴───────────┴──────────┘"
      ]
     },
     "metadata": {},
     "output_type": "display_data"
    }
   ],
   "source": [
    "with Database() as db:\n",
    "    display(db.execute(\"SELECT * FROM factors_wide ORDER BY date;\").pl())"
   ]
  },
  {
   "cell_type": "code",
   "execution_count": 5,
   "metadata": {},
   "outputs": [
    {
     "data": {
      "text/html": [
       "<div><style>\n",
       ".dataframe > thead > tr,\n",
       ".dataframe > tbody > tr {\n",
       "  text-align: right;\n",
       "  white-space: pre-wrap;\n",
       "}\n",
       "</style>\n",
       "<small>shape: (2_366_595, 4)</small><table border=\"1\" class=\"dataframe\"><thead><tr><th>date</th><th>factor1</th><th>factor2</th><th>covariance</th></tr><tr><td>date</td><td>str</td><td>str</td><td>f64</td></tr></thead><tbody><tr><td>2014-01-02</td><td>&quot;USSLOWL_AERODEF&quot;</td><td>&quot;USSLOWL_AERODEF&quot;</td><td>96.155423</td></tr><tr><td>2014-01-02</td><td>&quot;USSLOWL_AERODEF&quot;</td><td>&quot;USSLOWL_AIRLINES&quot;</td><td>47.22258</td></tr><tr><td>2014-01-02</td><td>&quot;USSLOWL_AERODEF&quot;</td><td>&quot;USSLOWL_APPAREL&quot;</td><td>1.05331</td></tr><tr><td>2014-01-02</td><td>&quot;USSLOWL_AERODEF&quot;</td><td>&quot;USSLOWL_AUTO&quot;</td><td>13.755034</td></tr><tr><td>2014-01-02</td><td>&quot;USSLOWL_AERODEF&quot;</td><td>&quot;USSLOWL_BANKS&quot;</td><td>-2.169609</td></tr><tr><td>&hellip;</td><td>&hellip;</td><td>&hellip;</td><td>&hellip;</td></tr><tr><td>2025-03-07</td><td>&quot;USSLOWL_WIRELESS&quot;</td><td>&quot;USSLOWL_COUNTRY&quot;</td><td>-34.464621</td></tr><tr><td>2025-03-07</td><td>&quot;USSLOWL_WIRELESS&quot;</td><td>&quot;USSLOWL_ELECUTIL&quot;</td><td>9.489213</td></tr><tr><td>2025-03-07</td><td>&quot;USSLOWL_WIRELESS&quot;</td><td>&quot;USSLOWL_GASUTIL&quot;</td><td>21.604725</td></tr><tr><td>2025-03-07</td><td>&quot;USSLOWL_WIRELESS&quot;</td><td>&quot;USSLOWL_MULTUTIL&quot;</td><td>18.821844</td></tr><tr><td>2025-03-07</td><td>&quot;USSLOWL_WIRELESS&quot;</td><td>&quot;USSLOWL_WIRELESS&quot;</td><td>141.517728</td></tr></tbody></table></div>"
      ],
      "text/plain": [
       "shape: (2_366_595, 4)\n",
       "┌────────────┬──────────────────┬──────────────────┬────────────┐\n",
       "│ date       ┆ factor1          ┆ factor2          ┆ covariance │\n",
       "│ ---        ┆ ---              ┆ ---              ┆ ---        │\n",
       "│ date       ┆ str              ┆ str              ┆ f64        │\n",
       "╞════════════╪══════════════════╪══════════════════╪════════════╡\n",
       "│ 2014-01-02 ┆ USSLOWL_AERODEF  ┆ USSLOWL_AERODEF  ┆ 96.155423  │\n",
       "│ 2014-01-02 ┆ USSLOWL_AERODEF  ┆ USSLOWL_AIRLINES ┆ 47.22258   │\n",
       "│ 2014-01-02 ┆ USSLOWL_AERODEF  ┆ USSLOWL_APPAREL  ┆ 1.05331    │\n",
       "│ 2014-01-02 ┆ USSLOWL_AERODEF  ┆ USSLOWL_AUTO     ┆ 13.755034  │\n",
       "│ 2014-01-02 ┆ USSLOWL_AERODEF  ┆ USSLOWL_BANKS    ┆ -2.169609  │\n",
       "│ …          ┆ …                ┆ …                ┆ …          │\n",
       "│ 2025-03-07 ┆ USSLOWL_WIRELESS ┆ USSLOWL_COUNTRY  ┆ -34.464621 │\n",
       "│ 2025-03-07 ┆ USSLOWL_WIRELESS ┆ USSLOWL_ELECUTIL ┆ 9.489213   │\n",
       "│ 2025-03-07 ┆ USSLOWL_WIRELESS ┆ USSLOWL_GASUTIL  ┆ 21.604725  │\n",
       "│ 2025-03-07 ┆ USSLOWL_WIRELESS ┆ USSLOWL_MULTUTIL ┆ 18.821844  │\n",
       "│ 2025-03-07 ┆ USSLOWL_WIRELESS ┆ USSLOWL_WIRELESS ┆ 141.517728 │\n",
       "└────────────┴──────────────────┴──────────────────┴────────────┘"
      ]
     },
     "metadata": {},
     "output_type": "display_data"
    }
   ],
   "source": [
    "with Database() as db:\n",
    "    display(db.execute(\"SELECT * FROM covariances ORDER BY date, factor1, factor2;\").pl())"
   ]
  },
  {
   "cell_type": "code",
   "execution_count": 6,
   "metadata": {},
   "outputs": [
    {
     "data": {
      "text/html": [
       "<div><style>\n",
       ".dataframe > thead > tr,\n",
       ".dataframe > tbody > tr {\n",
       "  text-align: right;\n",
       "  white-space: pre-wrap;\n",
       "}\n",
       "</style>\n",
       "<small>shape: (60_793, 78)</small><table border=\"1\" class=\"dataframe\"><thead><tr><th>date</th><th>factor1</th><th>USSLOWL_BETA</th><th>USSLOWL_COUNTRY</th><th>USSLOWL_DIVYILD</th><th>USSLOWL_EARNQLTY</th><th>USSLOWL_EARNYILD</th><th>USSLOWL_GROWTH</th><th>USSLOWL_LEVERAGE</th><th>USSLOWL_LIQUIDTY</th><th>USSLOWL_LTREVRSL</th><th>USSLOWL_MGMTQLTY</th><th>USSLOWL_MIDCAP</th><th>USSLOWL_MOMENTUM</th><th>USSLOWL_PROFIT</th><th>USSLOWL_PROSPECT</th><th>USSLOWL_SIZE</th><th>USSLOWL_VALUE</th><th>USSLOWL_AERODEF</th><th>USSLOWL_AIRLINES</th><th>USSLOWL_ALUMSTEL</th><th>USSLOWL_APPAREL</th><th>USSLOWL_AUTO</th><th>USSLOWL_BANKS</th><th>USSLOWL_BEVTOB</th><th>USSLOWL_BIOLIFE</th><th>USSLOWL_BLDGPROD</th><th>USSLOWL_CHEM</th><th>USSLOWL_CNSTENG</th><th>USSLOWL_CNSTMACH</th><th>USSLOWL_CNSTMATL</th><th>USSLOWL_COMMEQP</th><th>USSLOWL_COMPELEC</th><th>USSLOWL_COMSVCS</th><th>USSLOWL_CONGLOM</th><th>USSLOWL_CONTAINR</th><th>USSLOWL_DISTRIB</th><th>&hellip;</th><th>USSLOWL_FOODRET</th><th>USSLOWL_GASUTIL</th><th>USSLOWL_HLTHEQP</th><th>USSLOWL_HLTHSVCS</th><th>USSLOWL_HOMEBLDG</th><th>USSLOWL_HOUSEDUR</th><th>USSLOWL_INDMACH</th><th>USSLOWL_INSURNCE</th><th>USSLOWL_INTERNET</th><th>USSLOWL_LEISPROD</th><th>USSLOWL_LEISSVCS</th><th>USSLOWL_LIFEINS</th><th>USSLOWL_MEDIA</th><th>USSLOWL_MGDHLTH</th><th>USSLOWL_MULTUTIL</th><th>USSLOWL_OILGSCON</th><th>USSLOWL_OILGSDRL</th><th>USSLOWL_OILGSEQP</th><th>USSLOWL_OILGSEXP</th><th>USSLOWL_PAPER</th><th>USSLOWL_PHARMA</th><th>USSLOWL_PRECMTLS</th><th>USSLOWL_PSNLPROD</th><th>USSLOWL_REALEST</th><th>USSLOWL_RESTAUR</th><th>USSLOWL_RESVOL</th><th>USSLOWL_ROADRAIL</th><th>USSLOWL_SEMICOND</th><th>USSLOWL_SEMIEQP</th><th>USSLOWL_SOFTWARE</th><th>USSLOWL_SPLTYRET</th><th>USSLOWL_SPTYCHEM</th><th>USSLOWL_SPTYSTOR</th><th>USSLOWL_TELECOM</th><th>USSLOWL_TRADECO</th><th>USSLOWL_TRANSPRT</th><th>USSLOWL_WIRELESS</th></tr><tr><td>date</td><td>str</td><td>f64</td><td>f64</td><td>f64</td><td>f64</td><td>f64</td><td>f64</td><td>f64</td><td>f64</td><td>f64</td><td>f64</td><td>f64</td><td>f64</td><td>f64</td><td>f64</td><td>f64</td><td>f64</td><td>f64</td><td>f64</td><td>f64</td><td>f64</td><td>f64</td><td>f64</td><td>f64</td><td>f64</td><td>f64</td><td>f64</td><td>f64</td><td>f64</td><td>f64</td><td>f64</td><td>f64</td><td>f64</td><td>f64</td><td>f64</td><td>f64</td><td>&hellip;</td><td>f64</td><td>f64</td><td>f64</td><td>f64</td><td>f64</td><td>f64</td><td>f64</td><td>f64</td><td>f64</td><td>f64</td><td>f64</td><td>f64</td><td>f64</td><td>f64</td><td>f64</td><td>f64</td><td>f64</td><td>f64</td><td>f64</td><td>f64</td><td>f64</td><td>f64</td><td>f64</td><td>f64</td><td>f64</td><td>f64</td><td>f64</td><td>f64</td><td>f64</td><td>f64</td><td>f64</td><td>f64</td><td>f64</td><td>f64</td><td>f64</td><td>f64</td><td>f64</td></tr></thead><tbody><tr><td>2014-01-02</td><td>&quot;USSLOWL_AERODEF&quot;</td><td>null</td><td>7.53145</td><td>null</td><td>null</td><td>null</td><td>null</td><td>null</td><td>null</td><td>null</td><td>null</td><td>null</td><td>null</td><td>null</td><td>null</td><td>null</td><td>null</td><td>96.155423</td><td>47.22258</td><td>null</td><td>1.05331</td><td>13.755034</td><td>-2.169609</td><td>0.578873</td><td>2.604497</td><td>13.322045</td><td>null</td><td>0.845096</td><td>4.5564026</td><td>null</td><td>-5.579093</td><td>1.126483</td><td>8.688779</td><td>12.767277</td><td>null</td><td>2.27545</td><td>&hellip;</td><td>1.7937587</td><td>-3.161459</td><td>6.987328</td><td>8.8348658</td><td>3.379199</td><td>8.3988305</td><td>15.58735</td><td>0.352323</td><td>-3.15247</td><td>10.194168</td><td>14.582183</td><td>7.687656</td><td>1.649237</td><td>18.255919</td><td>-1.637039</td><td>null</td><td>null</td><td>null</td><td>null</td><td>null</td><td>2.325343</td><td>null</td><td>3.142379</td><td>-6.917403</td><td>8.397642</td><td>null</td><td>12.852701</td><td>-12.327439</td><td>-5.379662</td><td>-2.938528</td><td>1.9843657</td><td>null</td><td>2.719102</td><td>-9.136635</td><td>9.72816</td><td>8.1887988</td><td>-7.339402</td></tr><tr><td>2014-01-02</td><td>&quot;USSLOWL_AIRLINES&quot;</td><td>null</td><td>-28.127904</td><td>null</td><td>null</td><td>null</td><td>null</td><td>null</td><td>null</td><td>null</td><td>null</td><td>null</td><td>null</td><td>null</td><td>null</td><td>null</td><td>null</td><td>null</td><td>652.06231</td><td>null</td><td>11.838902</td><td>7.033253</td><td>34.564401</td><td>14.254786</td><td>39.516227</td><td>null</td><td>null</td><td>null</td><td>null</td><td>null</td><td>-25.749914</td><td>-14.960495</td><td>null</td><td>null</td><td>null</td><td>27.511632</td><td>&hellip;</td><td>26.78012</td><td>4.5211661</td><td>17.394651</td><td>22.587962</td><td>52.939828</td><td>20.986537</td><td>null</td><td>27.71487</td><td>1.150425</td><td>23.476069</td><td>39.173032</td><td>-5.134211</td><td>0.576103</td><td>52.972581</td><td>13.266783</td><td>null</td><td>null</td><td>null</td><td>null</td><td>null</td><td>18.964273</td><td>null</td><td>18.30352</td><td>16.378848</td><td>36.612467</td><td>null</td><td>37.077755</td><td>-22.255436</td><td>-4.859508</td><td>-2.011669</td><td>29.763174</td><td>null</td><td>21.432247</td><td>4.332113</td><td>null</td><td>46.30983</td><td>-17.267737</td></tr><tr><td>2014-01-02</td><td>&quot;USSLOWL_ALUMSTEL&quot;</td><td>null</td><td>29.39558</td><td>null</td><td>null</td><td>null</td><td>null</td><td>null</td><td>null</td><td>null</td><td>null</td><td>null</td><td>null</td><td>null</td><td>null</td><td>null</td><td>null</td><td>1.535042</td><td>-35.715392</td><td>235.752354</td><td>-22.501055</td><td>11.905239</td><td>-45.429872</td><td>-11.009142</td><td>-40.074275</td><td>10.899075</td><td>null</td><td>43.381742</td><td>68.808781</td><td>null</td><td>-8.591353</td><td>-0.988612</td><td>0.131327</td><td>2.156801</td><td>null</td><td>-9.200064</td><td>&hellip;</td><td>-8.337893</td><td>-8.772771</td><td>-16.061261</td><td>-14.272085</td><td>6.434685</td><td>-11.105359</td><td>22.700543</td><td>-17.002466</td><td>-9.935446</td><td>-13.578289</td><td>-2.431817</td><td>-15.208201</td><td>-0.735026</td><td>-33.065957</td><td>-5.869091</td><td>null</td><td>null</td><td>null</td><td>null</td><td>null</td><td>-20.191839</td><td>138.466364</td><td>-21.466307</td><td>-6.14481</td><td>-13.780032</td><td>null</td><td>16.289913</td><td>3.132566</td><td>9.558271</td><td>-11.408331</td><td>-7.925286</td><td>null</td><td>-13.206561</td><td>-5.8995</td><td>13.150243</td><td>22.034206</td><td>9.454505</td></tr><tr><td>2014-01-02</td><td>&quot;USSLOWL_APPAREL&quot;</td><td>null</td><td>9.570438</td><td>null</td><td>null</td><td>null</td><td>null</td><td>null</td><td>null</td><td>null</td><td>null</td><td>null</td><td>null</td><td>null</td><td>null</td><td>null</td><td>null</td><td>null</td><td>null</td><td>null</td><td>169.257086</td><td>null</td><td>1.515997</td><td>-0.997584</td><td>-13.607058</td><td>null</td><td>null</td><td>null</td><td>null</td><td>null</td><td>-6.698811</td><td>0.787727</td><td>null</td><td>null</td><td>null</td><td>null</td><td>&hellip;</td><td>12.426353</td><td>-32.338476</td><td>0.403822</td><td>-1.273761</td><td>null</td><td>null</td><td>null</td><td>0.282956</td><td>2.290281</td><td>null</td><td>null</td><td>1.061716</td><td>null</td><td>-13.788937</td><td>-31.390918</td><td>null</td><td>null</td><td>null</td><td>null</td><td>null</td><td>-9.297452</td><td>null</td><td>7.516916</td><td>9.808898</td><td>null</td><td>null</td><td>null</td><td>-5.477044</td><td>3.01315</td><td>3.199741</td><td>61.531349</td><td>null</td><td>70.720071</td><td>-12.648548</td><td>null</td><td>null</td><td>-14.77886</td></tr><tr><td>2014-01-02</td><td>&quot;USSLOWL_AUTO&quot;</td><td>null</td><td>40.034726</td><td>null</td><td>null</td><td>null</td><td>null</td><td>null</td><td>null</td><td>null</td><td>null</td><td>null</td><td>null</td><td>null</td><td>null</td><td>null</td><td>null</td><td>null</td><td>null</td><td>null</td><td>19.962782</td><td>206.906908</td><td>-2.947263</td><td>-11.510802</td><td>-17.598937</td><td>null</td><td>null</td><td>null</td><td>null</td><td>null</td><td>1.291134</td><td>11.793135</td><td>null</td><td>null</td><td>null</td><td>24.813662</td><td>&hellip;</td><td>-3.491378</td><td>-23.676092</td><td>-13.01678</td><td>-14.337389</td><td>44.282969</td><td>42.871368</td><td>null</td><td>-5.627186</td><td>2.171506</td><td>38.483639</td><td>22.326659</td><td>14.216632</td><td>14.83759</td><td>-16.719982</td><td>-22.891587</td><td>null</td><td>null</td><td>null</td><td>null</td><td>null</td><td>-24.038527</td><td>null</td><td>-3.830055</td><td>-14.489106</td><td>12.783147</td><td>null</td><td>null</td><td>-0.375092</td><td>3.883414</td><td>-0.083117</td><td>27.308708</td><td>null</td><td>25.016555</td><td>-11.778335</td><td>null</td><td>null</td><td>-11.47799</td></tr><tr><td>&hellip;</td><td>&hellip;</td><td>&hellip;</td><td>&hellip;</td><td>&hellip;</td><td>&hellip;</td><td>&hellip;</td><td>&hellip;</td><td>&hellip;</td><td>&hellip;</td><td>&hellip;</td><td>&hellip;</td><td>&hellip;</td><td>&hellip;</td><td>&hellip;</td><td>&hellip;</td><td>&hellip;</td><td>&hellip;</td><td>&hellip;</td><td>&hellip;</td><td>&hellip;</td><td>&hellip;</td><td>&hellip;</td><td>&hellip;</td><td>&hellip;</td><td>&hellip;</td><td>&hellip;</td><td>&hellip;</td><td>&hellip;</td><td>&hellip;</td><td>&hellip;</td><td>&hellip;</td><td>&hellip;</td><td>&hellip;</td><td>&hellip;</td><td>&hellip;</td><td>&hellip;</td><td>&hellip;</td><td>&hellip;</td><td>&hellip;</td><td>&hellip;</td><td>&hellip;</td><td>&hellip;</td><td>&hellip;</td><td>&hellip;</td><td>&hellip;</td><td>&hellip;</td><td>&hellip;</td><td>&hellip;</td><td>&hellip;</td><td>&hellip;</td><td>&hellip;</td><td>&hellip;</td><td>&hellip;</td><td>&hellip;</td><td>&hellip;</td><td>&hellip;</td><td>&hellip;</td><td>&hellip;</td><td>&hellip;</td><td>&hellip;</td><td>&hellip;</td><td>&hellip;</td><td>&hellip;</td><td>&hellip;</td><td>&hellip;</td><td>&hellip;</td><td>&hellip;</td><td>&hellip;</td><td>&hellip;</td><td>&hellip;</td><td>&hellip;</td><td>&hellip;</td><td>&hellip;</td><td>&hellip;</td></tr><tr><td>2025-03-07</td><td>&quot;USSLOWL_TELECOM&quot;</td><td>null</td><td>-50.983168</td><td>null</td><td>null</td><td>null</td><td>null</td><td>null</td><td>null</td><td>null</td><td>null</td><td>null</td><td>null</td><td>null</td><td>null</td><td>null</td><td>null</td><td>null</td><td>null</td><td>null</td><td>null</td><td>null</td><td>null</td><td>null</td><td>null</td><td>null</td><td>null</td><td>null</td><td>null</td><td>null</td><td>null</td><td>null</td><td>null</td><td>null</td><td>null</td><td>null</td><td>&hellip;</td><td>null</td><td>26.883696</td><td>null</td><td>null</td><td>null</td><td>null</td><td>null</td><td>null</td><td>null</td><td>null</td><td>null</td><td>null</td><td>null</td><td>null</td><td>45.422485</td><td>null</td><td>null</td><td>null</td><td>null</td><td>null</td><td>null</td><td>null</td><td>null</td><td>null</td><td>null</td><td>null</td><td>null</td><td>null</td><td>null</td><td>null</td><td>null</td><td>null</td><td>null</td><td>265.197313</td><td>null</td><td>null</td><td>39.140202</td></tr><tr><td>2025-03-07</td><td>&quot;USSLOWL_TRADECO&quot;</td><td>null</td><td>34.911492</td><td>null</td><td>null</td><td>null</td><td>null</td><td>null</td><td>null</td><td>null</td><td>null</td><td>null</td><td>null</td><td>null</td><td>null</td><td>null</td><td>null</td><td>null</td><td>5.466402</td><td>null</td><td>15.4586</td><td>33.239101</td><td>43.620953</td><td>-12.70993</td><td>-16.964508</td><td>null</td><td>null</td><td>74.320362</td><td>null</td><td>null</td><td>-17.700775</td><td>0.130836</td><td>17.144975</td><td>25.052684</td><td>null</td><td>8.48386</td><td>&hellip;</td><td>0.965076</td><td>-20.201602</td><td>-25.617788</td><td>0.522709</td><td>76.489746</td><td>17.074617</td><td>null</td><td>6.164103</td><td>-28.495195</td><td>6.405212</td><td>14.322019</td><td>16.635735</td><td>-16.132312</td><td>-5.078629</td><td>-24.188049</td><td>null</td><td>null</td><td>null</td><td>null</td><td>null</td><td>-23.573468</td><td>null</td><td>-14.824249</td><td>-9.191937</td><td>-1.099565</td><td>null</td><td>57.718115</td><td>-24.914564</td><td>-26.553556</td><td>-25.93333</td><td>37.098598</td><td>null</td><td>13.225714</td><td>-25.452337</td><td>165.571471</td><td>32.083171</td><td>-7.029208</td></tr><tr><td>2025-03-07</td><td>&quot;USSLOWL_TRANSPRT&quot;</td><td>null</td><td>-2.495449</td><td>null</td><td>null</td><td>null</td><td>null</td><td>null</td><td>null</td><td>null</td><td>null</td><td>null</td><td>null</td><td>null</td><td>null</td><td>null</td><td>null</td><td>null</td><td>null</td><td>null</td><td>5.1040361</td><td>37.780537</td><td>32.433868</td><td>3.6671724</td><td>-14.317411</td><td>null</td><td>null</td><td>null</td><td>null</td><td>null</td><td>-10.816952</td><td>-1.363907</td><td>null</td><td>null</td><td>null</td><td>10.886112</td><td>&hellip;</td><td>10.893194</td><td>6.867291</td><td>-7.778553</td><td>-7.811853</td><td>-2.177901</td><td>23.255084</td><td>null</td><td>-2.853501</td><td>-21.481429</td><td>21.27747</td><td>0.132028</td><td>3.511065</td><td>0.20624</td><td>-23.633989</td><td>-9.374746</td><td>null</td><td>null</td><td>null</td><td>null</td><td>null</td><td>-14.654679</td><td>null</td><td>9.608766</td><td>-7.680753</td><td>-0.475787</td><td>null</td><td>77.050526</td><td>11.917428</td><td>-15.090504</td><td>-14.466436</td><td>14.689235</td><td>null</td><td>12.674353</td><td>1.343433</td><td>null</td><td>210.35697</td><td>7.1403538</td></tr><tr><td>2025-03-07</td><td>&quot;USSLOWL_VALUE&quot;</td><td>null</td><td>1.320814</td><td>null</td><td>null</td><td>null</td><td>null</td><td>null</td><td>null</td><td>null</td><td>null</td><td>null</td><td>null</td><td>null</td><td>null</td><td>null</td><td>6.42427</td><td>4.031469</td><td>6.922173</td><td>9.649723</td><td>6.0098384</td><td>3.996831</td><td>11.573861</td><td>0.451071</td><td>-3.431244</td><td>3.753458</td><td>7.094515</td><td>4.188655</td><td>9.571235</td><td>4.981486</td><td>-3.227906</td><td>-2.006781</td><td>0.401645</td><td>2.821163</td><td>3.927519</td><td>1.8930744</td><td>&hellip;</td><td>-1.405992</td><td>-4.944559</td><td>-3.856249</td><td>-0.500438</td><td>-1.169166</td><td>2.479546</td><td>4.979869</td><td>1.788022</td><td>-1.076997</td><td>4.520115</td><td>4.81452</td><td>3.630774</td><td>3.054142</td><td>-0.533294</td><td>-6.227395</td><td>7.96223</td><td>20.686813</td><td>21.817747</td><td>14.817823</td><td>7.595622</td><td>-1.497986</td><td>6.158494</td><td>0.058541</td><td>-3.134349</td><td>0.452608</td><td>null</td><td>3.914962</td><td>-2.380872</td><td>0.887291</td><td>-5.485586</td><td>0.278143</td><td>2.428454</td><td>3.172069</td><td>-3.431782</td><td>5.273534</td><td>2.079767</td><td>0.729116</td></tr><tr><td>2025-03-07</td><td>&quot;USSLOWL_WIRELESS&quot;</td><td>null</td><td>-34.464621</td><td>null</td><td>null</td><td>null</td><td>null</td><td>null</td><td>null</td><td>null</td><td>null</td><td>null</td><td>null</td><td>null</td><td>null</td><td>null</td><td>null</td><td>null</td><td>null</td><td>null</td><td>null</td><td>null</td><td>null</td><td>null</td><td>null</td><td>null</td><td>null</td><td>null</td><td>null</td><td>null</td><td>null</td><td>null</td><td>null</td><td>null</td><td>null</td><td>null</td><td>&hellip;</td><td>null</td><td>21.604725</td><td>null</td><td>null</td><td>null</td><td>null</td><td>null</td><td>null</td><td>null</td><td>null</td><td>null</td><td>null</td><td>null</td><td>null</td><td>18.821844</td><td>null</td><td>null</td><td>null</td><td>null</td><td>null</td><td>null</td><td>null</td><td>null</td><td>null</td><td>null</td><td>null</td><td>null</td><td>null</td><td>null</td><td>null</td><td>null</td><td>null</td><td>null</td><td>null</td><td>null</td><td>null</td><td>141.517728</td></tr></tbody></table></div>"
      ],
      "text/plain": [
       "shape: (60_793, 78)\n",
       "┌───────────┬───────────┬───────────┬───────────┬───┬───────────┬───────────┬───────────┬──────────┐\n",
       "│ date      ┆ factor1   ┆ USSLOWL_B ┆ USSLOWL_C ┆ … ┆ USSLOWL_T ┆ USSLOWL_T ┆ USSLOWL_T ┆ USSLOWL_ │\n",
       "│ ---       ┆ ---       ┆ ETA       ┆ OUNTRY    ┆   ┆ ELECOM    ┆ RADECO    ┆ RANSPRT   ┆ WIRELESS │\n",
       "│ date      ┆ str       ┆ ---       ┆ ---       ┆   ┆ ---       ┆ ---       ┆ ---       ┆ ---      │\n",
       "│           ┆           ┆ f64       ┆ f64       ┆   ┆ f64       ┆ f64       ┆ f64       ┆ f64      │\n",
       "╞═══════════╪═══════════╪═══════════╪═══════════╪═══╪═══════════╪═══════════╪═══════════╪══════════╡\n",
       "│ 2014-01-0 ┆ USSLOWL_A ┆ null      ┆ 7.53145   ┆ … ┆ -9.136635 ┆ 9.72816   ┆ 8.1887988 ┆ -7.33940 │\n",
       "│ 2         ┆ ERODEF    ┆           ┆           ┆   ┆           ┆           ┆           ┆ 2        │\n",
       "│ 2014-01-0 ┆ USSLOWL_A ┆ null      ┆ -28.12790 ┆ … ┆ 4.332113  ┆ null      ┆ 46.30983  ┆ -17.2677 │\n",
       "│ 2         ┆ IRLINES   ┆           ┆ 4         ┆   ┆           ┆           ┆           ┆ 37       │\n",
       "│ 2014-01-0 ┆ USSLOWL_A ┆ null      ┆ 29.39558  ┆ … ┆ -5.8995   ┆ 13.150243 ┆ 22.034206 ┆ 9.454505 │\n",
       "│ 2         ┆ LUMSTEL   ┆           ┆           ┆   ┆           ┆           ┆           ┆          │\n",
       "│ 2014-01-0 ┆ USSLOWL_A ┆ null      ┆ 9.570438  ┆ … ┆ -12.64854 ┆ null      ┆ null      ┆ -14.7788 │\n",
       "│ 2         ┆ PPAREL    ┆           ┆           ┆   ┆ 8         ┆           ┆           ┆ 6        │\n",
       "│ 2014-01-0 ┆ USSLOWL_A ┆ null      ┆ 40.034726 ┆ … ┆ -11.77833 ┆ null      ┆ null      ┆ -11.4779 │\n",
       "│ 2         ┆ UTO       ┆           ┆           ┆   ┆ 5         ┆           ┆           ┆ 9        │\n",
       "│ …         ┆ …         ┆ …         ┆ …         ┆ … ┆ …         ┆ …         ┆ …         ┆ …        │\n",
       "│ 2025-03-0 ┆ USSLOWL_T ┆ null      ┆ -50.98316 ┆ … ┆ 265.19731 ┆ null      ┆ null      ┆ 39.14020 │\n",
       "│ 7         ┆ ELECOM    ┆           ┆ 8         ┆   ┆ 3         ┆           ┆           ┆ 2        │\n",
       "│ 2025-03-0 ┆ USSLOWL_T ┆ null      ┆ 34.911492 ┆ … ┆ -25.45233 ┆ 165.57147 ┆ 32.083171 ┆ -7.02920 │\n",
       "│ 7         ┆ RADECO    ┆           ┆           ┆   ┆ 7         ┆ 1         ┆           ┆ 8        │\n",
       "│ 2025-03-0 ┆ USSLOWL_T ┆ null      ┆ -2.495449 ┆ … ┆ 1.343433  ┆ null      ┆ 210.35697 ┆ 7.140353 │\n",
       "│ 7         ┆ RANSPRT   ┆           ┆           ┆   ┆           ┆           ┆           ┆ 8        │\n",
       "│ 2025-03-0 ┆ USSLOWL_V ┆ null      ┆ 1.320814  ┆ … ┆ -3.431782 ┆ 5.273534  ┆ 2.079767  ┆ 0.729116 │\n",
       "│ 7         ┆ ALUE      ┆           ┆           ┆   ┆           ┆           ┆           ┆          │\n",
       "│ 2025-03-0 ┆ USSLOWL_W ┆ null      ┆ -34.46462 ┆ … ┆ null      ┆ null      ┆ null      ┆ 141.5177 │\n",
       "│ 7         ┆ IRELESS   ┆           ┆ 1         ┆   ┆           ┆           ┆           ┆ 28       │\n",
       "└───────────┴───────────┴───────────┴───────────┴───┴───────────┴───────────┴───────────┴──────────┘"
      ]
     },
     "metadata": {},
     "output_type": "display_data"
    }
   ],
   "source": [
    "with Database() as db:\n",
    "    display(db.execute(\"SELECT * FROM covariances_wide ORDER BY date, factor1;\").pl())"
   ]
  },
  {
   "cell_type": "code",
   "execution_count": 7,
   "metadata": {},
   "outputs": [
    {
     "data": {
      "text/html": [
       "<div><style>\n",
       ".dataframe > thead > tr,\n",
       ".dataframe > tbody > tr {\n",
       "  text-align: right;\n",
       "  white-space: pre-wrap;\n",
       "}\n",
       "</style>\n",
       "<small>shape: (281_784_988, 4)</small><table border=\"1\" class=\"dataframe\"><thead><tr><th>date</th><th>barrid</th><th>factor</th><th>exposure</th></tr><tr><td>date</td><td>str</td><td>str</td><td>f64</td></tr></thead><tbody><tr><td>2014-01-02</td><td>&quot;ARGAJH1&quot;</td><td>&quot;USSLOWL_BETA&quot;</td><td>0.168</td></tr><tr><td>2014-01-02</td><td>&quot;ARGAJH1&quot;</td><td>&quot;USSLOWL_COUNTRY&quot;</td><td>1.0</td></tr><tr><td>2014-01-02</td><td>&quot;ARGAJH1&quot;</td><td>&quot;USSLOWL_DIVYILD&quot;</td><td>-0.588</td></tr><tr><td>2014-01-02</td><td>&quot;ARGAJH1&quot;</td><td>&quot;USSLOWL_EARNQLTY&quot;</td><td>0.457</td></tr><tr><td>2014-01-02</td><td>&quot;ARGAJH1&quot;</td><td>&quot;USSLOWL_EARNYILD&quot;</td><td>0.092</td></tr><tr><td>&hellip;</td><td>&hellip;</td><td>&hellip;</td><td>&hellip;</td></tr><tr><td>2025-03-07</td><td>&quot;USBQZX1&quot;</td><td>&quot;USSLOWL_PROFIT&quot;</td><td>-1.565</td></tr><tr><td>2025-03-07</td><td>&quot;USBQZX1&quot;</td><td>&quot;USSLOWL_PROSPECT&quot;</td><td>-0.099</td></tr><tr><td>2025-03-07</td><td>&quot;USBQZX1&quot;</td><td>&quot;USSLOWL_RESVOL&quot;</td><td>-2.841</td></tr><tr><td>2025-03-07</td><td>&quot;USBQZX1&quot;</td><td>&quot;USSLOWL_SIZE&quot;</td><td>-5.024</td></tr><tr><td>2025-03-07</td><td>&quot;USBQZX1&quot;</td><td>&quot;USSLOWL_VALUE&quot;</td><td>1.595</td></tr></tbody></table></div>"
      ],
      "text/plain": [
       "shape: (281_784_988, 4)\n",
       "┌────────────┬─────────┬──────────────────┬──────────┐\n",
       "│ date       ┆ barrid  ┆ factor           ┆ exposure │\n",
       "│ ---        ┆ ---     ┆ ---              ┆ ---      │\n",
       "│ date       ┆ str     ┆ str              ┆ f64      │\n",
       "╞════════════╪═════════╪══════════════════╪══════════╡\n",
       "│ 2014-01-02 ┆ ARGAJH1 ┆ USSLOWL_BETA     ┆ 0.168    │\n",
       "│ 2014-01-02 ┆ ARGAJH1 ┆ USSLOWL_COUNTRY  ┆ 1.0      │\n",
       "│ 2014-01-02 ┆ ARGAJH1 ┆ USSLOWL_DIVYILD  ┆ -0.588   │\n",
       "│ 2014-01-02 ┆ ARGAJH1 ┆ USSLOWL_EARNQLTY ┆ 0.457    │\n",
       "│ 2014-01-02 ┆ ARGAJH1 ┆ USSLOWL_EARNYILD ┆ 0.092    │\n",
       "│ …          ┆ …       ┆ …                ┆ …        │\n",
       "│ 2025-03-07 ┆ USBQZX1 ┆ USSLOWL_PROFIT   ┆ -1.565   │\n",
       "│ 2025-03-07 ┆ USBQZX1 ┆ USSLOWL_PROSPECT ┆ -0.099   │\n",
       "│ 2025-03-07 ┆ USBQZX1 ┆ USSLOWL_RESVOL   ┆ -2.841   │\n",
       "│ 2025-03-07 ┆ USBQZX1 ┆ USSLOWL_SIZE     ┆ -5.024   │\n",
       "│ 2025-03-07 ┆ USBQZX1 ┆ USSLOWL_VALUE    ┆ 1.595    │\n",
       "└────────────┴─────────┴──────────────────┴──────────┘"
      ]
     },
     "metadata": {},
     "output_type": "display_data"
    }
   ],
   "source": [
    "with Database() as db:\n",
    "    display(db.execute(\"SELECT * FROM exposures ORDER BY date, barrid, factor;\").pl())"
   ]
  },
  {
   "cell_type": "code",
   "execution_count": 8,
   "metadata": {},
   "outputs": [
    {
     "data": {
      "text/html": [
       "<div><style>\n",
       ".dataframe > thead > tr,\n",
       ".dataframe > tbody > tr {\n",
       "  text-align: right;\n",
       "  white-space: pre-wrap;\n",
       "}\n",
       "</style>\n",
       "<small>shape: (15_431_002, 78)</small><table border=\"1\" class=\"dataframe\"><thead><tr><th>date</th><th>barrid</th><th>USSLOWL_BETA</th><th>USSLOWL_COUNTRY</th><th>USSLOWL_DIVYILD</th><th>USSLOWL_EARNQLTY</th><th>USSLOWL_EARNYILD</th><th>USSLOWL_GROWTH</th><th>USSLOWL_LEVERAGE</th><th>USSLOWL_LIQUIDTY</th><th>USSLOWL_LTREVRSL</th><th>USSLOWL_MGMTQLTY</th><th>USSLOWL_MIDCAP</th><th>USSLOWL_MOMENTUM</th><th>USSLOWL_PROFIT</th><th>USSLOWL_PROSPECT</th><th>USSLOWL_SIZE</th><th>USSLOWL_VALUE</th><th>USSLOWL_AERODEF</th><th>USSLOWL_AIRLINES</th><th>USSLOWL_ALUMSTEL</th><th>USSLOWL_APPAREL</th><th>USSLOWL_AUTO</th><th>USSLOWL_BANKS</th><th>USSLOWL_BEVTOB</th><th>USSLOWL_BIOLIFE</th><th>USSLOWL_BLDGPROD</th><th>USSLOWL_CHEM</th><th>USSLOWL_CNSTENG</th><th>USSLOWL_CNSTMACH</th><th>USSLOWL_CNSTMATL</th><th>USSLOWL_COMMEQP</th><th>USSLOWL_COMPELEC</th><th>USSLOWL_COMSVCS</th><th>USSLOWL_CONGLOM</th><th>USSLOWL_CONTAINR</th><th>USSLOWL_DISTRIB</th><th>&hellip;</th><th>USSLOWL_FOODRET</th><th>USSLOWL_GASUTIL</th><th>USSLOWL_HLTHEQP</th><th>USSLOWL_HLTHSVCS</th><th>USSLOWL_HOMEBLDG</th><th>USSLOWL_HOUSEDUR</th><th>USSLOWL_INDMACH</th><th>USSLOWL_INSURNCE</th><th>USSLOWL_INTERNET</th><th>USSLOWL_LEISPROD</th><th>USSLOWL_LEISSVCS</th><th>USSLOWL_LIFEINS</th><th>USSLOWL_MEDIA</th><th>USSLOWL_MGDHLTH</th><th>USSLOWL_MULTUTIL</th><th>USSLOWL_OILGSCON</th><th>USSLOWL_OILGSDRL</th><th>USSLOWL_OILGSEQP</th><th>USSLOWL_OILGSEXP</th><th>USSLOWL_PAPER</th><th>USSLOWL_PHARMA</th><th>USSLOWL_PRECMTLS</th><th>USSLOWL_PSNLPROD</th><th>USSLOWL_REALEST</th><th>USSLOWL_RESTAUR</th><th>USSLOWL_RESVOL</th><th>USSLOWL_ROADRAIL</th><th>USSLOWL_SEMICOND</th><th>USSLOWL_SEMIEQP</th><th>USSLOWL_SOFTWARE</th><th>USSLOWL_SPLTYRET</th><th>USSLOWL_SPTYCHEM</th><th>USSLOWL_SPTYSTOR</th><th>USSLOWL_TELECOM</th><th>USSLOWL_TRADECO</th><th>USSLOWL_TRANSPRT</th><th>USSLOWL_WIRELESS</th></tr><tr><td>date</td><td>str</td><td>f64</td><td>f64</td><td>f64</td><td>f64</td><td>f64</td><td>f64</td><td>f64</td><td>f64</td><td>f64</td><td>f64</td><td>f64</td><td>f64</td><td>f64</td><td>f64</td><td>f64</td><td>f64</td><td>f64</td><td>f64</td><td>f64</td><td>f64</td><td>f64</td><td>f64</td><td>f64</td><td>f64</td><td>f64</td><td>f64</td><td>f64</td><td>f64</td><td>f64</td><td>f64</td><td>f64</td><td>f64</td><td>f64</td><td>f64</td><td>f64</td><td>&hellip;</td><td>f64</td><td>f64</td><td>f64</td><td>f64</td><td>f64</td><td>f64</td><td>f64</td><td>f64</td><td>f64</td><td>f64</td><td>f64</td><td>f64</td><td>f64</td><td>f64</td><td>f64</td><td>f64</td><td>f64</td><td>f64</td><td>f64</td><td>f64</td><td>f64</td><td>f64</td><td>f64</td><td>f64</td><td>f64</td><td>f64</td><td>f64</td><td>f64</td><td>f64</td><td>f64</td><td>f64</td><td>f64</td><td>f64</td><td>f64</td><td>f64</td><td>f64</td><td>f64</td></tr></thead><tbody><tr><td>2014-01-02</td><td>&quot;ARGAJH1&quot;</td><td>0.168</td><td>1.0</td><td>-0.588</td><td>0.457</td><td>0.092</td><td>0.62</td><td>-0.528</td><td>0.423</td><td>-0.744</td><td>-0.403</td><td>-0.506</td><td>1.308</td><td>-0.48</td><td>-1.097</td><td>0.924</td><td>-0.209</td><td>null</td><td>null</td><td>null</td><td>null</td><td>null</td><td>null</td><td>null</td><td>null</td><td>null</td><td>null</td><td>null</td><td>null</td><td>null</td><td>null</td><td>null</td><td>null</td><td>null</td><td>null</td><td>null</td><td>&hellip;</td><td>null</td><td>null</td><td>null</td><td>null</td><td>null</td><td>null</td><td>null</td><td>null</td><td>null</td><td>null</td><td>null</td><td>null</td><td>null</td><td>null</td><td>null</td><td>null</td><td>0.211</td><td>0.397</td><td>0.392</td><td>null</td><td>null</td><td>null</td><td>null</td><td>null</td><td>null</td><td>2.827</td><td>null</td><td>null</td><td>null</td><td>null</td><td>null</td><td>null</td><td>null</td><td>null</td><td>null</td><td>null</td><td>null</td></tr><tr><td>2014-01-02</td><td>&quot;ARGAMY1&quot;</td><td>-2.589</td><td>1.0</td><td>-0.037</td><td>0.668</td><td>-0.132</td><td>-0.309</td><td>0.182</td><td>-0.623</td><td>-0.543</td><td>0.065</td><td>-0.527</td><td>0.616</td><td>0.553</td><td>0.21</td><td>0.977</td><td>-0.579</td><td>null</td><td>null</td><td>null</td><td>null</td><td>null</td><td>null</td><td>0.902</td><td>null</td><td>null</td><td>null</td><td>null</td><td>null</td><td>null</td><td>null</td><td>null</td><td>null</td><td>null</td><td>null</td><td>null</td><td>&hellip;</td><td>null</td><td>null</td><td>null</td><td>null</td><td>null</td><td>null</td><td>null</td><td>null</td><td>null</td><td>null</td><td>null</td><td>null</td><td>null</td><td>null</td><td>null</td><td>null</td><td>null</td><td>null</td><td>null</td><td>null</td><td>null</td><td>null</td><td>null</td><td>null</td><td>null</td><td>1.801</td><td>null</td><td>null</td><td>null</td><td>null</td><td>null</td><td>null</td><td>null</td><td>null</td><td>null</td><td>null</td><td>null</td></tr><tr><td>2014-01-02</td><td>&quot;ARGANC1&quot;</td><td>-2.589</td><td>1.0</td><td>-1.163</td><td>-0.957</td><td>-0.114</td><td>-0.558</td><td>2.752</td><td>0.583</td><td>0.864</td><td>-0.602</td><td>0.515</td><td>-0.964</td><td>-1.588</td><td>-2.331</td><td>-2.006</td><td>-2.255</td><td>null</td><td>null</td><td>null</td><td>null</td><td>null</td><td>1.0</td><td>null</td><td>null</td><td>null</td><td>null</td><td>null</td><td>null</td><td>null</td><td>null</td><td>null</td><td>null</td><td>null</td><td>null</td><td>null</td><td>&hellip;</td><td>null</td><td>null</td><td>null</td><td>null</td><td>null</td><td>null</td><td>null</td><td>null</td><td>null</td><td>null</td><td>null</td><td>null</td><td>null</td><td>null</td><td>null</td><td>null</td><td>null</td><td>null</td><td>null</td><td>null</td><td>null</td><td>null</td><td>null</td><td>null</td><td>null</td><td>-1.983</td><td>null</td><td>null</td><td>null</td><td>null</td><td>null</td><td>null</td><td>null</td><td>null</td><td>null</td><td>null</td><td>null</td></tr><tr><td>2014-01-02</td><td>&quot;ARGANJ1&quot;</td><td>-2.589</td><td>1.0</td><td>1.395</td><td>-2.082</td><td>-0.813</td><td>-1.438</td><td>0.396</td><td>-0.334</td><td>-1.453</td><td>-0.385</td><td>0.662</td><td>-2.397</td><td>-0.405</td><td>-0.181</td><td>-0.696</td><td>1.949</td><td>null</td><td>null</td><td>null</td><td>null</td><td>null</td><td>null</td><td>null</td><td>null</td><td>null</td><td>null</td><td>null</td><td>null</td><td>null</td><td>null</td><td>null</td><td>0.014</td><td>null</td><td>null</td><td>null</td><td>&hellip;</td><td>null</td><td>null</td><td>null</td><td>null</td><td>null</td><td>null</td><td>null</td><td>null</td><td>null</td><td>null</td><td>null</td><td>null</td><td>null</td><td>null</td><td>null</td><td>null</td><td>null</td><td>null</td><td>null</td><td>null</td><td>null</td><td>0.986</td><td>null</td><td>null</td><td>null</td><td>2.827</td><td>null</td><td>null</td><td>null</td><td>null</td><td>null</td><td>null</td><td>null</td><td>null</td><td>null</td><td>null</td><td>null</td></tr><tr><td>2014-01-02</td><td>&quot;ARGANQ1&quot;</td><td>-2.589</td><td>1.0</td><td>1.019</td><td>0.611</td><td>-0.166</td><td>-0.892</td><td>1.285</td><td>-1.32</td><td>-1.645</td><td>0.481</td><td>-0.552</td><td>-0.126</td><td>-0.137</td><td>1.596</td><td>1.049</td><td>-0.288</td><td>null</td><td>null</td><td>null</td><td>null</td><td>null</td><td>null</td><td>null</td><td>null</td><td>null</td><td>null</td><td>null</td><td>null</td><td>null</td><td>null</td><td>null</td><td>null</td><td>null</td><td>null</td><td>null</td><td>&hellip;</td><td>null</td><td>null</td><td>null</td><td>null</td><td>null</td><td>null</td><td>null</td><td>null</td><td>null</td><td>null</td><td>null</td><td>null</td><td>null</td><td>null</td><td>null</td><td>null</td><td>null</td><td>null</td><td>null</td><td>null</td><td>null</td><td>null</td><td>null</td><td>null</td><td>null</td><td>2.571</td><td>null</td><td>null</td><td>null</td><td>null</td><td>null</td><td>null</td><td>null</td><td>0.512</td><td>null</td><td>null</td><td>0.488</td></tr><tr><td>&hellip;</td><td>&hellip;</td><td>&hellip;</td><td>&hellip;</td><td>&hellip;</td><td>&hellip;</td><td>&hellip;</td><td>&hellip;</td><td>&hellip;</td><td>&hellip;</td><td>&hellip;</td><td>&hellip;</td><td>&hellip;</td><td>&hellip;</td><td>&hellip;</td><td>&hellip;</td><td>&hellip;</td><td>&hellip;</td><td>&hellip;</td><td>&hellip;</td><td>&hellip;</td><td>&hellip;</td><td>&hellip;</td><td>&hellip;</td><td>&hellip;</td><td>&hellip;</td><td>&hellip;</td><td>&hellip;</td><td>&hellip;</td><td>&hellip;</td><td>&hellip;</td><td>&hellip;</td><td>&hellip;</td><td>&hellip;</td><td>&hellip;</td><td>&hellip;</td><td>&hellip;</td><td>&hellip;</td><td>&hellip;</td><td>&hellip;</td><td>&hellip;</td><td>&hellip;</td><td>&hellip;</td><td>&hellip;</td><td>&hellip;</td><td>&hellip;</td><td>&hellip;</td><td>&hellip;</td><td>&hellip;</td><td>&hellip;</td><td>&hellip;</td><td>&hellip;</td><td>&hellip;</td><td>&hellip;</td><td>&hellip;</td><td>&hellip;</td><td>&hellip;</td><td>&hellip;</td><td>&hellip;</td><td>&hellip;</td><td>&hellip;</td><td>&hellip;</td><td>&hellip;</td><td>&hellip;</td><td>&hellip;</td><td>&hellip;</td><td>&hellip;</td><td>&hellip;</td><td>&hellip;</td><td>&hellip;</td><td>&hellip;</td><td>&hellip;</td><td>&hellip;</td><td>&hellip;</td><td>&hellip;</td></tr><tr><td>2025-03-07</td><td>&quot;USBQZG1&quot;</td><td>-0.782</td><td>1.0</td><td>-0.704</td><td>0.558</td><td>2.725</td><td>-0.071</td><td>1.065</td><td>3.403</td><td>-0.709</td><td>-2.641</td><td>-2.867</td><td>-1.07</td><td>-0.485</td><td>-0.539</td><td>-4.022</td><td>3.236</td><td>null</td><td>null</td><td>null</td><td>null</td><td>null</td><td>null</td><td>null</td><td>null</td><td>null</td><td>null</td><td>null</td><td>null</td><td>null</td><td>null</td><td>null</td><td>null</td><td>null</td><td>null</td><td>null</td><td>&hellip;</td><td>null</td><td>null</td><td>null</td><td>null</td><td>null</td><td>null</td><td>null</td><td>null</td><td>null</td><td>null</td><td>null</td><td>null</td><td>null</td><td>null</td><td>null</td><td>null</td><td>null</td><td>null</td><td>1.0</td><td>null</td><td>null</td><td>null</td><td>null</td><td>null</td><td>null</td><td>-1.253</td><td>null</td><td>null</td><td>null</td><td>null</td><td>null</td><td>null</td><td>null</td><td>null</td><td>null</td><td>null</td><td>null</td></tr><tr><td>2025-03-07</td><td>&quot;USBQZQ1&quot;</td><td>0.189</td><td>1.0</td><td>-0.704</td><td>-2.646</td><td>-1.837</td><td>0.834</td><td>-0.89</td><td>-1.348</td><td>0.597</td><td>0.028</td><td>-2.867</td><td>-0.599</td><td>-1.79</td><td>-0.088</td><td>-4.46</td><td>-0.669</td><td>null</td><td>null</td><td>null</td><td>null</td><td>null</td><td>null</td><td>null</td><td>null</td><td>null</td><td>null</td><td>null</td><td>null</td><td>null</td><td>null</td><td>0.498</td><td>null</td><td>null</td><td>null</td><td>null</td><td>&hellip;</td><td>null</td><td>null</td><td>null</td><td>null</td><td>null</td><td>null</td><td>null</td><td>null</td><td>0.502</td><td>null</td><td>null</td><td>null</td><td>null</td><td>null</td><td>null</td><td>null</td><td>null</td><td>null</td><td>null</td><td>null</td><td>null</td><td>null</td><td>null</td><td>null</td><td>null</td><td>2.738</td><td>null</td><td>null</td><td>null</td><td>null</td><td>null</td><td>null</td><td>null</td><td>null</td><td>null</td><td>null</td><td>null</td></tr><tr><td>2025-03-07</td><td>&quot;USBQZR1&quot;</td><td>-0.735</td><td>1.0</td><td>-0.699</td><td>-2.874</td><td>-1.696</td><td>-0.387</td><td>0.361</td><td>2.287</td><td>0.796</td><td>2.024</td><td>-1.784</td><td>-0.704</td><td>-0.459</td><td>0.039</td><td>-3.293</td><td>-1.32</td><td>null</td><td>null</td><td>null</td><td>null</td><td>null</td><td>null</td><td>null</td><td>null</td><td>null</td><td>null</td><td>null</td><td>null</td><td>null</td><td>null</td><td>null</td><td>null</td><td>null</td><td>null</td><td>null</td><td>&hellip;</td><td>null</td><td>null</td><td>1.0</td><td>null</td><td>null</td><td>null</td><td>null</td><td>null</td><td>null</td><td>null</td><td>null</td><td>null</td><td>null</td><td>null</td><td>null</td><td>null</td><td>null</td><td>null</td><td>null</td><td>null</td><td>null</td><td>null</td><td>null</td><td>null</td><td>null</td><td>-0.141</td><td>null</td><td>null</td><td>null</td><td>null</td><td>null</td><td>null</td><td>null</td><td>null</td><td>null</td><td>null</td><td>null</td></tr><tr><td>2025-03-07</td><td>&quot;USBQZV1&quot;</td><td>-0.718</td><td>1.0</td><td>-0.704</td><td>-2.874</td><td>-1.46</td><td>1.138</td><td>-0.859</td><td>0.752</td><td>0.513</td><td>-2.641</td><td>-2.797</td><td>-0.917</td><td>-0.28</td><td>-0.533</td><td>-3.579</td><td>-0.509</td><td>null</td><td>null</td><td>null</td><td>null</td><td>null</td><td>null</td><td>null</td><td>1.0</td><td>null</td><td>null</td><td>null</td><td>null</td><td>null</td><td>null</td><td>null</td><td>null</td><td>null</td><td>null</td><td>null</td><td>&hellip;</td><td>null</td><td>null</td><td>null</td><td>null</td><td>null</td><td>null</td><td>null</td><td>null</td><td>null</td><td>null</td><td>null</td><td>null</td><td>null</td><td>null</td><td>null</td><td>null</td><td>null</td><td>null</td><td>null</td><td>null</td><td>null</td><td>null</td><td>null</td><td>null</td><td>null</td><td>-1.23</td><td>null</td><td>null</td><td>null</td><td>null</td><td>null</td><td>null</td><td>null</td><td>null</td><td>null</td><td>null</td><td>null</td></tr><tr><td>2025-03-07</td><td>&quot;USBQZX1&quot;</td><td>0.316</td><td>1.0</td><td>-0.704</td><td>-1.763</td><td>-0.171</td><td>-1.083</td><td>-0.491</td><td>1.468</td><td>-0.201</td><td>-0.364</td><td>-2.867</td><td>-1.271</td><td>-1.565</td><td>-0.099</td><td>-5.024</td><td>1.595</td><td>null</td><td>null</td><td>null</td><td>null</td><td>null</td><td>null</td><td>null</td><td>null</td><td>null</td><td>null</td><td>null</td><td>null</td><td>null</td><td>null</td><td>null</td><td>null</td><td>null</td><td>null</td><td>null</td><td>&hellip;</td><td>null</td><td>null</td><td>null</td><td>null</td><td>null</td><td>null</td><td>null</td><td>null</td><td>null</td><td>null</td><td>null</td><td>null</td><td>null</td><td>null</td><td>null</td><td>null</td><td>null</td><td>null</td><td>null</td><td>null</td><td>null</td><td>1.0</td><td>null</td><td>null</td><td>null</td><td>-2.841</td><td>null</td><td>null</td><td>null</td><td>null</td><td>null</td><td>null</td><td>null</td><td>null</td><td>null</td><td>null</td><td>null</td></tr></tbody></table></div>"
      ],
      "text/plain": [
       "shape: (15_431_002, 78)\n",
       "┌────────────┬─────────┬───────────┬───────────┬───┬───────────┬───────────┬───────────┬───────────┐\n",
       "│ date       ┆ barrid  ┆ USSLOWL_B ┆ USSLOWL_C ┆ … ┆ USSLOWL_T ┆ USSLOWL_T ┆ USSLOWL_T ┆ USSLOWL_W │\n",
       "│ ---        ┆ ---     ┆ ETA       ┆ OUNTRY    ┆   ┆ ELECOM    ┆ RADECO    ┆ RANSPRT   ┆ IRELESS   │\n",
       "│ date       ┆ str     ┆ ---       ┆ ---       ┆   ┆ ---       ┆ ---       ┆ ---       ┆ ---       │\n",
       "│            ┆         ┆ f64       ┆ f64       ┆   ┆ f64       ┆ f64       ┆ f64       ┆ f64       │\n",
       "╞════════════╪═════════╪═══════════╪═══════════╪═══╪═══════════╪═══════════╪═══════════╪═══════════╡\n",
       "│ 2014-01-02 ┆ ARGAJH1 ┆ 0.168     ┆ 1.0       ┆ … ┆ null      ┆ null      ┆ null      ┆ null      │\n",
       "│ 2014-01-02 ┆ ARGAMY1 ┆ -2.589    ┆ 1.0       ┆ … ┆ null      ┆ null      ┆ null      ┆ null      │\n",
       "│ 2014-01-02 ┆ ARGANC1 ┆ -2.589    ┆ 1.0       ┆ … ┆ null      ┆ null      ┆ null      ┆ null      │\n",
       "│ 2014-01-02 ┆ ARGANJ1 ┆ -2.589    ┆ 1.0       ┆ … ┆ null      ┆ null      ┆ null      ┆ null      │\n",
       "│ 2014-01-02 ┆ ARGANQ1 ┆ -2.589    ┆ 1.0       ┆ … ┆ 0.512     ┆ null      ┆ null      ┆ 0.488     │\n",
       "│ …          ┆ …       ┆ …         ┆ …         ┆ … ┆ …         ┆ …         ┆ …         ┆ …         │\n",
       "│ 2025-03-07 ┆ USBQZG1 ┆ -0.782    ┆ 1.0       ┆ … ┆ null      ┆ null      ┆ null      ┆ null      │\n",
       "│ 2025-03-07 ┆ USBQZQ1 ┆ 0.189     ┆ 1.0       ┆ … ┆ null      ┆ null      ┆ null      ┆ null      │\n",
       "│ 2025-03-07 ┆ USBQZR1 ┆ -0.735    ┆ 1.0       ┆ … ┆ null      ┆ null      ┆ null      ┆ null      │\n",
       "│ 2025-03-07 ┆ USBQZV1 ┆ -0.718    ┆ 1.0       ┆ … ┆ null      ┆ null      ┆ null      ┆ null      │\n",
       "│ 2025-03-07 ┆ USBQZX1 ┆ 0.316     ┆ 1.0       ┆ … ┆ null      ┆ null      ┆ null      ┆ null      │\n",
       "└────────────┴─────────┴───────────┴───────────┴───┴───────────┴───────────┴───────────┴───────────┘"
      ]
     },
     "metadata": {},
     "output_type": "display_data"
    }
   ],
   "source": [
    "with Database() as db:\n",
    "    display(db.execute(\"SELECT * FROM exposures_wide ORDER BY date, barrid;\").pl())"
   ]
  },
  {
   "cell_type": "code",
   "execution_count": null,
   "metadata": {},
   "outputs": [],
   "source": []
  }
 ],
 "metadata": {
  "kernelspec": {
   "display_name": ".venv",
   "language": "python",
   "name": "python3"
  },
  "language_info": {
   "codemirror_mode": {
    "name": "ipython",
    "version": 3
   },
   "file_extension": ".py",
   "mimetype": "text/x-python",
   "name": "python",
   "nbconvert_exporter": "python",
   "pygments_lexer": "ipython3",
   "version": "3.11.11"
  }
 },
 "nbformat": 4,
 "nbformat_minor": 2
}
